{
 "cells": [
  {
   "cell_type": "code",
   "execution_count": 1,
   "id": "e18ad3e6-cf34-4999-bb01-9eef70f83fc3",
   "metadata": {},
   "outputs": [],
   "source": [
    "import logging\n",
    "import os\n",
    "import psutil\n",
    "from typing import List\n",
    "from langchain_core.documents import Document\n",
    "from langchain_community.document_loaders import TextLoader\n",
    "from langchain.text_splitter import RecursiveCharacterTextSplitter\n",
    "from langchain_community.vectorstores import FAISS\n",
    "from langchain_community.embeddings import HuggingFaceEmbeddings\n",
    "from langchain.chains import create_retrieval_chain\n",
    "from langchain.chains.combine_documents import create_stuff_documents_chain\n",
    "from langchain_core.prompts import ChatPromptTemplate\n",
    "from langchain_core.runnables import RunnablePassthrough\n",
    "from langchain_community.llms import Ollama\n",
    "from langchain_huggingface import HuggingFaceEmbeddings"
   ]
  },
  {
   "cell_type": "code",
   "execution_count": 2,
   "id": "3f2b57ab-6c27-43b8-8022-c0a89ecbe0f3",
   "metadata": {},
   "outputs": [],
   "source": [
    "class RAGPipeline: \n",
    "    \n",
    "    def __init__(self):\n",
    "        self.setup_logging()\n",
    "        self.embeddings = HuggingFaceEmbeddings(model_name=\"sentence-transformers/all-mpnet-base-v2\")\n",
    "        self.llm = Ollama(model=\"deepseek-r1:8b\")\n",
    "        self.text_splitter = RecursiveCharacterTextSplitter(chunk_size=1000, chunk_overlap=200)\n",
    "        \n",
    "    def setup_logging(self):\n",
    "        logging.basicConfig(level=logging.INFO, format='%(asctime)s - %(levelname)s - %(message)s')\n",
    "        \n",
    "    def load_and_split_documents(self, file_path: str) -> List[Document]:\n",
    "        self.log_memory_usage(\"Before loading documents\")\n",
    "        loader = TextLoader(file_path)\n",
    "        data = loader.load()\n",
    "        self.log_memory_usage(\"After loading documents\")\n",
    "        documents = self.text_splitter.split_documents(data)\n",
    "        self.log_memory_usage(\"After splitting documents\")\n",
    "        return documents\n",
    "        \n",
    "    def create_vector_store(self, documents: List[Document]) -> FAISS:\n",
    "        db = FAISS.from_documents(documents, self.embeddings)\n",
    "        self.log_memory_usage(\"After creating vector store\")\n",
    "        return db\n",
    "        \n",
    "    def setup_retrieval_chain(self, db: FAISS):\n",
    "        prompt = ChatPromptTemplate.from_template(\"\"\"\n",
    "        Answer the following question based on the context provided:\n",
    "        <context>\n",
    "        {context}\n",
    "        </context>\n",
    "        Question: {input}\n",
    "        \"\"\")\n",
    "        \n",
    "        document_chain = create_stuff_documents_chain(llm=self.llm, prompt=prompt)\n",
    "        retriever = db.as_retriever()\n",
    "        retrieval_chain = create_retrieval_chain(retriever, document_chain)\n",
    "        return retrieval_chain\n",
    "        \n",
    "    def query_model(self, retrieval_chain, query: str):\n",
    "        self.log_memory_usage(\"Before executing query\")\n",
    "        response = retrieval_chain.invoke({\"input\": query})\n",
    "        self.log_memory_usage(\"After executing query\")\n",
    "        return response['answer']\n",
    "\n",
    "    def log_memory_usage(self, stage: str):\n",
    "        process = psutil.Process(os.getpid())\n",
    "        memory_info = process.memory_info()\n",
    "        logging.info(f\"{stage}: Memory usage - {memory_info.rss / (1024 * 1024):.2f} MB\")"
   ]
  },
  {
   "cell_type": "code",
   "execution_count": null,
   "id": "1f7b1f02-705c-4a17-a5cf-4d9950eb5cef",
   "metadata": {},
   "outputs": [
    {
     "name": "stderr",
     "output_type": "stream",
     "text": [
      "/home/durga/Hw4/hw4/lib/python3.8/site-packages/sentence_transformers/cross_encoder/CrossEncoder.py:13: TqdmWarning: IProgress not found. Please update jupyter and ipywidgets. See https://ipywidgets.readthedocs.io/en/stable/user_install.html\n",
      "  from tqdm.autonotebook import tqdm, trange\n",
      "2025-04-24 21:52:47,940 - INFO - Use pytorch device_name: cuda\n",
      "2025-04-24 21:52:47,940 - INFO - Load pretrained SentenceTransformer: sentence-transformers/all-mpnet-base-v2\n",
      "2025-04-24 21:52:48,463 - INFO - Before loading documents: Memory usage - 728.00 MB\n",
      "2025-04-24 21:52:48,464 - INFO - After loading documents: Memory usage - 728.00 MB\n",
      "2025-04-24 21:52:48,465 - INFO - After splitting documents: Memory usage - 728.00 MB\n",
      "2025-04-24 21:52:48,613 - INFO - Loading faiss with AVX2 support.\n",
      "2025-04-24 21:52:48,614 - INFO - Could not load library with AVX2 support due to:\n",
      "ModuleNotFoundError(\"No module named 'faiss.swigfaiss_avx2'\")\n",
      "2025-04-24 21:52:48,614 - INFO - Loading faiss.\n",
      "2025-04-24 21:52:48,625 - INFO - Successfully loaded faiss.\n",
      "2025-04-24 21:52:48,626 - INFO - After creating vector store: Memory usage - 1017.34 MB\n",
      "2025-04-24 21:52:48,628 - INFO - Before executing query: Memory usage - 1017.34 MB\n"
     ]
    }
   ],
   "source": [
    "if __name__ == \"__main__\":\n",
    "    pipeline = RAGPipeline()\n",
    "    file_path = \"Docmid_report.txt\"\n",
    "    documents = pipeline.load_and_split_documents(file_path)\n",
    "    db = pipeline.create_vector_store(documents) \n",
    "    retrieval_chain = pipeline.setup_retrieval_chain(db)\n",
    "    \n",
    "    query = \"What is the function of compute_metrics?\"\n",
    "    answer = pipeline.query_model(retrieval_chain, query)\n",
    "    print(f\"Answer: {answer}\")"
   ]
  },
  {
   "cell_type": "code",
   "execution_count": null,
   "id": "5a6da1de-e5b2-4717-811a-0e6fb8cda592",
   "metadata": {},
   "outputs": [],
   "source": []
  }
 ],
 "metadata": {
  "kernelspec": {
   "display_name": "HW4",
   "language": "python",
   "name": "myenv"
  },
  "language_info": {
   "codemirror_mode": {
    "name": "ipython",
    "version": 3
   },
   "file_extension": ".py",
   "mimetype": "text/x-python",
   "name": "python",
   "nbconvert_exporter": "python",
   "pygments_lexer": "ipython3",
   "version": "3.8.10"
  }
 },
 "nbformat": 4,
 "nbformat_minor": 5
}
