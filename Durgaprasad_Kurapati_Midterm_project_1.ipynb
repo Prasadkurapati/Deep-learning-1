{
  "cells": [
    {
      "cell_type": "markdown",
      "id": "bbebd68e-221f-4bbf-ba53-c55cd8cd7689",
      "metadata": {
        "id": "bbebd68e-221f-4bbf-ba53-c55cd8cd7689"
      },
      "source": [
        "#### This notebook illustrates transfer-learning of a T5 model using IWSLT with English and French"
      ]
    },
    {
      "cell_type": "code",
      "execution_count": null,
      "id": "8fce7f20-8076-41b1-90c2-a0041d45a42e",
      "metadata": {
        "id": "8fce7f20-8076-41b1-90c2-a0041d45a42e"
      },
      "outputs": [],
      "source": [
        "import warnings\n",
        "warnings.filterwarnings(\"ignore\")"
      ]
    },
    {
      "cell_type": "markdown",
      "id": "8d8db632-e9d9-4b34-accb-319684f6c64f",
      "metadata": {
        "id": "8d8db632-e9d9-4b34-accb-319684f6c64f"
      },
      "source": [
        "# HuggingFace login"
      ]
    },
    {
      "cell_type": "code",
      "execution_count": null,
      "id": "f67dabf1-a17a-49b0-8425-70d3ed6128e6",
      "metadata": {
        "colab": {
          "referenced_widgets": [
            "67bbeecd11f94f89bcac23f14f93bf03",
            "894d858a61304f9d97db52a6b562c5b7"
          ]
        },
        "id": "f67dabf1-a17a-49b0-8425-70d3ed6128e6",
        "outputId": "c984bad3-b771-486c-90ff-e3a5928bf447"
      },
      "outputs": [
        {
          "data": {
            "application/vnd.jupyter.widget-view+json": {
              "model_id": "894d858a61304f9d97db52a6b562c5b7",
              "version_major": 2,
              "version_minor": 0
            },
            "text/plain": [
              "VBox(children=(HTML(value='<center> <img\\nsrc=https://huggingface.co/front/assets/huggingface_logo-noborder.sv…"
            ]
          },
          "metadata": {},
          "output_type": "display_data"
        }
      ],
      "source": [
        "from huggingface_hub import notebook_login\n",
        "notebook_login()"
      ]
    },
    {
      "cell_type": "markdown",
      "id": "UI0oXkHNRFrF",
      "metadata": {
        "id": "UI0oXkHNRFrF"
      },
      "source": [
        "# Load data"
      ]
    },
    {
      "cell_type": "markdown",
      "id": "BlXiASx2VnGc",
      "metadata": {
        "id": "BlXiASx2VnGc"
      },
      "source": [
        "\n",
        "`datasets.ReadInstruction` give a instruction to loaddataset about the specifics of the data that needs to be loaded\n",
        "`'train'` train means get train data, `to=50`and `unit=%`  means get the first $50 \\%$\n",
        "\n",
        "`load_dataset` this loads the dataset `language_pair=(\"en\", \"fr\")` means translaion data from english to french  `year=\"2016\"` means the 2016 version of data\n",
        "\n",
        "We used this to get the trainig dataset"
      ]
    },
    {
      "cell_type": "code",
      "execution_count": null,
      "id": "3e09344c-5450-4b93-bac5-d8e4048013cb",
      "metadata": {
        "id": "3e09344c-5450-4b93-bac5-d8e4048013cb",
        "scrolled": true
      },
      "outputs": [],
      "source": [
        "import torch\n",
        "import datasets\n",
        "from datasets import load_dataset"
      ]
    },
    {
      "cell_type": "markdown",
      "id": "TvzpfNPnRWDA",
      "metadata": {
        "id": "TvzpfNPnRWDA"
      },
      "source": [
        "## Train data"
      ]
    },
    {
      "cell_type": "markdown",
      "id": "90OwuP3vVi8l",
      "metadata": {
        "id": "90OwuP3vVi8l"
      },
      "source": []
    },
    {
      "cell_type": "code",
      "execution_count": null,
      "id": "R1EyTOAcRUAo",
      "metadata": {
        "colab": {
          "base_uri": "https://localhost:8080/",
          "height": 220,
          "referenced_widgets": [
            "4d80787098e54258bb884e2dfcee35a2",
            "4e4482d3f5b64a5dbe94449119a9a48d",
            "004be5ed9fa64184bab45be45f6dd120",
            "8b44fc67edd64c698e161fad20715169",
            "56a34d9aeb3b4f5ab766a9a7a46a5e8a",
            "34e204f6169d4ca4bfa7228b338ca190",
            "4ba721a2830b433eaf251d0f7b6b4513",
            "5aa18cbcb53c410e9da87acb40c004e3",
            "58f31e9c2929463589298999e142d4cd",
            "d6b7f51f677948a990a20c1f813dcd23",
            "c080410a371248fa966d4b2fb38040dc",
            "dbe5214290334e5983b34a095ee4d2d1",
            "e2655ebbd7b44c1e8ad715c7083f16bf",
            "f420d94581f4481797e28a5081a19e33",
            "747e9878a23346a8b5ebd918c1a5d45d",
            "a6afed03b12d45f596362fd6e804dece",
            "6f6a27de51804b6ca41f7cd5fb1d8cc3",
            "818c428e29744dbea62354d001a480d0",
            "1c6ff94cdb8247d4b7e728bed2442f01",
            "ef5d13cff7494d3da898a38c6cba6ea5",
            "6d9690ad692447d8b5f51d7525f519c1",
            "308d226e28ac46568d11e1e39205069c"
          ]
        },
        "id": "R1EyTOAcRUAo",
        "outputId": "c9453a40-a68e-4459-8db7-57fb6b9c7ee1"
      },
      "outputs": [
        {
          "name": "stdout",
          "output_type": "stream",
          "text": [
            "Dataset({\n",
            "    features: ['translation'],\n",
            "    num_rows: 2035\n",
            "})\n"
          ]
        }
      ],
      "source": [
        "ri = (datasets.ReadInstruction('train', to=50, unit='%'))#+\n",
        "train_0_50pct_ds = load_dataset(\"IWSLT/ted_talks_iwslt\", language_pair=(\"en\", \"fr\"), year=\"2016\", split=ri)\n",
        "print(train_0_50pct_ds)"
      ]
    },
    {
      "cell_type": "markdown",
      "id": "C5RDsE4KRX-u",
      "metadata": {
        "id": "C5RDsE4KRX-u"
      },
      "source": [
        "## Test Data"
      ]
    },
    {
      "cell_type": "code",
      "execution_count": null,
      "id": "958b19a3-f89c-4d15-a2d5-280de946557e",
      "metadata": {
        "id": "958b19a3-f89c-4d15-a2d5-280de946557e"
      },
      "outputs": [],
      "source": [
        "ri = (datasets.ReadInstruction('train', from_=95, unit='%')) #\n",
        "test_95_100pct_ds = load_dataset(\"IWSLT/ted_talks_iwslt\", language_pair=(\"en\", \"fr\"), year=\"2016\", split=ri)"
      ]
    },
    {
      "cell_type": "code",
      "execution_count": null,
      "id": "0d6592a8-f36f-4d5d-b312-3d99d54b71cf",
      "metadata": {
        "colab": {
          "base_uri": "https://localhost:8080/"
        },
        "id": "0d6592a8-f36f-4d5d-b312-3d99d54b71cf",
        "outputId": "eb3752b9-3656-4820-c482-9e7dc91994e1"
      },
      "outputs": [
        {
          "data": {
            "text/plain": [
              "Dataset({\n",
              "    features: ['translation'],\n",
              "    num_rows: 204\n",
              "})"
            ]
          },
          "execution_count": 6,
          "metadata": {},
          "output_type": "execute_result"
        }
      ],
      "source": [
        "test_95_100pct_ds"
      ]
    },
    {
      "cell_type": "code",
      "execution_count": null,
      "id": "25ea77c2-1120-4f9d-b89c-09f9b4f8b771",
      "metadata": {
        "colab": {
          "base_uri": "https://localhost:8080/"
        },
        "id": "25ea77c2-1120-4f9d-b89c-09f9b4f8b771",
        "outputId": "935f3e0a-6af7-42b4-b02a-f3a849f3149d"
      },
      "outputs": [
        {
          "data": {
            "text/plain": [
              "{'en': 'What happens when a black man visits Aspen? Singer/songwriter Stew and his band are about to let you know.',\n",
              " 'fr': 'Que se passe-t-il quand un noir visite Aspen? L\\'auteur-compositeur-interprète Stew est sur le point de vous le faire découvrir, avec l\\'humour acide et intelligent qui caractérise son travail. (Indice : \"c\\'est un pays des merveilles d\\'hiver dans l\\'antre de la bête\"). Stew est accompagné sur scène par Heidi Rodewald à la basse et Jon Spurney au clavier et à la guitare.'}"
            ]
          },
          "execution_count": 7,
          "metadata": {},
          "output_type": "execute_result"
        }
      ],
      "source": [
        "test_95_100pct_ds[0]['translation']"
      ]
    },
    {
      "cell_type": "markdown",
      "id": "1zZvcwirRaU9",
      "metadata": {
        "id": "1zZvcwirRaU9"
      },
      "source": [
        "## Validation data"
      ]
    },
    {
      "cell_type": "code",
      "execution_count": null,
      "id": "4BpU2DNKRcvp",
      "metadata": {
        "id": "4BpU2DNKRcvp"
      },
      "outputs": [],
      "source": [
        "ri = (datasets.ReadInstruction('train', from_=95, unit='%')) #\n",
        "val2014_95_100pct_ds = load_dataset(\"IWSLT/ted_talks_iwslt\", language_pair=(\"en\", \"fr\"), year=\"2014\", split=ri)"
      ]
    },
    {
      "cell_type": "code",
      "execution_count": null,
      "id": "LpnRCRw5Rclo",
      "metadata": {
        "id": "LpnRCRw5Rclo"
      },
      "outputs": [],
      "source": [
        "ri = (datasets.ReadInstruction('train', from_=95, unit='%')) #\n",
        "val2015_95_100pct_ds = load_dataset(\"IWSLT/ted_talks_iwslt\", language_pair=(\"en\", \"fr\"), year=\"2015\", split=ri)"
      ]
    },
    {
      "cell_type": "code",
      "execution_count": null,
      "id": "Pt2O9rYcRxE4",
      "metadata": {
        "id": "Pt2O9rYcRxE4"
      },
      "outputs": [],
      "source": [
        "validation_dataset = datasets.concatenate_datasets([val2014_95_100pct_ds, val2015_95_100pct_ds])"
      ]
    },
    {
      "cell_type": "markdown",
      "id": "UMekf4zNR3jc",
      "metadata": {
        "id": "UMekf4zNR3jc"
      },
      "source": [
        "## Model and Tokenizer"
      ]
    },
    {
      "cell_type": "markdown",
      "id": "ebbcbb14-6813-4085-83ff-f9b425646d45",
      "metadata": {
        "id": "ebbcbb14-6813-4085-83ff-f9b425646d45"
      },
      "source": [
        "#### get the model and tokenizer"
      ]
    },
    {
      "cell_type": "code",
      "execution_count": null,
      "id": "8df3ca31-d0d0-4207-8b6f-064773b4b5c7",
      "metadata": {
        "colab": {
          "base_uri": "https://localhost:8080/",
          "height": 246,
          "referenced_widgets": [
            "d4cb3a3218084d98be57efa13dfd9bcc",
            "b8704e15c57d49b0914de415fccf7a26",
            "7026618e38044449aca5c3cbfec8a36e",
            "df871ef75d1949b39a8d689cede1c08c",
            "548cbf0abf0541909f0178cee2905e1e",
            "007899a9aec24843989e150c74e74c04",
            "eb633ec231954362a15ab48cd93e55d3",
            "19640cef1ff1403e8631d0055c524f7f",
            "01d1635016ff42b9b3b6bb9be58623d0",
            "039076bf279e4c5aab93ec81a20e4481",
            "3162d3059a594ec68ca6b8bbb24bc9e4",
            "6258ebece6fb4c11bd138291060e80b5",
            "c0a4e7dd626f4041a52323a30d90cf5f",
            "24c45ae65b92415d9e81b16bac0662ac",
            "eb94e3eeb1ed4834b24f38e729064c9d",
            "0eee36d0d1a8481e8f5f751d1c444937",
            "fc81d299e9ef48ba850f529e4b94c12a",
            "e48f55eb3cbd47b2b45e1e493989fd33",
            "0d8f1a5f72194d5aa6589dce8b1f4dc3",
            "57cb0b6c13644005b12b4943ad2d822f",
            "b3766359183e456eb686a8bd04144eda",
            "5e10937e7fc34026b24da7d7072cbeb9",
            "eab4707a09eb4f988d42b6e3b5d131e4",
            "f122c739a97e4098b0d46e6f98c1aa42",
            "eab18b3c1e204978a35829d00f81af6e",
            "190c5a83fc8e4e72be77afa9a1cc02c2",
            "917cecfb01bd42d2a5b9026ebbcaae4e",
            "027320eed74a401984513d041785c959",
            "3be58927fcaa4d538306d6ccab8b686c",
            "a6ea15f49f1b46a7991fe2a016321891",
            "66fc24681a1d45ee81e6b304242b05c9",
            "a04acdf0771247088d33ad908e6cf6c2",
            "7b6512ea230642f085ad7e8a526f0f50",
            "887997b71ed3423088c044c818354db9",
            "4976e5fe83454e2ab1274a2c3920d442",
            "dbb012bb436c4e94a5e27a71cc4d35b9",
            "f5fd9d571de14ce4b08265e6ae298ec2",
            "a8b54cd868cf485a91615e02d8f82f31",
            "db7a2996f0a74f428a8036cee274125e",
            "bbcc58b6bcee483d84ac39bd3da47047",
            "55bb85f1eabf4b0ea303f1db31e6946d",
            "a8c182f3e0904d399b65415800b4b1c9",
            "943d385eb68646f9b1b5577337b83b44",
            "0532ff03362a463ab23eb1418e128a44",
            "5ba1a151ac5149e69fc124698cd2445f",
            "97c199d17b2f4b3a827df5a8287d82db",
            "25cc95acf5424f44b981cf9939674810",
            "70204254a7fc4420ab1455cc1327f632",
            "a33496ceed0e4a27a04ebfe4a2aff7df",
            "599174c809774c6fa57cfa89f316138d",
            "04772342a72443cf88d5260a602c86f2",
            "f0dff508d07f47d2b4801e0e2f6cd74e",
            "3f2b380dbed14e4d867a8e19b10b79fb",
            "a15d85ee7aa54bbda08dca9d6587cf67",
            "d6b2722fd9854d7faa089b41d36f0ea9",
            "bf59f42867cb4f588884603744453b01",
            "38311775bd914fd48cb713217447ab2d",
            "ebdf060999214158b66f9e286bb0f32f",
            "4ae7866ef9cc4c8fbed95453a2964cb6",
            "8de2a832423d423ca460c9ae4c48a4a6",
            "08441e841b654150a9ff57e930147216",
            "f1aab4b6ad2c4ffd9da72fb18cad7022",
            "dc4662a812fb448188a1127ccd427acb",
            "5e5d045707234dd194dbd920247e8be5",
            "3b3c46118ae943739122d30e33b66baa",
            "96aca88cbd444bad80cf97cd4a8d5d7c"
          ]
        },
        "id": "8df3ca31-d0d0-4207-8b6f-064773b4b5c7",
        "outputId": "27776231-55d9-43fe-cd32-b2f7b7847071",
        "scrolled": true
      },
      "outputs": [
        {
          "name": "stderr",
          "output_type": "stream",
          "text": [
            "You are using the default legacy behaviour of the <class 'transformers.models.t5.tokenization_t5.T5Tokenizer'>. This is expected, and simply means that the `legacy` (previous) behavior will be used so nothing changes for you. If you want to use the new behaviour, set `legacy=False`. This should only be set if you understand what it means, and thoroughly read the reason why this was added as explained in https://github.com/huggingface/transformers/pull/24565\n"
          ]
        }
      ],
      "source": [
        "from transformers import T5ForConditionalGeneration, T5Tokenizer\n",
        "checkpoint = \"google-t5/t5-small\"\n",
        "modelname='t5-small'\n",
        "model = T5ForConditionalGeneration.from_pretrained(modelname)\n",
        "tokenizer = T5Tokenizer.from_pretrained(modelname)"
      ]
    },
    {
      "cell_type": "markdown",
      "id": "6e060ea1-38c7-4849-b039-f1d2bca3ecec",
      "metadata": {
        "id": "6e060ea1-38c7-4849-b039-f1d2bca3ecec"
      },
      "source": [
        "#### look at the structure of datapoints"
      ]
    },
    {
      "cell_type": "code",
      "execution_count": null,
      "id": "f832a613-f944-4f18-ae3f-177b8526ab4a",
      "metadata": {
        "colab": {
          "base_uri": "https://localhost:8080/"
        },
        "id": "f832a613-f944-4f18-ae3f-177b8526ab4a",
        "outputId": "03e04b09-67e1-4492-bfe7-4e9486b9a1b5"
      },
      "outputs": [
        {
          "name": "stderr",
          "output_type": "stream",
          "text": [
            "100%|█████████████████████████████████████████| 20/20 [00:00<00:00, 3551.94it/s]"
          ]
        },
        {
          "name": "stdout",
          "output_type": "stream",
          "text": [
            "0 What happens when a black man visits Aspen? Singer/songwriter Stew and his band are about to let you know.\n",
            "0 {'input_ids': [363, 2906, 116, 3, 9, 1001, 388, 8305, 282, 3208, 58, 24366, 87, 21101, 3557, 210, 11, 112, 1928, 33, 81, 12, 752, 25, 214, 5, 1], 'attention_mask': [1, 1, 1, 1, 1, 1, 1, 1, 1, 1, 1, 1, 1, 1, 1, 1, 1, 1, 1, 1, 1, 1, 1, 1, 1, 1, 1], 'labels': [7227, 142, 8063, 18, 17, 18, 173, 4679, 73, 9691, 13497, 282, 3208, 58, 301, 31, 9474, 18, 287, 19882, 5348, 18, 3870, 102, 52, 9831, 3557, 210, 259, 244, 90, 500, 20, 327, 90, 1143, 7698, 6, 393, 3, 40, 31, 4884, 1211, 3562, 15, 3, 15, 17, 7951, 285, 26561, 15, 520, 2954, 5, 41, 1570, 26, 867, 3, 10, 96, 75, 31, 222, 73, 3277, 93, 27015, 7, 3, 26, 31, 15123, 247, 3, 40, 31, 288, 60, 20, 50, 3, 115, 7425, 15, 121, 137, 3557, 210, 259, 20342, 244, 12739, 260, 30640, 8222, 15, 11611, 3, 85, 50, 19379, 3, 15, 17, 8178, 17740, 3186, 185, 3, 18780, 972, 3, 15, 17, 3, 85, 50, 5507, 15, 5, 1]}\n",
            "1 Stew: \"Black Men Ski\"\n",
            "1 {'input_ids': [3557, 210, 10, 96, 20096, 3137, 7409, 121, 1], 'attention_mask': [1, 1, 1, 1, 1, 1, 1, 1, 1], 'labels': [3557, 210, 3, 5367, 15, 96, 20096, 3137, 7409, 121, 13308, 2796, 7, 9691, 7, 5210, 295, 8512, 1]}\n",
            "2 Google co-founders Larry Page and Sergey Brin offer a peek inside the Google machine, sharing tidbits about international search patterns, the philanthropic Google Foundation, and the company's dedication to innovation and employee happiness.\n",
            "2 {'input_ids': [1163, 576, 18, 14435, 7, 17129, 5545, 11, 20843, 63, 7834, 29, 462, 3, 9, 20584, 1096, 8, 1163, 1437, 6, 2178, 3, 17, 23, 26, 2360, 7, 81, 1038, 960, 4264, 6, 8, 3, 18118, 152, 8514, 6174, 1163, 2941, 6, 11, 8, 349, 31, 7, 12365, 12, 4337, 11, 3490, 8800, 5, 1], 'attention_mask': [1, 1, 1, 1, 1, 1, 1, 1, 1, 1, 1, 1, 1, 1, 1, 1, 1, 1, 1, 1, 1, 1, 1, 1, 1, 1, 1, 1, 1, 1, 1, 1, 1, 1, 1, 1, 1, 1, 1, 1, 1, 1, 1, 1, 1, 1, 1, 1, 1, 1, 1, 1, 1, 1, 1], 'labels': [622, 3, 29725, 7, 20, 1163, 6, 17129, 5545, 3, 15, 17, 20843, 63, 7834, 29, 678, 7616, 245, 27704, 247, 3, 40, 31, 7846, 1163, 5, 7503, 16762, 29, 17, 93, 46, 15, 75, 26, 32, 1422, 244, 90, 10554, 20, 3895, 1038, 6, 50, 3036, 257, 3, 18118, 152, 8514, 102, 1495, 1163, 3, 15, 17, 50, 1543, 1163, 20, 3895, 399, 3890, 17, 76, 693, 3, 26, 31, 23457, 3, 15, 17, 20, 20991, 93, 3, 23688, 7, 5, 1]}\n",
            "3 Sergey Brin + Larry Page: The genesis of Google\n",
            "3 {'input_ids': [20843, 63, 7834, 29, 1768, 17129, 5545, 10, 37, 3, 21715, 13, 1163, 1], 'attention_mask': [1, 1, 1, 1, 1, 1, 1, 1, 1, 1, 1, 1, 1, 1], 'labels': [20843, 63, 7834, 29, 3, 15, 17, 17129, 5545, 260, 6987, 20, 1163, 1]}\n",
            "4 Violinist Natalie MacMaster and TED Musical Director Thomas Dolby play Dolby’s original song “Blue Is a River” in this ethereal duet -- with a little dancing.\n",
            "4 {'input_ids': [1813, 12057, 343, 26983, 2143, 20608, 11, 3, 11430, 22307, 2578, 3576, 531, 40, 969, 577, 531, 40, 969, 22, 7, 926, 2324, 105, 22530, 27, 7, 3, 9, 2473, 153, 16, 48, 3, 15, 12137, 138, 788, 17, 1636, 28, 3, 9, 385, 10410, 5, 1], 'attention_mask': [1, 1, 1, 1, 1, 1, 1, 1, 1, 1, 1, 1, 1, 1, 1, 1, 1, 1, 1, 1, 1, 1, 1, 1, 1, 1, 1, 1, 1, 1, 1, 1, 1, 1, 1, 1, 1, 1, 1, 1, 1, 1, 1, 1, 1, 1, 1], 'labels': [325, 3, 11275, 32, 10347, 26983, 2143, 20608, 3, 15, 17, 90, 19305, 4183, 20, 3, 11430, 3576, 531, 40, 969, 3, 8921, 295, 50, 22575, 926, 15, 673, 11805, 76, 259, 73, 5766, 15, 76, 162, 1168, 247, 197, 788, 17, 3, 154, 189, 7506, 1636, 393, 245, 6882, 247, 15, 5, 1]}\n",
            "5 Natalie MacMaster: Cape Breton fiddling in reel time\n",
            "5 {'input_ids': [26983, 2143, 20608, 10, 9702, 3004, 17, 106, 361, 19955, 16, 14495, 97, 1], 'attention_mask': [1, 1, 1, 1, 1, 1, 1, 1, 1, 1, 1, 1, 1, 1], 'labels': [26983, 2143, 20608, 17478, 146, 3, 11275, 106, 3, 35, 1993, 96, 60, 15, 40, 121, 1]}\n",
            "6 Chris Anderson, then the editor of Wired, explores the four key stages of any viable technology: setting the right price, gaining market share, displacing an established technology and, finally, becoming ubiquitous.\n",
            "6 {'input_ids': [4409, 11825, 6, 258, 8, 6005, 13, 2142, 1271, 6, 2075, 7, 8, 662, 843, 6518, 13, 136, 15109, 748, 10, 1898, 8, 269, 594, 6, 3, 11866, 512, 698, 6, 3, 10475, 9700, 53, 46, 2127, 748, 11, 6, 2031, 6, 2852, 29840, 5, 1], 'attention_mask': [1, 1, 1, 1, 1, 1, 1, 1, 1, 1, 1, 1, 1, 1, 1, 1, 1, 1, 1, 1, 1, 1, 1, 1, 1, 1, 1, 1, 1, 1, 1, 1, 1, 1, 1, 1, 1, 1, 1, 1, 1, 1, 1, 1, 1, 1], 'labels': [4409, 11825, 6, 90, 1417, 26, 9, 14341, 3, 35, 6380, 20, 12116, 13729, 6, 2075, 110, 12081, 17258, 3, 22169, 20, 2633, 3, 13148, 15109, 3, 10, 3, 21246, 450, 49, 90, 2682, 3407, 6, 18576, 93, 1467, 20, 6183, 3, 60, 51, 4687, 52, 245, 3, 13148, 3, 154, 10309, 1896, 3, 15, 17, 6, 3, 13722, 6, 15144, 3, 16378, 16280, 7, 4617, 5, 1]}\n",
            "7 Chris Anderson: Technology's long tail\n",
            "7 {'input_ids': [4409, 11825, 10, 3669, 31, 7, 307, 9891, 1], 'attention_mask': [1, 1, 1, 1, 1, 1, 1, 1, 1], 'labels': [4409, 11825, 20, 2142, 1271, 244, 50, 3230, 76, 15, 3083, 3851, 15, 30009, 1]}\n",
            "8 Featuring the vocals and mischievous bell-playing of accordionist and singer Rachelle Garniez, the TED House Band -- led by Thomas Dolby on keyboard -- delivers this delightful rendition of the Edith Piaf standard \"La Vie en Rose.\"\n",
            "8 {'input_ids': [3, 18772, 8, 6721, 7, 11, 1817, 9781, 3249, 12815, 18, 4895, 53, 13, 4408, 23814, 11, 7634, 15868, 109, 3121, 29, 12523, 6, 8, 3, 11430, 1384, 4483, 1636, 2237, 57, 3576, 531, 40, 969, 30, 8680, 1636, 9250, 48, 14603, 30839, 13, 8, 11664, 107, 2745, 9, 89, 1068, 96, 3612, 1813, 15, 3, 35, 5088, 535, 1], 'attention_mask': [1, 1, 1, 1, 1, 1, 1, 1, 1, 1, 1, 1, 1, 1, 1, 1, 1, 1, 1, 1, 1, 1, 1, 1, 1, 1, 1, 1, 1, 1, 1, 1, 1, 1, 1, 1, 1, 1, 1, 1, 1, 1, 1, 1, 1, 1, 1, 1, 1, 1, 1, 1, 1, 1, 1, 1, 1, 1, 1, 1], 'labels': [4292, 287, 11057, 29, 154, 260, 50, 16153, 3, 15, 17, 90, 11798, 20, 3, 3903, 2951, 16159, 23, 5115, 3537, 20, 3, 40, 31, 11067, 154, 32, 10347, 3, 15, 17, 3, 5367, 15, 1074, 15868, 109, 3121, 29, 12523, 6, 90, 3, 11430, 1384, 4483, 3, 18, 13389, 260, 3576, 531, 40, 969, 185, 3, 18780, 972, 3, 18, 678, 6874, 245, 3, 7, 16195, 15, 1074, 988, 146, 1068, 3, 26, 31, 26527, 107, 2745, 9, 89, 6, 96, 3612, 1813, 15, 3, 35, 5088, 1280, 1]}\n",
            "9 Rachelle Garniez: \"La Vie en Rose\"\n",
            "9 {'input_ids': [15868, 109, 3121, 29, 12523, 10, 96, 3612, 1813, 15, 3, 35, 5088, 121, 1], 'attention_mask': [1, 1, 1, 1, 1, 1, 1, 1, 1, 1, 1, 1, 1, 1, 1], 'labels': [3576, 531, 40, 969, 3, 15, 17, 15868, 109, 3121, 29, 12523, 1]}\n",
            "10 Satirist Tom Rielly delivers a wicked parody of the 2006 TED conference, taking down the $100 laptop, the plight of the polar bear, and people who mention, one too many times, that they work at Harvard. Watch for a special moment between Tom and Al Gore.\n",
            "10 {'input_ids': [8821, 24804, 17, 3059, 3, 24767, 6073, 9250, 3, 9, 25972, 260, 9666, 13, 8, 3581, 3, 11430, 2542, 6, 838, 323, 8, 10417, 4544, 6, 8, 3, 102, 2242, 13, 8, 3, 9618, 4595, 6, 11, 151, 113, 2652, 6, 80, 396, 186, 648, 6, 24, 79, 161, 44, 13199, 5, 4195, 21, 3, 9, 534, 798, 344, 3059, 11, 901, 1263, 60, 5, 1], 'attention_mask': [1, 1, 1, 1, 1, 1, 1, 1, 1, 1, 1, 1, 1, 1, 1, 1, 1, 1, 1, 1, 1, 1, 1, 1, 1, 1, 1, 1, 1, 1, 1, 1, 1, 1, 1, 1, 1, 1, 1, 1, 1, 1, 1, 1, 1, 1, 1, 1, 1, 1, 1, 1, 1, 1, 1, 1, 1, 1, 1, 1, 1, 1, 1, 1, 1, 1], 'labels': [312, 3, 7, 9, 20408, 849, 3059, 3, 24767, 6073, 678, 6874, 245, 260, 32, 2498, 1460, 447, 19331, 20, 50, 19610, 3, 11430, 460, 3539, 6, 3, 35, 27202, 40, 10692, 110, 3, 17260, 7, 6262, 7, 3, 85, 910, 3740, 6, 90, 3, 1489, 208, 2378, 93, 69, 7, 3, 3233, 4803, 6, 3, 15, 17, 110, 11598, 285, 2652, 29, 295, 245, 2529, 20, 5227, 546, 31, 1558, 2954, 6987, 3, 85, 13199, 5, 2846, 1954, 172, 923, 90, 798, 8866, 1721, 3059, 3, 15, 17, 901, 1263, 60, 5, 1]}\n",
            "11 Tom Rielly: A comic sendup of TED2006\n",
            "11 {'input_ids': [3059, 3, 24767, 6073, 10, 71, 7967, 1299, 413, 13, 3, 11430, 21196, 1], 'attention_mask': [1, 1, 1, 1, 1, 1, 1, 1, 1, 1, 1, 1, 1, 1], 'labels': [3059, 3, 24767, 6073, 678, 6874, 245, 260, 32, 2498, 20, 3, 11430, 21196, 1]}\n",
            "12 Richard Dawkins urges all atheists to openly state their position -- and to fight the incursion of the church into politics and science. A fiery, funny, powerful talk.\n",
            "12 {'input_ids': [4117, 878, 210, 7815, 11872, 7, 66, 44, 88, 343, 7, 12, 539, 120, 538, 70, 1102, 1636, 11, 12, 2870, 8, 18663, 1938, 13, 8, 2078, 139, 6525, 11, 2056, 5, 71, 12061, 63, 6, 6613, 6, 2021, 1350, 5, 1], 'attention_mask': [1, 1, 1, 1, 1, 1, 1, 1, 1, 1, 1, 1, 1, 1, 1, 1, 1, 1, 1, 1, 1, 1, 1, 1, 1, 1, 1, 1, 1, 1, 1, 1, 1, 1, 1, 1, 1, 1, 1, 1, 1, 1], 'labels': [4117, 878, 210, 7815, 3, 19654, 1739, 110, 44, 107, 1325, 3, 85, 1143, 3, 31588, 1089, 1102, 10642, 1194, 6, 3, 15, 17, 3, 85, 4719, 929, 3, 40, 31, 77, 18974, 20, 3, 40, 31, 427, 4707, 7, 15, 247, 50, 7946, 3, 15, 17, 50, 2056, 5, 597, 27398, 3, 10980, 7531, 288, 6, 3, 26, 52, 21813, 3, 15, 17, 26582, 5, 1]}\n",
            "13 Richard Dawkins: Militant atheism\n",
            "13 {'input_ids': [4117, 878, 210, 7815, 10, 8573, 155, 288, 44, 88, 159, 51, 1], 'attention_mask': [1, 1, 1, 1, 1, 1, 1, 1, 1, 1, 1, 1, 1], 'labels': [4117, 878, 210, 7815, 3, 15, 17, 3, 40, 31, 9, 189, 154, 6274, 20026, 1]}\n",
            "14 In the days following the tragic South Asian tsunami of 2004, the Rev. Tom Honey pondered the question, \"How could a loving God have done this?\" Here is his answer.\n",
            "14 {'input_ids': [86, 8, 477, 826, 8, 17414, 1013, 6578, 28583, 13, 16931, 8, 6342, 5, 3059, 16354, 3, 31462, 26, 8, 822, 6, 96, 7825, 228, 3, 9, 6330, 601, 43, 612, 48, 4609, 947, 19, 112, 1525, 5, 1], 'attention_mask': [1, 1, 1, 1, 1, 1, 1, 1, 1, 1, 1, 1, 1, 1, 1, 1, 1, 1, 1, 1, 1, 1, 1, 1, 1, 1, 1, 1, 1, 1, 1, 1, 1, 1, 1, 1, 1, 1, 1], 'labels': [3039, 110, 4520, 285, 30, 17, 14003, 90, 3, 5031, 1495, 28583, 3, 35, 71, 2452, 146, 8411, 18, 222, 6, 90, 6272, 8825, 1536, 26, 3059, 16354, 3, 7, 31, 222, 26679, 50, 822, 96, 5890, 297, 73, 15453, 1817, 5134, 7621, 11891, 3, 85, 18, 17, 18, 173, 4353, 1143, 3664, 4609, 3, 16353, 3, 7, 9, 11017, 5, 1]}\n",
            "15 Tom Honey: Why would God create a tsunami?\n",
            "15 {'input_ids': [3059, 16354, 10, 1615, 133, 601, 482, 3, 9, 28583, 58, 1], 'attention_mask': [1, 1, 1, 1, 1, 1, 1, 1, 1, 1, 1, 1], 'labels': [3059, 16354, 15701, 20, 15453, 3, 15, 17, 146, 28583, 1]}\n",
            "16 Singer/songwriter Eddi Reader performs \"Kiteflyer's Hill,\" a tender look back at a lost love. With Thomas Dolby on piano.\n",
            "16 {'input_ids': [24366, 87, 21101, 4857, 26, 23, 16120, 1912, 7, 96, 439, 155, 15, 89, 120, 49, 31, 7, 3588, 976, 3, 9, 9024, 320, 223, 44, 3, 9, 1513, 333, 5, 438, 3576, 531, 40, 969, 30, 8355, 5, 1], 'attention_mask': [1, 1, 1, 1, 1, 1, 1, 1, 1, 1, 1, 1, 1, 1, 1, 1, 1, 1, 1, 1, 1, 1, 1, 1, 1, 1, 1, 1, 1, 1, 1, 1, 1, 1, 1, 1, 1, 1, 1, 1], 'labels': [4857, 26, 23, 16120, 6, 3, 9474, 13723, 450, 1413, 102, 52, 9831, 6, 678, 3, 5367, 15, 96, 439, 155, 15, 89, 120, 49, 31, 7, 3588, 976, 6, 3, 15, 17, 7663, 73, 3553, 2467, 52, 23, 244, 73, 3, 10691, 18568, 5, 4292, 287, 11057, 8459, 185, 8355, 260, 3576, 531, 40, 969, 3, 5, 1]}\n",
            "17 Eddi Reader: \"Kiteflyer's Hill\"\n",
            "17 {'input_ids': [4857, 26, 23, 16120, 10, 96, 439, 155, 15, 89, 120, 49, 31, 7, 3588, 121, 1], 'attention_mask': [1, 1, 1, 1, 1, 1, 1, 1, 1, 1, 1, 1, 1, 1, 1, 1, 1], 'labels': [4857, 26, 23, 16120, 3, 5367, 15, 96, 439, 155, 15, 89, 120, 49, 31, 7, 3588, 121, 1]}\n",
            "18 Singer/songwriter Eddi Reader performs \"What You Do With What You've Got,\" a meditation on a very TED theme: how to use your gifts and talents to make a difference. With Thomas Dolby on piano.\n",
            "18 {'input_ids': [24366, 87, 21101, 4857, 26, 23, 16120, 1912, 7, 96, 5680, 148, 531, 438, 363, 148, 31, 162, 13031, 976, 3, 9, 10412, 30, 3, 9, 182, 3, 11430, 3800, 10, 149, 12, 169, 39, 5504, 11, 12227, 12, 143, 3, 9, 1750, 5, 438, 3576, 531, 40, 969, 30, 8355, 5, 1], 'attention_mask': [1, 1, 1, 1, 1, 1, 1, 1, 1, 1, 1, 1, 1, 1, 1, 1, 1, 1, 1, 1, 1, 1, 1, 1, 1, 1, 1, 1, 1, 1, 1, 1, 1, 1, 1, 1, 1, 1, 1, 1, 1, 1, 1, 1, 1, 1, 1, 1, 1, 1, 1, 1, 1], 'labels': [325, 3, 5367, 15, 1074, 87, 287, 19882, 5348, 4857, 26, 23, 16120, 1413, 102, 52, 9831, 96, 254, 15, 238, 327, 14502, 393, 197, 238, 327, 3, 3618, 1686, 245, 3, 12986, 6821, 244, 73, 16758, 1264, 3, 35, 4408, 393, 3, 11430, 10, 1670, 13412, 10708, 3260, 3, 35, 3, 23529, 1507, 278, 7, 3, 15, 17, 1507, 12227, 5, 3, 6581, 3576, 531, 40, 969, 185, 8355, 5, 1]}\n",
            "19 Eddi Reader: \"What You've Got\"\n",
            "19 {'input_ids': [4857, 26, 23, 16120, 10, 96, 5680, 148, 31, 162, 13031, 121, 1], 'attention_mask': [1, 1, 1, 1, 1, 1, 1, 1, 1, 1, 1, 1, 1], 'labels': [4857, 26, 23, 16120, 3, 5367, 15, 3, 85, 8028, 20, 96, 254, 15, 238, 327, 3, 3618, 121, 1]}\n"
          ]
        },
        {
          "name": "stderr",
          "output_type": "stream",
          "text": [
            "\n"
          ]
        }
      ],
      "source": [
        "from tqdm import tqdm\n",
        "\n",
        "for i, example in tqdm(zip(range(20), iter(test_95_100pct_ds)), total=20):\n",
        "    inputs=example[\"translation\"]['en'];\n",
        "    print(f\"{i} {inputs}\")\n",
        "    targets = example[\"translation\"]['fr'];\n",
        "    model_inputs0 = tokenizer(inputs, text_target=targets, max_length=128, truncation=True);\n",
        "    print(f\"{i} {model_inputs0}\")"
      ]
    },
    {
      "cell_type": "markdown",
      "id": "828841ec-139a-40aa-9a7e-dc90dd160f4e",
      "metadata": {
        "id": "828841ec-139a-40aa-9a7e-dc90dd160f4e"
      },
      "source": [
        "#### Side-bar: in the context of natural language processing, \"glue\", \"mrpc\" refers to a specific dataset in the \"General Language Understanding Evaluation\" (GLUE) benchmark, where \"mrpc\" stands for \"Microsoft Research Paraphrase Corpus\" - a collection of sentence pairs manually labeled as either paraphrases or not, used to train models on the task of identifying semantically equivalent sentences. We will demontrate tokenization using that dataset. Compare the structure of raw_datasets with the structure of test_95_100pct_ds, and create  tokenize_function for test_95_100pct_ds with this comparison in mind."
      ]
    },
    {
      "cell_type": "code",
      "execution_count": null,
      "id": "bd9bfa09-0e6b-46ce-8297-66e6b124890d",
      "metadata": {
        "id": "bd9bfa09-0e6b-46ce-8297-66e6b124890d"
      },
      "outputs": [],
      "source": [
        "from transformers import AutoTokenizer, DataCollatorWithPadding\n",
        "\n",
        "raw_datasets = load_dataset(\"glue\", \"mrpc\")\n",
        "checkpoint1 = \"bert-base-uncased\"\n",
        "tokenizer1 = AutoTokenizer.from_pretrained(checkpoint1)\n",
        "\n",
        "\n",
        "def tokenize_function(example):\n",
        "    return tokenizer1(example[\"sentence1\"], example[\"sentence2\"], truncation=True)\n",
        "\n",
        "\n",
        "tokenized_datasets = raw_datasets.map(tokenize_function, batched=True)\n",
        "data_collator1 = DataCollatorWithPadding(tokenizer=tokenizer)"
      ]
    },
    {
      "cell_type": "code",
      "execution_count": null,
      "id": "77003ca0-ca73-49d3-82a6-5bdb16c69b96",
      "metadata": {
        "colab": {
          "base_uri": "https://localhost:8080/"
        },
        "id": "77003ca0-ca73-49d3-82a6-5bdb16c69b96",
        "outputId": "bc5d34c4-477c-48d5-ab93-44e0104820c3"
      },
      "outputs": [
        {
          "data": {
            "text/plain": [
              "DatasetDict({\n",
              "    train: Dataset({\n",
              "        features: ['sentence1', 'sentence2', 'label', 'idx'],\n",
              "        num_rows: 3668\n",
              "    })\n",
              "    validation: Dataset({\n",
              "        features: ['sentence1', 'sentence2', 'label', 'idx'],\n",
              "        num_rows: 408\n",
              "    })\n",
              "    test: Dataset({\n",
              "        features: ['sentence1', 'sentence2', 'label', 'idx'],\n",
              "        num_rows: 1725\n",
              "    })\n",
              "})"
            ]
          },
          "execution_count": 14,
          "metadata": {},
          "output_type": "execute_result"
        }
      ],
      "source": [
        "raw_datasets"
      ]
    },
    {
      "cell_type": "markdown",
      "id": "b6cd5017-c437-4fb4-ad21-fb4568c236bd",
      "metadata": {
        "id": "b6cd5017-c437-4fb4-ad21-fb4568c236bd"
      },
      "source": [
        "#### End of sidebar"
      ]
    },
    {
      "cell_type": "markdown",
      "id": "93caf9f9-dc98-4a96-a132-15a0e7a3963b",
      "metadata": {
        "id": "93caf9f9-dc98-4a96-a132-15a0e7a3963b"
      },
      "source": [
        "#### why does not the next example work similarly? Modify it to work!"
      ]
    },
    {
      "cell_type": "code",
      "execution_count": null,
      "id": "LoXVrI14aofL",
      "metadata": {
        "colab": {
          "base_uri": "https://localhost:8080/"
        },
        "id": "LoXVrI14aofL",
        "outputId": "78f744b8-ca69-4e4c-9e2b-390c84716dc3"
      },
      "outputs": [
        {
          "data": {
            "text/plain": [
              "{'sentence1': 'Amrozi accused his brother , whom he called \" the witness \" , of deliberately distorting his evidence .',\n",
              " 'sentence2': 'Referring to him as only \" the witness \" , Amrozi accused his brother of deliberately distorting his evidence .',\n",
              " 'label': 1,\n",
              " 'idx': 0}"
            ]
          },
          "execution_count": 15,
          "metadata": {},
          "output_type": "execute_result"
        }
      ],
      "source": [
        "raw_datasets['train'][0]"
      ]
    },
    {
      "cell_type": "code",
      "execution_count": null,
      "id": "-4V09IKyas3R",
      "metadata": {
        "colab": {
          "base_uri": "https://localhost:8080/"
        },
        "id": "-4V09IKyas3R",
        "outputId": "de9cd99a-0341-418a-a01e-8768d8200aba"
      },
      "outputs": [
        {
          "data": {
            "text/plain": [
              "{'translation': {'en': 'What happens when a black man visits Aspen? Singer/songwriter Stew and his band are about to let you know.',\n",
              "  'fr': 'Que se passe-t-il quand un noir visite Aspen? L\\'auteur-compositeur-interprète Stew est sur le point de vous le faire découvrir, avec l\\'humour acide et intelligent qui caractérise son travail. (Indice : \"c\\'est un pays des merveilles d\\'hiver dans l\\'antre de la bête\"). Stew est accompagné sur scène par Heidi Rodewald à la basse et Jon Spurney au clavier et à la guitare.'}}"
            ]
          },
          "execution_count": 16,
          "metadata": {},
          "output_type": "execute_result"
        }
      ],
      "source": [
        "test_95_100pct_ds[0]"
      ]
    },
    {
      "cell_type": "code",
      "execution_count": null,
      "id": "2f0516b0-fbd5-4824-a6ea-a15ff1950a58",
      "metadata": {
        "colab": {
          "base_uri": "https://localhost:8080/",
          "height": 353,
          "referenced_widgets": [
            "20383e7632dd40afb4a3c4e0cc653707",
            "cecbbbadac3f4ba69983a4778e7794ae",
            "8894538d762347dfa5ae390e268c22ab",
            "832371d413bc48729a1bbcdd8960f6e8",
            "a7dd4f293cb1475594a748f6eb117fe5",
            "de55cc293e2947e78f82d93ee4b060a3",
            "493fce5b3be54223b441e627d72e8ddb",
            "18baf46b8638434c81be92e9fe0bb664",
            "24533f0359bd4815915642c1741834f5",
            "c6d4ab71fb584d849e71a88b5a57ee63",
            "6621145b468a480283e249612850dd45",
            "356713e941054fd7bd63e9a23474da40"
          ]
        },
        "id": "2f0516b0-fbd5-4824-a6ea-a15ff1950a58",
        "outputId": "7e67abe5-5fea-4d33-cbd9-85deb6f6a67b"
      },
      "outputs": [
        {
          "data": {
            "application/vnd.jupyter.widget-view+json": {
              "model_id": "356713e941054fd7bd63e9a23474da40",
              "version_major": 2,
              "version_minor": 0
            },
            "text/plain": [
              "Map:   0%|          | 0/204 [00:00<?, ? examples/s]"
            ]
          },
          "metadata": {},
          "output_type": "display_data"
        },
        {
          "ename": "TypeError",
          "evalue": "list indices must be integers or slices, not str",
          "output_type": "error",
          "traceback": [
            "\u001b[0;31m---------------------------------------------------------------------------\u001b[0m",
            "\u001b[0;31mTypeError\u001b[0m                                 Traceback (most recent call last)",
            "Cell \u001b[0;32mIn[17], line 5\u001b[0m\n\u001b[1;32m      1\u001b[0m \u001b[38;5;28;01mdef\u001b[39;00m\u001b[38;5;250m \u001b[39m\u001b[38;5;21mtokenize_function\u001b[39m(example):\n\u001b[1;32m      2\u001b[0m     \u001b[38;5;28;01mreturn\u001b[39;00m tokenizer(example[\u001b[38;5;124m\"\u001b[39m\u001b[38;5;124mtranslation\u001b[39m\u001b[38;5;124m\"\u001b[39m][\u001b[38;5;124m'\u001b[39m\u001b[38;5;124men\u001b[39m\u001b[38;5;124m'\u001b[39m], example[\u001b[38;5;124m\"\u001b[39m\u001b[38;5;124mtranslation\u001b[39m\u001b[38;5;124m\"\u001b[39m][\u001b[38;5;124m'\u001b[39m\u001b[38;5;124mfr\u001b[39m\u001b[38;5;124m'\u001b[39m], truncation\u001b[38;5;241m=\u001b[39m\u001b[38;5;28;01mTrue\u001b[39;00m)\n\u001b[0;32m----> 5\u001b[0m tokenized_dataset \u001b[38;5;241m=\u001b[39m \u001b[43mtest_95_100pct_ds\u001b[49m\u001b[38;5;241;43m.\u001b[39;49m\u001b[43mmap\u001b[49m\u001b[43m(\u001b[49m\u001b[43mtokenize_function\u001b[49m\u001b[43m,\u001b[49m\u001b[43m \u001b[49m\u001b[43mbatched\u001b[49m\u001b[38;5;241;43m=\u001b[39;49m\u001b[38;5;28;43;01mTrue\u001b[39;49;00m\u001b[43m)\u001b[49m\n",
            "File \u001b[0;32m~/DLSpring25/lib/python3.8/site-packages/datasets/arrow_dataset.py:560\u001b[0m, in \u001b[0;36mtransmit_format.<locals>.wrapper\u001b[0;34m(*args, **kwargs)\u001b[0m\n\u001b[1;32m    553\u001b[0m self_format \u001b[38;5;241m=\u001b[39m {\n\u001b[1;32m    554\u001b[0m     \u001b[38;5;124m\"\u001b[39m\u001b[38;5;124mtype\u001b[39m\u001b[38;5;124m\"\u001b[39m: \u001b[38;5;28mself\u001b[39m\u001b[38;5;241m.\u001b[39m_format_type,\n\u001b[1;32m    555\u001b[0m     \u001b[38;5;124m\"\u001b[39m\u001b[38;5;124mformat_kwargs\u001b[39m\u001b[38;5;124m\"\u001b[39m: \u001b[38;5;28mself\u001b[39m\u001b[38;5;241m.\u001b[39m_format_kwargs,\n\u001b[1;32m    556\u001b[0m     \u001b[38;5;124m\"\u001b[39m\u001b[38;5;124mcolumns\u001b[39m\u001b[38;5;124m\"\u001b[39m: \u001b[38;5;28mself\u001b[39m\u001b[38;5;241m.\u001b[39m_format_columns,\n\u001b[1;32m    557\u001b[0m     \u001b[38;5;124m\"\u001b[39m\u001b[38;5;124moutput_all_columns\u001b[39m\u001b[38;5;124m\"\u001b[39m: \u001b[38;5;28mself\u001b[39m\u001b[38;5;241m.\u001b[39m_output_all_columns,\n\u001b[1;32m    558\u001b[0m }\n\u001b[1;32m    559\u001b[0m \u001b[38;5;66;03m# apply actual function\u001b[39;00m\n\u001b[0;32m--> 560\u001b[0m out: Union[\u001b[38;5;124m\"\u001b[39m\u001b[38;5;124mDataset\u001b[39m\u001b[38;5;124m\"\u001b[39m, \u001b[38;5;124m\"\u001b[39m\u001b[38;5;124mDatasetDict\u001b[39m\u001b[38;5;124m\"\u001b[39m] \u001b[38;5;241m=\u001b[39m \u001b[43mfunc\u001b[49m\u001b[43m(\u001b[49m\u001b[38;5;28;43mself\u001b[39;49m\u001b[43m,\u001b[49m\u001b[43m \u001b[49m\u001b[38;5;241;43m*\u001b[39;49m\u001b[43margs\u001b[49m\u001b[43m,\u001b[49m\u001b[43m \u001b[49m\u001b[38;5;241;43m*\u001b[39;49m\u001b[38;5;241;43m*\u001b[39;49m\u001b[43mkwargs\u001b[49m\u001b[43m)\u001b[49m\n\u001b[1;32m    561\u001b[0m datasets: List[\u001b[38;5;124m\"\u001b[39m\u001b[38;5;124mDataset\u001b[39m\u001b[38;5;124m\"\u001b[39m] \u001b[38;5;241m=\u001b[39m \u001b[38;5;28mlist\u001b[39m(out\u001b[38;5;241m.\u001b[39mvalues()) \u001b[38;5;28;01mif\u001b[39;00m \u001b[38;5;28misinstance\u001b[39m(out, \u001b[38;5;28mdict\u001b[39m) \u001b[38;5;28;01melse\u001b[39;00m [out]\n\u001b[1;32m    562\u001b[0m \u001b[38;5;66;03m# re-apply format to the output\u001b[39;00m\n",
            "File \u001b[0;32m~/DLSpring25/lib/python3.8/site-packages/datasets/arrow_dataset.py:3055\u001b[0m, in \u001b[0;36mDataset.map\u001b[0;34m(self, function, with_indices, with_rank, input_columns, batched, batch_size, drop_last_batch, remove_columns, keep_in_memory, load_from_cache_file, cache_file_name, writer_batch_size, features, disable_nullable, fn_kwargs, num_proc, suffix_template, new_fingerprint, desc)\u001b[0m\n\u001b[1;32m   3049\u001b[0m \u001b[38;5;28;01mif\u001b[39;00m transformed_dataset \u001b[38;5;129;01mis\u001b[39;00m \u001b[38;5;28;01mNone\u001b[39;00m:\n\u001b[1;32m   3050\u001b[0m     \u001b[38;5;28;01mwith\u001b[39;00m hf_tqdm(\n\u001b[1;32m   3051\u001b[0m         unit\u001b[38;5;241m=\u001b[39m\u001b[38;5;124m\"\u001b[39m\u001b[38;5;124m examples\u001b[39m\u001b[38;5;124m\"\u001b[39m,\n\u001b[1;32m   3052\u001b[0m         total\u001b[38;5;241m=\u001b[39mpbar_total,\n\u001b[1;32m   3053\u001b[0m         desc\u001b[38;5;241m=\u001b[39mdesc \u001b[38;5;129;01mor\u001b[39;00m \u001b[38;5;124m\"\u001b[39m\u001b[38;5;124mMap\u001b[39m\u001b[38;5;124m\"\u001b[39m,\n\u001b[1;32m   3054\u001b[0m     ) \u001b[38;5;28;01mas\u001b[39;00m pbar:\n\u001b[0;32m-> 3055\u001b[0m         \u001b[38;5;28;01mfor\u001b[39;00m rank, done, content \u001b[38;5;129;01min\u001b[39;00m Dataset\u001b[38;5;241m.\u001b[39m_map_single(\u001b[38;5;241m*\u001b[39m\u001b[38;5;241m*\u001b[39mdataset_kwargs):\n\u001b[1;32m   3056\u001b[0m             \u001b[38;5;28;01mif\u001b[39;00m done:\n\u001b[1;32m   3057\u001b[0m                 shards_done \u001b[38;5;241m+\u001b[39m\u001b[38;5;241m=\u001b[39m \u001b[38;5;241m1\u001b[39m\n",
            "File \u001b[0;32m~/DLSpring25/lib/python3.8/site-packages/datasets/arrow_dataset.py:3458\u001b[0m, in \u001b[0;36mDataset._map_single\u001b[0;34m(shard, function, with_indices, with_rank, input_columns, batched, batch_size, drop_last_batch, remove_columns, keep_in_memory, cache_file_name, writer_batch_size, features, disable_nullable, fn_kwargs, new_fingerprint, rank, offset)\u001b[0m\n\u001b[1;32m   3454\u001b[0m indices \u001b[38;5;241m=\u001b[39m \u001b[38;5;28mlist\u001b[39m(\n\u001b[1;32m   3455\u001b[0m     \u001b[38;5;28mrange\u001b[39m(\u001b[38;5;241m*\u001b[39m(\u001b[38;5;28mslice\u001b[39m(i, i \u001b[38;5;241m+\u001b[39m batch_size)\u001b[38;5;241m.\u001b[39mindices(shard\u001b[38;5;241m.\u001b[39mnum_rows)))\n\u001b[1;32m   3456\u001b[0m )  \u001b[38;5;66;03m# Something simpler?\u001b[39;00m\n\u001b[1;32m   3457\u001b[0m \u001b[38;5;28;01mtry\u001b[39;00m:\n\u001b[0;32m-> 3458\u001b[0m     batch \u001b[38;5;241m=\u001b[39m \u001b[43mapply_function_on_filtered_inputs\u001b[49m\u001b[43m(\u001b[49m\n\u001b[1;32m   3459\u001b[0m \u001b[43m        \u001b[49m\u001b[43mbatch\u001b[49m\u001b[43m,\u001b[49m\n\u001b[1;32m   3460\u001b[0m \u001b[43m        \u001b[49m\u001b[43mindices\u001b[49m\u001b[43m,\u001b[49m\n\u001b[1;32m   3461\u001b[0m \u001b[43m        \u001b[49m\u001b[43mcheck_same_num_examples\u001b[49m\u001b[38;5;241;43m=\u001b[39;49m\u001b[38;5;28;43mlen\u001b[39;49m\u001b[43m(\u001b[49m\u001b[43mshard\u001b[49m\u001b[38;5;241;43m.\u001b[39;49m\u001b[43mlist_indexes\u001b[49m\u001b[43m(\u001b[49m\u001b[43m)\u001b[49m\u001b[43m)\u001b[49m\u001b[43m \u001b[49m\u001b[38;5;241;43m>\u001b[39;49m\u001b[43m \u001b[49m\u001b[38;5;241;43m0\u001b[39;49m\u001b[43m,\u001b[49m\n\u001b[1;32m   3462\u001b[0m \u001b[43m        \u001b[49m\u001b[43moffset\u001b[49m\u001b[38;5;241;43m=\u001b[39;49m\u001b[43moffset\u001b[49m\u001b[43m,\u001b[49m\n\u001b[1;32m   3463\u001b[0m \u001b[43m    \u001b[49m\u001b[43m)\u001b[49m\n\u001b[1;32m   3464\u001b[0m \u001b[38;5;28;01mexcept\u001b[39;00m NumExamplesMismatchError:\n\u001b[1;32m   3465\u001b[0m     \u001b[38;5;28;01mraise\u001b[39;00m DatasetTransformationNotAllowedError(\n\u001b[1;32m   3466\u001b[0m         \u001b[38;5;124m\"\u001b[39m\u001b[38;5;124mUsing `.map` in batched mode on a dataset with attached indexes is allowed only if it doesn\u001b[39m\u001b[38;5;124m'\u001b[39m\u001b[38;5;124mt create or remove existing examples. You can first run `.drop_index() to remove your index and then re-add it.\u001b[39m\u001b[38;5;124m\"\u001b[39m\n\u001b[1;32m   3467\u001b[0m     ) \u001b[38;5;28;01mfrom\u001b[39;00m\u001b[38;5;250m \u001b[39m\u001b[38;5;28;01mNone\u001b[39;00m\n",
            "File \u001b[0;32m~/DLSpring25/lib/python3.8/site-packages/datasets/arrow_dataset.py:3320\u001b[0m, in \u001b[0;36mDataset._map_single.<locals>.apply_function_on_filtered_inputs\u001b[0;34m(pa_inputs, indices, check_same_num_examples, offset)\u001b[0m\n\u001b[1;32m   3318\u001b[0m \u001b[38;5;28;01mif\u001b[39;00m with_rank:\n\u001b[1;32m   3319\u001b[0m     additional_args \u001b[38;5;241m+\u001b[39m\u001b[38;5;241m=\u001b[39m (rank,)\n\u001b[0;32m-> 3320\u001b[0m processed_inputs \u001b[38;5;241m=\u001b[39m \u001b[43mfunction\u001b[49m\u001b[43m(\u001b[49m\u001b[38;5;241;43m*\u001b[39;49m\u001b[43mfn_args\u001b[49m\u001b[43m,\u001b[49m\u001b[43m \u001b[49m\u001b[38;5;241;43m*\u001b[39;49m\u001b[43madditional_args\u001b[49m\u001b[43m,\u001b[49m\u001b[43m \u001b[49m\u001b[38;5;241;43m*\u001b[39;49m\u001b[38;5;241;43m*\u001b[39;49m\u001b[43mfn_kwargs\u001b[49m\u001b[43m)\u001b[49m\n\u001b[1;32m   3321\u001b[0m \u001b[38;5;28;01mif\u001b[39;00m \u001b[38;5;28misinstance\u001b[39m(processed_inputs, LazyDict):\n\u001b[1;32m   3322\u001b[0m     processed_inputs \u001b[38;5;241m=\u001b[39m {\n\u001b[1;32m   3323\u001b[0m         k: v \u001b[38;5;28;01mfor\u001b[39;00m k, v \u001b[38;5;129;01min\u001b[39;00m processed_inputs\u001b[38;5;241m.\u001b[39mdata\u001b[38;5;241m.\u001b[39mitems() \u001b[38;5;28;01mif\u001b[39;00m k \u001b[38;5;129;01mnot\u001b[39;00m \u001b[38;5;129;01min\u001b[39;00m processed_inputs\u001b[38;5;241m.\u001b[39mkeys_to_format\n\u001b[1;32m   3324\u001b[0m     }\n",
            "Cell \u001b[0;32mIn[17], line 2\u001b[0m, in \u001b[0;36mtokenize_function\u001b[0;34m(example)\u001b[0m\n\u001b[1;32m      1\u001b[0m \u001b[38;5;28;01mdef\u001b[39;00m\u001b[38;5;250m \u001b[39m\u001b[38;5;21mtokenize_function\u001b[39m(example):\n\u001b[0;32m----> 2\u001b[0m     \u001b[38;5;28;01mreturn\u001b[39;00m tokenizer(\u001b[43mexample\u001b[49m\u001b[43m[\u001b[49m\u001b[38;5;124;43m\"\u001b[39;49m\u001b[38;5;124;43mtranslation\u001b[39;49m\u001b[38;5;124;43m\"\u001b[39;49m\u001b[43m]\u001b[49m\u001b[43m[\u001b[49m\u001b[38;5;124;43m'\u001b[39;49m\u001b[38;5;124;43men\u001b[39;49m\u001b[38;5;124;43m'\u001b[39;49m\u001b[43m]\u001b[49m, example[\u001b[38;5;124m\"\u001b[39m\u001b[38;5;124mtranslation\u001b[39m\u001b[38;5;124m\"\u001b[39m][\u001b[38;5;124m'\u001b[39m\u001b[38;5;124mfr\u001b[39m\u001b[38;5;124m'\u001b[39m], truncation\u001b[38;5;241m=\u001b[39m\u001b[38;5;28;01mTrue\u001b[39;00m)\n",
            "\u001b[0;31mTypeError\u001b[0m: list indices must be integers or slices, not str"
          ]
        }
      ],
      "source": [
        "def tokenize_function(example):\n",
        "    return tokenizer(example[\"translation\"]['en'], example[\"translation\"]['fr'], truncation=True)\n",
        "\n",
        "\n",
        "tokenized_dataset = test_95_100pct_ds.map(tokenize_function, batched=True)"
      ]
    },
    {
      "cell_type": "markdown",
      "id": "FsrrEg9TNny3",
      "metadata": {
        "id": "FsrrEg9TNny3"
      },
      "source": [
        "**Note** The fuction returns error beacuse of the function creating the bacthes, it doesn't give a list of srtings for english and french sentences"
      ]
    },
    {
      "cell_type": "markdown",
      "id": "87dcf490-bec1-49d1-a3a8-4d4dee8e852b",
      "metadata": {
        "id": "87dcf490-bec1-49d1-a3a8-4d4dee8e852b"
      },
      "source": [
        "#### Modify here: rename tokenize_function into preprocess_function"
      ]
    },
    {
      "cell_type": "code",
      "execution_count": null,
      "id": "934137df-20be-4d18-a2f6-f696509c38bc",
      "metadata": {
        "id": "934137df-20be-4d18-a2f6-f696509c38bc"
      },
      "outputs": [],
      "source": [
        "source_lang = \"en\"\n",
        "target_lang = \"fr\"\n",
        "def preprocess_function(examples):\n",
        "    inputs = [ example[source_lang] for example in examples[\"translation\"]]\n",
        "    targets = [example[target_lang] for example in examples[\"translation\"]];\n",
        "    model_inputs = tokenizer(inputs, text_target=targets, max_length=128, truncation=True);\n",
        "    return model_inputs"
      ]
    },
    {
      "cell_type": "markdown",
      "id": "M5uNkW-gOWYX",
      "metadata": {
        "id": "M5uNkW-gOWYX"
      },
      "source": [
        "**Note**, we are creating a list of sentences, for english and french and then passign them to tokenizer"
      ]
    },
    {
      "cell_type": "code",
      "execution_count": null,
      "id": "fe1f7dc2-5a0f-44ac-b7d3-e3a43b1bf1ba",
      "metadata": {
        "id": "fe1f7dc2-5a0f-44ac-b7d3-e3a43b1bf1ba"
      },
      "outputs": [],
      "source": [
        "%%capture --no-display\n",
        "tokenized_dataset_train = train_0_50pct_ds.map(preprocess_function, batched=True)\n",
        "tokenized_dataset_test = test_95_100pct_ds.map(preprocess_function, batched=True)\n",
        "tokenized_dataset_val = validation_dataset.map(preprocess_function, batched=True)"
      ]
    },
    {
      "cell_type": "code",
      "execution_count": null,
      "id": "69188727-b476-4a42-b308-9593081e5b69",
      "metadata": {
        "colab": {
          "base_uri": "https://localhost:8080/"
        },
        "id": "69188727-b476-4a42-b308-9593081e5b69",
        "outputId": "bd5ba945-0655-4540-a7f0-fa77f7dfe195"
      },
      "outputs": [
        {
          "name": "stdout",
          "output_type": "stream",
          "text": [
            "{'translation': {'en': 'What happens when a black man visits Aspen? Singer/songwriter Stew and his band are about to let you know.', 'fr': 'Que se passe-t-il quand un noir visite Aspen? L\\'auteur-compositeur-interprète Stew est sur le point de vous le faire découvrir, avec l\\'humour acide et intelligent qui caractérise son travail. (Indice : \"c\\'est un pays des merveilles d\\'hiver dans l\\'antre de la bête\"). Stew est accompagné sur scène par Heidi Rodewald à la basse et Jon Spurney au clavier et à la guitare.'}, 'input_ids': [363, 2906, 116, 3, 9, 1001, 388, 8305, 282, 3208, 58, 24366, 87, 21101, 3557, 210, 11, 112, 1928, 33, 81, 12, 752, 25, 214, 5, 1], 'attention_mask': [1, 1, 1, 1, 1, 1, 1, 1, 1, 1, 1, 1, 1, 1, 1, 1, 1, 1, 1, 1, 1, 1, 1, 1, 1, 1, 1], 'labels': [7227, 142, 8063, 18, 17, 18, 173, 4679, 73, 9691, 13497, 282, 3208, 58, 301, 31, 9474, 18, 287, 19882, 5348, 18, 3870, 102, 52, 9831, 3557, 210, 259, 244, 90, 500, 20, 327, 90, 1143, 7698, 6, 393, 3, 40, 31, 4884, 1211, 3562, 15, 3, 15, 17, 7951, 285, 26561, 15, 520, 2954, 5, 41, 1570, 26, 867, 3, 10, 96, 75, 31, 222, 73, 3277, 93, 27015, 7, 3, 26, 31, 15123, 247, 3, 40, 31, 288, 60, 20, 50, 3, 115, 7425, 15, 121, 137, 3557, 210, 259, 20342, 244, 12739, 260, 30640, 8222, 15, 11611, 3, 85, 50, 19379, 3, 15, 17, 8178, 17740, 3186, 185, 3, 18780, 972, 3, 15, 17, 3, 85, 50, 5507, 15, 5, 1]}\n"
          ]
        }
      ],
      "source": [
        "print(tokenized_dataset_test[0])"
      ]
    },
    {
      "cell_type": "markdown",
      "id": "59bb67dd-981b-489a-981f-bcf9e27e9c42",
      "metadata": {
        "id": "59bb67dd-981b-489a-981f-bcf9e27e9c42"
      },
      "source": [
        "#### What is input_ids in the above cell?"
      ]
    },
    {
      "cell_type": "markdown",
      "id": "DaOXutFtSFH9",
      "metadata": {
        "id": "DaOXutFtSFH9"
      },
      "source": [
        "## load model"
      ]
    },
    {
      "cell_type": "code",
      "execution_count": null,
      "id": "74de98ec-ae19-433d-9a7b-a4b35672d4ba",
      "metadata": {
        "id": "74de98ec-ae19-433d-9a7b-a4b35672d4ba"
      },
      "outputs": [],
      "source": [
        "from transformers import DataCollatorForSeq2Seq\n",
        "\n",
        "checkpoint = \"google-t5/t5-small\"\n",
        "data_collator = DataCollatorForSeq2Seq(tokenizer=tokenizer, model=checkpoint)"
      ]
    },
    {
      "cell_type": "markdown",
      "id": "7c753457-b673-48ca-8b34-ad696398ce5b",
      "metadata": {
        "id": "7c753457-b673-48ca-8b34-ad696398ce5b"
      },
      "source": [
        "#### compute_metrics is one of the arguments in Seq2SeqTrainer\n",
        "#### look it up and explain what it does; what kind of metric is SacleBLEU?"
      ]
    },
    {
      "cell_type": "markdown",
      "id": "zteiZNMySHNI",
      "metadata": {
        "id": "zteiZNMySHNI"
      },
      "source": [
        "## eval criteria"
      ]
    },
    {
      "cell_type": "markdown",
      "id": "4EZNisCuPFjr",
      "metadata": {
        "id": "4EZNisCuPFjr"
      },
      "source": [
        "\n",
        "# BLEU Score (Bilingual Evaluation Understudy)\n",
        "sacrebleu computes the Blue score of two texts. The BLEU (Bilingual Evaluation Understudy) score is a metric used in natural language processing (NLP) and machine translation to evaluate the quality of generated text against one or more high-quality reference translations, measuring similarity by comparing n-grams (sequences of words) and applying a brevity penalty\n",
        "\n",
        "## Formula\n",
        "\n",
        "$$\n",
        "BLEU = BP \\times \\exp \\left( \\sum_{n=1}^{N} w_n \\log p_n \\right)\n",
        "$$\n",
        "\n",
        "Where:\n",
        "**BP (Brevity Penalty)**:\n",
        "  $$\n",
        "  BP =\n",
        "  \\begin{cases}\n",
        "    1, & \\text{if } c > r \\\\\n",
        "    e^{(1 - r/c)}, & \\text{if } c \\leq r\n",
        "  \\end{cases}\n",
        "  $$\n",
        "  $ c $ = candidate translation length, $ r $ = reference length.\n",
        "\n",
        "$ p_n $ = precision for n-grams.\n",
        "$ w_n $ = weight for n-gram precision (usually uniform, e.g., $ \\frac{1}{4} $ for BLEU-4).\n",
        "$ N $ = max n-gram order.\n",
        "\n",
        "\n",
        "## Example Calculation\n",
        "\n",
        "**Reference Sentence:**  \n",
        "*\"The cat is on the mat.\"*  \n",
        "\n",
        "**Candidate Translation:**  \n",
        "*\"The cat is mat.\"*  \n",
        "\n",
        "### Step 1: N-gram Precision\n",
        "\n",
        "| N-gram | Candidate | Matches | Precision |\n",
        "|--------|----------|---------|-----------|\n",
        "| **Unigram** | {The, cat, is, mat} | {The, cat, is, mat} | $ 4/4 = 1.0 $ |\n",
        "| **Bigram** | {The cat, cat is, is mat} | {The cat, cat is} | $ 2/3 = 0.67 $ |\n",
        "\n",
        "### Step 2: Compute Geometric Mean\n",
        "$$\n",
        "\\exp \\left( \\frac{1}{2} (\\log 1.0 + \\log 0.67) \\right) = \\exp(-0.20) \\approx 0.82\n",
        "$$\n",
        "\n",
        "### Step 3: Brevity Penalty\n",
        "$$\n",
        "BP = e^{(1 - 6/4)} = e^{-0.5} \\approx 0.61\n",
        "$$\n",
        "\n",
        "### Step 4: Final BLEU Score\n",
        "$$\n",
        "BLEU = 0.61 \\times 0.82 = 0.50\n",
        "$$\n",
        "\n"
      ]
    },
    {
      "cell_type": "markdown",
      "id": "usj1IEXjPwiq",
      "metadata": {
        "id": "usj1IEXjPwiq"
      },
      "source": []
    },
    {
      "cell_type": "code",
      "execution_count": null,
      "id": "5a05a4ae-8562-45ff-b3af-2c85b798ea0f",
      "metadata": {
        "id": "5a05a4ae-8562-45ff-b3af-2c85b798ea0f"
      },
      "outputs": [],
      "source": [
        "import numpy as np\n",
        "\n",
        "import evaluate\n",
        "\n",
        "metric = evaluate.load(\"sacrebleu\")\n",
        "\n",
        "def postprocess_text(preds, labels):\n",
        "    preds = [pred.strip() for pred in preds]\n",
        "    labels = [[label.strip()] for label in labels]\n",
        "\n",
        "    return preds, labels\n",
        "\n",
        "\n",
        "def compute_metrics(eval_preds):\n",
        "    preds, labels = eval_preds\n",
        "    if isinstance(preds, tuple):\n",
        "        preds = preds[0]\n",
        "    decoded_preds = tokenizer.batch_decode(preds, skip_special_tokens=True)\n",
        "\n",
        "    labels = np.where(labels != -100, labels, tokenizer.pad_token_id)\n",
        "    decoded_labels = tokenizer.batch_decode(labels, skip_special_tokens=True)\n",
        "\n",
        "    decoded_preds, decoded_labels = postprocess_text(decoded_preds, decoded_labels)\n",
        "\n",
        "    result = metric.compute(predictions=decoded_preds, references=decoded_labels)\n",
        "    result = {\"bleu\": result[\"score\"]}\n",
        "\n",
        "    prediction_lens = [np.count_nonzero(pred != tokenizer.pad_token_id) for pred in preds]\n",
        "    result[\"gen_len\"] = np.mean(prediction_lens)\n",
        "    result = {k: round(v, 4) for k, v in result.items()}\n",
        "    return result"
      ]
    },
    {
      "cell_type": "markdown",
      "id": "a58eTdqCSOdn",
      "metadata": {
        "id": "a58eTdqCSOdn"
      },
      "source": [
        "# Training"
      ]
    },
    {
      "cell_type": "code",
      "execution_count": null,
      "id": "42c33dfb-5414-424b-8d6a-64f18903b891",
      "metadata": {
        "id": "42c33dfb-5414-424b-8d6a-64f18903b891"
      },
      "outputs": [],
      "source": [
        "from transformers import Seq2SeqTrainingArguments, Seq2SeqTrainer"
      ]
    },
    {
      "cell_type": "markdown",
      "id": "e07df7c1-daa2-4630-9a5e-2f22eeca8119",
      "metadata": {
        "id": "e07df7c1-daa2-4630-9a5e-2f22eeca8119"
      },
      "source": [
        "#### Instantiate Seq2SeqTrainingArguments and Seq2SeqTrainer here"
      ]
    },
    {
      "cell_type": "code",
      "execution_count": null,
      "id": "3g0vVzrLSvvQ",
      "metadata": {
        "id": "3g0vVzrLSvvQ"
      },
      "outputs": [],
      "source": [
        "import os\n",
        "if not os.path.isdir('./results'):\n",
        "    os.mkdir('./results')\n",
        "if not os.path.isdir('./logs'):\n",
        "    os.mkdir('./logs')\n"
      ]
    },
    {
      "cell_type": "code",
      "execution_count": null,
      "id": "2b3712ad-3c1a-4975-9cd5-4ad5ecbcec7a",
      "metadata": {
        "id": "2b3712ad-3c1a-4975-9cd5-4ad5ecbcec7a"
      },
      "outputs": [],
      "source": [
        "\n",
        "training_args = Seq2SeqTrainingArguments(\n",
        "    output_dir=\"./results\",         # Directory for model checkpoints and logs\n",
        "    evaluation_strategy=\"epoch\",    # Evaluation strategy: \"no\", \"steps\", \"epoch\"\n",
        "    learning_rate=5e-5,             # Learning rate\n",
        "    per_device_train_batch_size=8,  # Training batch size per device\n",
        "    per_device_eval_batch_size=8,   # Evaluation batch size per device\n",
        "    weight_decay=0.01,              # Weight decay (L2 regularization)\n",
        "    save_total_limit=3,             # Limit on saved checkpoints\n",
        "    num_train_epochs=2,             # Number of training epochs\n",
        "    predict_with_generate=True,     # Use `generate()` for evaluation (for text generation tasks)\n",
        "    logging_dir=\"./logs\",           # Directory for logs\n",
        "    logging_steps=500,              # Log every X steps\n",
        "    save_strategy=\"epoch\",          # When to save checkpoints (\"no\", \"steps\", \"epoch\")\n",
        "    eval_steps=100,                 # Evaluate every X steps\n",
        "    report_to=\"none\",               # Reporting (e.g., \"wandb\", \"tensorboard\", or \"none\")\n",
        ")"
      ]
    },
    {
      "cell_type": "code",
      "execution_count": null,
      "id": "659ba88a-1a06-4a27-883a-eac56abd4aa1",
      "metadata": {
        "id": "659ba88a-1a06-4a27-883a-eac56abd4aa1"
      },
      "outputs": [],
      "source": [
        "trainer = Seq2SeqTrainer(\n",
        "    model=model,                     # Pretrained model (e.g., T5, BART)\n",
        "    args=training_args,               # Training arguments\n",
        "    train_dataset=tokenized_dataset_train,      # Training dataset\n",
        "    eval_dataset=tokenized_dataset_val ,        # Evaluation dataset\n",
        "    data_collator=data_collator,      # Collator for batching\n",
        "    compute_metrics=compute_metrics,  # Function to compute evaluation metrics\n",
        ")"
      ]
    },
    {
      "cell_type": "markdown",
      "id": "76237c3d-0771-4207-aac8-c1905229cf19",
      "metadata": {
        "id": "76237c3d-0771-4207-aac8-c1905229cf19"
      },
      "source": [
        "#### make sure that you first test the trainer with num_train_epochs=2"
      ]
    },
    {
      "cell_type": "code",
      "execution_count": null,
      "id": "8c450f1f-1e22-43fc-ac92-e08062e8e430",
      "metadata": {
        "colab": {
          "base_uri": "https://localhost:8080/",
          "height": 210
        },
        "id": "8c450f1f-1e22-43fc-ac92-e08062e8e430",
        "outputId": "18e7f1e1-785d-4258-905a-ae76abaedbf4"
      },
      "outputs": [
        {
          "name": "stderr",
          "output_type": "stream",
          "text": [
            "Passing a tuple of `past_key_values` is deprecated and will be removed in Transformers v4.48.0. You should pass an instance of `EncoderDecoderCache` instead, e.g. `past_key_values=EncoderDecoderCache.from_legacy_cache(past_key_values)`.\n"
          ]
        },
        {
          "data": {
            "text/html": [
              "\n",
              "    <div>\n",
              "      \n",
              "      <progress value='256' max='256' style='width:300px; height:20px; vertical-align: middle;'></progress>\n",
              "      [256/256 00:33, Epoch 2/2]\n",
              "    </div>\n",
              "    <table border=\"1\" class=\"dataframe\">\n",
              "  <thead>\n",
              " <tr style=\"text-align: left;\">\n",
              "      <th>Epoch</th>\n",
              "      <th>Training Loss</th>\n",
              "      <th>Validation Loss</th>\n",
              "      <th>Bleu</th>\n",
              "      <th>Gen Len</th>\n",
              "    </tr>\n",
              "  </thead>\n",
              "  <tbody>\n",
              "    <tr>\n",
              "      <td>1</td>\n",
              "      <td>No log</td>\n",
              "      <td>1.321376</td>\n",
              "      <td>6.209400</td>\n",
              "      <td>17.748500</td>\n",
              "    </tr>\n",
              "    <tr>\n",
              "      <td>2</td>\n",
              "      <td>No log</td>\n",
              "      <td>1.308383</td>\n",
              "      <td>6.401700</td>\n",
              "      <td>17.796400</td>\n",
              "    </tr>\n",
              "  </tbody>\n",
              "</table><p>"
            ],
            "text/plain": [
              "<IPython.core.display.HTML object>"
            ]
          },
          "metadata": {},
          "output_type": "display_data"
        },
        {
          "data": {
            "text/plain": [
              "TrainOutput(global_step=256, training_loss=1.628257155418396, metrics={'train_runtime': 34.2992, 'train_samples_per_second': 118.662, 'train_steps_per_second': 7.464, 'total_flos': 122870001598464.0, 'train_loss': 1.628257155418396, 'epoch': 2.0})"
            ]
          },
          "execution_count": 27,
          "metadata": {},
          "output_type": "execute_result"
        }
      ],
      "source": [
        "trainer.train()"
      ]
    },
    {
      "cell_type": "markdown",
      "id": "62d0d7c7-9ae6-4309-86a9-bae3f7c77dcc",
      "metadata": {
        "id": "62d0d7c7-9ae6-4309-86a9-bae3f7c77dcc"
      },
      "source": [
        "#### call trainer's methods evaluate and predict and print the results of predict\n"
      ]
    },
    {
      "cell_type": "code",
      "execution_count": null,
      "id": "a8b6e8dc-74cc-47a2-992a-f6a6a4a7fa95",
      "metadata": {
        "colab": {
          "base_uri": "https://localhost:8080/",
          "height": 193
        },
        "id": "a8b6e8dc-74cc-47a2-992a-f6a6a4a7fa95",
        "outputId": "66fe0723-0a24-43e2-cc73-d5d744bf8451"
      },
      "outputs": [
        {
          "data": {
            "text/html": [],
            "text/plain": [
              "<IPython.core.display.HTML object>"
            ]
          },
          "metadata": {},
          "output_type": "display_data"
        },
        {
          "name": "stdout",
          "output_type": "stream",
          "text": [
            "Evaluation Results: {'eval_loss': 1.3083829879760742, 'eval_bleu': 6.4017, 'eval_gen_len': 17.7964, 'eval_runtime': 5.1824, 'eval_samples_per_second': 64.449, 'eval_steps_per_second': 4.052, 'epoch': 2.0}\n",
            "Prediction Results: [[    0  7227   142 ...   312     3  5367]\n",
            " [    0  3557   210 ...     0     0     0]\n",
            " [    0 17129  5545 ...     3 26375    73]\n",
            " ...\n",
            " [    0  1955   276 ...     1     0     0]\n",
            " [    0  3039    73 ...    15    20  2143]\n",
            " [    0  9236     9 ...    10     3 15005]]\n",
            "Sample Predictions: [\"Que se passe-t-il lorsqu'un noir visite Aspen? Le chant\", 'Stew: « Black Men Ski »', 'Larry Page et Sergey Brin, cofondateurs de Google, offrent un', 'Sergey Brin + Larry Page: La genèse de Google', 'La Violiniste Natalie MacMaster et le Directeur musical TED Thomas Do']\n"
          ]
        }
      ],
      "source": [
        "eval_results = trainer.evaluate()\n",
        "print(\"Evaluation Results:\", eval_results)\n",
        "\n",
        "# Perform prediction on the evaluation dataset\n",
        "predictions = trainer.predict(tokenized_dataset_test)\n",
        "print(\"Prediction Results:\", predictions.predictions)\n",
        "\n",
        "# Decode the first few predicted sentences\n",
        "decoded_predictions = tokenizer.batch_decode(predictions.predictions, skip_special_tokens=True)\n",
        "print(\"Sample Predictions:\", decoded_predictions[:5])"
      ]
    },
    {
      "cell_type": "code",
      "execution_count": null,
      "id": "iP_gUePzXwlE",
      "metadata": {
        "id": "iP_gUePzXwlE"
      },
      "outputs": [],
      "source": []
    }
  ],
  "metadata": {
    "accelerator": "GPU",
    "colab": {
      "gpuType": "T4",
      "provenance": []
    },
    "kernelspec": {
      "display_name": "DLSpring25K",
      "language": "python",
      "name": "dlspring25"
    },
    "language_info": {
      "codemirror_mode": {
        "name": "ipython",
        "version": 3
      },
      "file_extension": ".py",
      "mimetype": "text/x-python",
      "name": "python",
      "nbconvert_exporter": "python",
      "pygments_lexer": "ipython3",
      "version": "3.8.10"
    },
    "widgets": {
      "application/vnd.jupyter.widget-state+json": {
        "004be5ed9fa64184bab45be45f6dd120": {
          "model_module": "@jupyter-widgets/controls",
          "model_module_version": "1.5.0",
          "model_name": "FloatProgressModel",
          "state": {
            "_dom_classes": [],
            "_model_module": "@jupyter-widgets/controls",
            "_model_module_version": "1.5.0",
            "_model_name": "FloatProgressModel",
            "_view_count": null,
            "_view_module": "@jupyter-widgets/controls",
            "_view_module_version": "1.5.0",
            "_view_name": "ProgressView",
            "bar_style": "success",
            "description": "",
            "description_tooltip": null,
            "layout": "IPY_MODEL_5aa18cbcb53c410e9da87acb40c004e3",
            "max": 1666674366,
            "min": 0,
            "orientation": "horizontal",
            "style": "IPY_MODEL_58f31e9c2929463589298999e142d4cd",
            "value": 1666674366
          }
        },
        "007899a9aec24843989e150c74e74c04": {
          "model_module": "@jupyter-widgets/base",
          "model_module_version": "1.2.0",
          "model_name": "LayoutModel",
          "state": {
            "_model_module": "@jupyter-widgets/base",
            "_model_module_version": "1.2.0",
            "_model_name": "LayoutModel",
            "_view_count": null,
            "_view_module": "@jupyter-widgets/base",
            "_view_module_version": "1.2.0",
            "_view_name": "LayoutView",
            "align_content": null,
            "align_items": null,
            "align_self": null,
            "border": null,
            "bottom": null,
            "display": null,
            "flex": null,
            "flex_flow": null,
            "grid_area": null,
            "grid_auto_columns": null,
            "grid_auto_flow": null,
            "grid_auto_rows": null,
            "grid_column": null,
            "grid_gap": null,
            "grid_row": null,
            "grid_template_areas": null,
            "grid_template_columns": null,
            "grid_template_rows": null,
            "height": null,
            "justify_content": null,
            "justify_items": null,
            "left": null,
            "margin": null,
            "max_height": null,
            "max_width": null,
            "min_height": null,
            "min_width": null,
            "object_fit": null,
            "object_position": null,
            "order": null,
            "overflow": null,
            "overflow_x": null,
            "overflow_y": null,
            "padding": null,
            "right": null,
            "top": null,
            "visibility": null,
            "width": null
          }
        },
        "01d1635016ff42b9b3b6bb9be58623d0": {
          "model_module": "@jupyter-widgets/controls",
          "model_module_version": "1.5.0",
          "model_name": "ProgressStyleModel",
          "state": {
            "_model_module": "@jupyter-widgets/controls",
            "_model_module_version": "1.5.0",
            "_model_name": "ProgressStyleModel",
            "_view_count": null,
            "_view_module": "@jupyter-widgets/base",
            "_view_module_version": "1.2.0",
            "_view_name": "StyleView",
            "bar_color": null,
            "description_width": ""
          }
        },
        "027320eed74a401984513d041785c959": {
          "model_module": "@jupyter-widgets/base",
          "model_module_version": "1.2.0",
          "model_name": "LayoutModel",
          "state": {
            "_model_module": "@jupyter-widgets/base",
            "_model_module_version": "1.2.0",
            "_model_name": "LayoutModel",
            "_view_count": null,
            "_view_module": "@jupyter-widgets/base",
            "_view_module_version": "1.2.0",
            "_view_name": "LayoutView",
            "align_content": null,
            "align_items": null,
            "align_self": null,
            "border": null,
            "bottom": null,
            "display": null,
            "flex": null,
            "flex_flow": null,
            "grid_area": null,
            "grid_auto_columns": null,
            "grid_auto_flow": null,
            "grid_auto_rows": null,
            "grid_column": null,
            "grid_gap": null,
            "grid_row": null,
            "grid_template_areas": null,
            "grid_template_columns": null,
            "grid_template_rows": null,
            "height": null,
            "justify_content": null,
            "justify_items": null,
            "left": null,
            "margin": null,
            "max_height": null,
            "max_width": null,
            "min_height": null,
            "min_width": null,
            "object_fit": null,
            "object_position": null,
            "order": null,
            "overflow": null,
            "overflow_x": null,
            "overflow_y": null,
            "padding": null,
            "right": null,
            "top": null,
            "visibility": null,
            "width": null
          }
        },
        "039076bf279e4c5aab93ec81a20e4481": {
          "model_module": "@jupyter-widgets/base",
          "model_module_version": "1.2.0",
          "model_name": "LayoutModel",
          "state": {
            "_model_module": "@jupyter-widgets/base",
            "_model_module_version": "1.2.0",
            "_model_name": "LayoutModel",
            "_view_count": null,
            "_view_module": "@jupyter-widgets/base",
            "_view_module_version": "1.2.0",
            "_view_name": "LayoutView",
            "align_content": null,
            "align_items": null,
            "align_self": null,
            "border": null,
            "bottom": null,
            "display": null,
            "flex": null,
            "flex_flow": null,
            "grid_area": null,
            "grid_auto_columns": null,
            "grid_auto_flow": null,
            "grid_auto_rows": null,
            "grid_column": null,
            "grid_gap": null,
            "grid_row": null,
            "grid_template_areas": null,
            "grid_template_columns": null,
            "grid_template_rows": null,
            "height": null,
            "justify_content": null,
            "justify_items": null,
            "left": null,
            "margin": null,
            "max_height": null,
            "max_width": null,
            "min_height": null,
            "min_width": null,
            "object_fit": null,
            "object_position": null,
            "order": null,
            "overflow": null,
            "overflow_x": null,
            "overflow_y": null,
            "padding": null,
            "right": null,
            "top": null,
            "visibility": null,
            "width": null
          }
        },
        "04772342a72443cf88d5260a602c86f2": {
          "model_module": "@jupyter-widgets/controls",
          "model_module_version": "1.5.0",
          "model_name": "DescriptionStyleModel",
          "state": {
            "_model_module": "@jupyter-widgets/controls",
            "_model_module_version": "1.5.0",
            "_model_name": "DescriptionStyleModel",
            "_view_count": null,
            "_view_module": "@jupyter-widgets/base",
            "_view_module_version": "1.2.0",
            "_view_name": "StyleView",
            "description_width": ""
          }
        },
        "0532ff03362a463ab23eb1418e128a44": {
          "model_module": "@jupyter-widgets/controls",
          "model_module_version": "1.5.0",
          "model_name": "DescriptionStyleModel",
          "state": {
            "_model_module": "@jupyter-widgets/controls",
            "_model_module_version": "1.5.0",
            "_model_name": "DescriptionStyleModel",
            "_view_count": null,
            "_view_module": "@jupyter-widgets/base",
            "_view_module_version": "1.2.0",
            "_view_name": "StyleView",
            "description_width": ""
          }
        },
        "08441e841b654150a9ff57e930147216": {
          "model_module": "@jupyter-widgets/base",
          "model_module_version": "1.2.0",
          "model_name": "LayoutModel",
          "state": {
            "_model_module": "@jupyter-widgets/base",
            "_model_module_version": "1.2.0",
            "_model_name": "LayoutModel",
            "_view_count": null,
            "_view_module": "@jupyter-widgets/base",
            "_view_module_version": "1.2.0",
            "_view_name": "LayoutView",
            "align_content": null,
            "align_items": null,
            "align_self": null,
            "border": null,
            "bottom": null,
            "display": null,
            "flex": null,
            "flex_flow": null,
            "grid_area": null,
            "grid_auto_columns": null,
            "grid_auto_flow": null,
            "grid_auto_rows": null,
            "grid_column": null,
            "grid_gap": null,
            "grid_row": null,
            "grid_template_areas": null,
            "grid_template_columns": null,
            "grid_template_rows": null,
            "height": null,
            "justify_content": null,
            "justify_items": null,
            "left": null,
            "margin": null,
            "max_height": null,
            "max_width": null,
            "min_height": null,
            "min_width": null,
            "object_fit": null,
            "object_position": null,
            "order": null,
            "overflow": null,
            "overflow_x": null,
            "overflow_y": null,
            "padding": null,
            "right": null,
            "top": null,
            "visibility": null,
            "width": null
          }
        },
        "0d8f1a5f72194d5aa6589dce8b1f4dc3": {
          "model_module": "@jupyter-widgets/base",
          "model_module_version": "1.2.0",
          "model_name": "LayoutModel",
          "state": {
            "_model_module": "@jupyter-widgets/base",
            "_model_module_version": "1.2.0",
            "_model_name": "LayoutModel",
            "_view_count": null,
            "_view_module": "@jupyter-widgets/base",
            "_view_module_version": "1.2.0",
            "_view_name": "LayoutView",
            "align_content": null,
            "align_items": null,
            "align_self": null,
            "border": null,
            "bottom": null,
            "display": null,
            "flex": null,
            "flex_flow": null,
            "grid_area": null,
            "grid_auto_columns": null,
            "grid_auto_flow": null,
            "grid_auto_rows": null,
            "grid_column": null,
            "grid_gap": null,
            "grid_row": null,
            "grid_template_areas": null,
            "grid_template_columns": null,
            "grid_template_rows": null,
            "height": null,
            "justify_content": null,
            "justify_items": null,
            "left": null,
            "margin": null,
            "max_height": null,
            "max_width": null,
            "min_height": null,
            "min_width": null,
            "object_fit": null,
            "object_position": null,
            "order": null,
            "overflow": null,
            "overflow_x": null,
            "overflow_y": null,
            "padding": null,
            "right": null,
            "top": null,
            "visibility": null,
            "width": null
          }
        },
        "0eee36d0d1a8481e8f5f751d1c444937": {
          "model_module": "@jupyter-widgets/base",
          "model_module_version": "1.2.0",
          "model_name": "LayoutModel",
          "state": {
            "_model_module": "@jupyter-widgets/base",
            "_model_module_version": "1.2.0",
            "_model_name": "LayoutModel",
            "_view_count": null,
            "_view_module": "@jupyter-widgets/base",
            "_view_module_version": "1.2.0",
            "_view_name": "LayoutView",
            "align_content": null,
            "align_items": null,
            "align_self": null,
            "border": null,
            "bottom": null,
            "display": null,
            "flex": null,
            "flex_flow": null,
            "grid_area": null,
            "grid_auto_columns": null,
            "grid_auto_flow": null,
            "grid_auto_rows": null,
            "grid_column": null,
            "grid_gap": null,
            "grid_row": null,
            "grid_template_areas": null,
            "grid_template_columns": null,
            "grid_template_rows": null,
            "height": null,
            "justify_content": null,
            "justify_items": null,
            "left": null,
            "margin": null,
            "max_height": null,
            "max_width": null,
            "min_height": null,
            "min_width": null,
            "object_fit": null,
            "object_position": null,
            "order": null,
            "overflow": null,
            "overflow_x": null,
            "overflow_y": null,
            "padding": null,
            "right": null,
            "top": null,
            "visibility": null,
            "width": null
          }
        },
        "18baf46b8638434c81be92e9fe0bb664": {
          "model_module": "@jupyter-widgets/base",
          "model_module_version": "1.2.0",
          "model_name": "LayoutModel",
          "state": {
            "_model_module": "@jupyter-widgets/base",
            "_model_module_version": "1.2.0",
            "_model_name": "LayoutModel",
            "_view_count": null,
            "_view_module": "@jupyter-widgets/base",
            "_view_module_version": "1.2.0",
            "_view_name": "LayoutView",
            "align_content": null,
            "align_items": null,
            "align_self": null,
            "border": null,
            "bottom": null,
            "display": null,
            "flex": null,
            "flex_flow": null,
            "grid_area": null,
            "grid_auto_columns": null,
            "grid_auto_flow": null,
            "grid_auto_rows": null,
            "grid_column": null,
            "grid_gap": null,
            "grid_row": null,
            "grid_template_areas": null,
            "grid_template_columns": null,
            "grid_template_rows": null,
            "height": null,
            "justify_content": null,
            "justify_items": null,
            "left": null,
            "margin": null,
            "max_height": null,
            "max_width": null,
            "min_height": null,
            "min_width": null,
            "object_fit": null,
            "object_position": null,
            "order": null,
            "overflow": null,
            "overflow_x": null,
            "overflow_y": null,
            "padding": null,
            "right": null,
            "top": null,
            "visibility": null,
            "width": null
          }
        },
        "190c5a83fc8e4e72be77afa9a1cc02c2": {
          "model_module": "@jupyter-widgets/controls",
          "model_module_version": "1.5.0",
          "model_name": "HTMLModel",
          "state": {
            "_dom_classes": [],
            "_model_module": "@jupyter-widgets/controls",
            "_model_module_version": "1.5.0",
            "_model_name": "HTMLModel",
            "_view_count": null,
            "_view_module": "@jupyter-widgets/controls",
            "_view_module_version": "1.5.0",
            "_view_name": "HTMLView",
            "description": "",
            "description_tooltip": null,
            "layout": "IPY_MODEL_a04acdf0771247088d33ad908e6cf6c2",
            "placeholder": "​",
            "style": "IPY_MODEL_7b6512ea230642f085ad7e8a526f0f50",
            "value": " 147/147 [00:00&lt;00:00, 10.2kB/s]"
          }
        },
        "19640cef1ff1403e8631d0055c524f7f": {
          "model_module": "@jupyter-widgets/base",
          "model_module_version": "1.2.0",
          "model_name": "LayoutModel",
          "state": {
            "_model_module": "@jupyter-widgets/base",
            "_model_module_version": "1.2.0",
            "_model_name": "LayoutModel",
            "_view_count": null,
            "_view_module": "@jupyter-widgets/base",
            "_view_module_version": "1.2.0",
            "_view_name": "LayoutView",
            "align_content": null,
            "align_items": null,
            "align_self": null,
            "border": null,
            "bottom": null,
            "display": null,
            "flex": null,
            "flex_flow": null,
            "grid_area": null,
            "grid_auto_columns": null,
            "grid_auto_flow": null,
            "grid_auto_rows": null,
            "grid_column": null,
            "grid_gap": null,
            "grid_row": null,
            "grid_template_areas": null,
            "grid_template_columns": null,
            "grid_template_rows": null,
            "height": null,
            "justify_content": null,
            "justify_items": null,
            "left": null,
            "margin": null,
            "max_height": null,
            "max_width": null,
            "min_height": null,
            "min_width": null,
            "object_fit": null,
            "object_position": null,
            "order": null,
            "overflow": null,
            "overflow_x": null,
            "overflow_y": null,
            "padding": null,
            "right": null,
            "top": null,
            "visibility": null,
            "width": null
          }
        },
        "1c6ff94cdb8247d4b7e728bed2442f01": {
          "model_module": "@jupyter-widgets/base",
          "model_module_version": "1.2.0",
          "model_name": "LayoutModel",
          "state": {
            "_model_module": "@jupyter-widgets/base",
            "_model_module_version": "1.2.0",
            "_model_name": "LayoutModel",
            "_view_count": null,
            "_view_module": "@jupyter-widgets/base",
            "_view_module_version": "1.2.0",
            "_view_name": "LayoutView",
            "align_content": null,
            "align_items": null,
            "align_self": null,
            "border": null,
            "bottom": null,
            "display": null,
            "flex": null,
            "flex_flow": null,
            "grid_area": null,
            "grid_auto_columns": null,
            "grid_auto_flow": null,
            "grid_auto_rows": null,
            "grid_column": null,
            "grid_gap": null,
            "grid_row": null,
            "grid_template_areas": null,
            "grid_template_columns": null,
            "grid_template_rows": null,
            "height": null,
            "justify_content": null,
            "justify_items": null,
            "left": null,
            "margin": null,
            "max_height": null,
            "max_width": null,
            "min_height": null,
            "min_width": null,
            "object_fit": null,
            "object_position": null,
            "order": null,
            "overflow": null,
            "overflow_x": null,
            "overflow_y": null,
            "padding": null,
            "right": null,
            "top": null,
            "visibility": null,
            "width": "20px"
          }
        },
        "20383e7632dd40afb4a3c4e0cc653707": {
          "model_module": "@jupyter-widgets/controls",
          "model_module_version": "1.5.0",
          "model_name": "HBoxModel",
          "state": {
            "_dom_classes": [],
            "_model_module": "@jupyter-widgets/controls",
            "_model_module_version": "1.5.0",
            "_model_name": "HBoxModel",
            "_view_count": null,
            "_view_module": "@jupyter-widgets/controls",
            "_view_module_version": "1.5.0",
            "_view_name": "HBoxView",
            "box_style": "",
            "children": [
              "IPY_MODEL_cecbbbadac3f4ba69983a4778e7794ae",
              "IPY_MODEL_8894538d762347dfa5ae390e268c22ab",
              "IPY_MODEL_832371d413bc48729a1bbcdd8960f6e8"
            ],
            "layout": "IPY_MODEL_a7dd4f293cb1475594a748f6eb117fe5"
          }
        },
        "24533f0359bd4815915642c1741834f5": {
          "model_module": "@jupyter-widgets/controls",
          "model_module_version": "1.5.0",
          "model_name": "ProgressStyleModel",
          "state": {
            "_model_module": "@jupyter-widgets/controls",
            "_model_module_version": "1.5.0",
            "_model_name": "ProgressStyleModel",
            "_view_count": null,
            "_view_module": "@jupyter-widgets/base",
            "_view_module_version": "1.2.0",
            "_view_name": "StyleView",
            "bar_color": null,
            "description_width": ""
          }
        },
        "24c45ae65b92415d9e81b16bac0662ac": {
          "model_module": "@jupyter-widgets/controls",
          "model_module_version": "1.5.0",
          "model_name": "FloatProgressModel",
          "state": {
            "_dom_classes": [],
            "_model_module": "@jupyter-widgets/controls",
            "_model_module_version": "1.5.0",
            "_model_name": "FloatProgressModel",
            "_view_count": null,
            "_view_module": "@jupyter-widgets/controls",
            "_view_module_version": "1.5.0",
            "_view_name": "ProgressView",
            "bar_style": "success",
            "description": "",
            "description_tooltip": null,
            "layout": "IPY_MODEL_0d8f1a5f72194d5aa6589dce8b1f4dc3",
            "max": 242043056,
            "min": 0,
            "orientation": "horizontal",
            "style": "IPY_MODEL_57cb0b6c13644005b12b4943ad2d822f",
            "value": 242043056
          }
        },
        "25cc95acf5424f44b981cf9939674810": {
          "model_module": "@jupyter-widgets/controls",
          "model_module_version": "1.5.0",
          "model_name": "FloatProgressModel",
          "state": {
            "_dom_classes": [],
            "_model_module": "@jupyter-widgets/controls",
            "_model_module_version": "1.5.0",
            "_model_name": "FloatProgressModel",
            "_view_count": null,
            "_view_module": "@jupyter-widgets/controls",
            "_view_module_version": "1.5.0",
            "_view_name": "ProgressView",
            "bar_style": "success",
            "description": "",
            "description_tooltip": null,
            "layout": "IPY_MODEL_f0dff508d07f47d2b4801e0e2f6cd74e",
            "max": 791656,
            "min": 0,
            "orientation": "horizontal",
            "style": "IPY_MODEL_3f2b380dbed14e4d867a8e19b10b79fb",
            "value": 791656
          }
        },
        "308d226e28ac46568d11e1e39205069c": {
          "model_module": "@jupyter-widgets/controls",
          "model_module_version": "1.5.0",
          "model_name": "DescriptionStyleModel",
          "state": {
            "_model_module": "@jupyter-widgets/controls",
            "_model_module_version": "1.5.0",
            "_model_name": "DescriptionStyleModel",
            "_view_count": null,
            "_view_module": "@jupyter-widgets/base",
            "_view_module_version": "1.2.0",
            "_view_name": "StyleView",
            "description_width": ""
          }
        },
        "3162d3059a594ec68ca6b8bbb24bc9e4": {
          "model_module": "@jupyter-widgets/controls",
          "model_module_version": "1.5.0",
          "model_name": "DescriptionStyleModel",
          "state": {
            "_model_module": "@jupyter-widgets/controls",
            "_model_module_version": "1.5.0",
            "_model_name": "DescriptionStyleModel",
            "_view_count": null,
            "_view_module": "@jupyter-widgets/base",
            "_view_module_version": "1.2.0",
            "_view_name": "StyleView",
            "description_width": ""
          }
        },
        "34e204f6169d4ca4bfa7228b338ca190": {
          "model_module": "@jupyter-widgets/base",
          "model_module_version": "1.2.0",
          "model_name": "LayoutModel",
          "state": {
            "_model_module": "@jupyter-widgets/base",
            "_model_module_version": "1.2.0",
            "_model_name": "LayoutModel",
            "_view_count": null,
            "_view_module": "@jupyter-widgets/base",
            "_view_module_version": "1.2.0",
            "_view_name": "LayoutView",
            "align_content": null,
            "align_items": null,
            "align_self": null,
            "border": null,
            "bottom": null,
            "display": null,
            "flex": null,
            "flex_flow": null,
            "grid_area": null,
            "grid_auto_columns": null,
            "grid_auto_flow": null,
            "grid_auto_rows": null,
            "grid_column": null,
            "grid_gap": null,
            "grid_row": null,
            "grid_template_areas": null,
            "grid_template_columns": null,
            "grid_template_rows": null,
            "height": null,
            "justify_content": null,
            "justify_items": null,
            "left": null,
            "margin": null,
            "max_height": null,
            "max_width": null,
            "min_height": null,
            "min_width": null,
            "object_fit": null,
            "object_position": null,
            "order": null,
            "overflow": null,
            "overflow_x": null,
            "overflow_y": null,
            "padding": null,
            "right": null,
            "top": null,
            "visibility": null,
            "width": null
          }
        },
        "38311775bd914fd48cb713217447ab2d": {
          "model_module": "@jupyter-widgets/controls",
          "model_module_version": "1.5.0",
          "model_name": "HTMLModel",
          "state": {
            "_dom_classes": [],
            "_model_module": "@jupyter-widgets/controls",
            "_model_module_version": "1.5.0",
            "_model_name": "HTMLModel",
            "_view_count": null,
            "_view_module": "@jupyter-widgets/controls",
            "_view_module_version": "1.5.0",
            "_view_name": "HTMLView",
            "description": "",
            "description_tooltip": null,
            "layout": "IPY_MODEL_08441e841b654150a9ff57e930147216",
            "placeholder": "​",
            "style": "IPY_MODEL_f1aab4b6ad2c4ffd9da72fb18cad7022",
            "value": "tokenizer.json: 100%"
          }
        },
        "3b3c46118ae943739122d30e33b66baa": {
          "model_module": "@jupyter-widgets/base",
          "model_module_version": "1.2.0",
          "model_name": "LayoutModel",
          "state": {
            "_model_module": "@jupyter-widgets/base",
            "_model_module_version": "1.2.0",
            "_model_name": "LayoutModel",
            "_view_count": null,
            "_view_module": "@jupyter-widgets/base",
            "_view_module_version": "1.2.0",
            "_view_name": "LayoutView",
            "align_content": null,
            "align_items": null,
            "align_self": null,
            "border": null,
            "bottom": null,
            "display": null,
            "flex": null,
            "flex_flow": null,
            "grid_area": null,
            "grid_auto_columns": null,
            "grid_auto_flow": null,
            "grid_auto_rows": null,
            "grid_column": null,
            "grid_gap": null,
            "grid_row": null,
            "grid_template_areas": null,
            "grid_template_columns": null,
            "grid_template_rows": null,
            "height": null,
            "justify_content": null,
            "justify_items": null,
            "left": null,
            "margin": null,
            "max_height": null,
            "max_width": null,
            "min_height": null,
            "min_width": null,
            "object_fit": null,
            "object_position": null,
            "order": null,
            "overflow": null,
            "overflow_x": null,
            "overflow_y": null,
            "padding": null,
            "right": null,
            "top": null,
            "visibility": null,
            "width": null
          }
        },
        "3be58927fcaa4d538306d6ccab8b686c": {
          "model_module": "@jupyter-widgets/controls",
          "model_module_version": "1.5.0",
          "model_name": "DescriptionStyleModel",
          "state": {
            "_model_module": "@jupyter-widgets/controls",
            "_model_module_version": "1.5.0",
            "_model_name": "DescriptionStyleModel",
            "_view_count": null,
            "_view_module": "@jupyter-widgets/base",
            "_view_module_version": "1.2.0",
            "_view_name": "StyleView",
            "description_width": ""
          }
        },
        "3f2b380dbed14e4d867a8e19b10b79fb": {
          "model_module": "@jupyter-widgets/controls",
          "model_module_version": "1.5.0",
          "model_name": "ProgressStyleModel",
          "state": {
            "_model_module": "@jupyter-widgets/controls",
            "_model_module_version": "1.5.0",
            "_model_name": "ProgressStyleModel",
            "_view_count": null,
            "_view_module": "@jupyter-widgets/base",
            "_view_module_version": "1.2.0",
            "_view_name": "StyleView",
            "bar_color": null,
            "description_width": ""
          }
        },
        "493fce5b3be54223b441e627d72e8ddb": {
          "model_module": "@jupyter-widgets/controls",
          "model_module_version": "1.5.0",
          "model_name": "DescriptionStyleModel",
          "state": {
            "_model_module": "@jupyter-widgets/controls",
            "_model_module_version": "1.5.0",
            "_model_name": "DescriptionStyleModel",
            "_view_count": null,
            "_view_module": "@jupyter-widgets/base",
            "_view_module_version": "1.2.0",
            "_view_name": "StyleView",
            "description_width": ""
          }
        },
        "4976e5fe83454e2ab1274a2c3920d442": {
          "model_module": "@jupyter-widgets/controls",
          "model_module_version": "1.5.0",
          "model_name": "HTMLModel",
          "state": {
            "_dom_classes": [],
            "_model_module": "@jupyter-widgets/controls",
            "_model_module_version": "1.5.0",
            "_model_name": "HTMLModel",
            "_view_count": null,
            "_view_module": "@jupyter-widgets/controls",
            "_view_module_version": "1.5.0",
            "_view_name": "HTMLView",
            "description": "",
            "description_tooltip": null,
            "layout": "IPY_MODEL_db7a2996f0a74f428a8036cee274125e",
            "placeholder": "​",
            "style": "IPY_MODEL_bbcc58b6bcee483d84ac39bd3da47047",
            "value": "tokenizer_config.json: 100%"
          }
        },
        "4ae7866ef9cc4c8fbed95453a2964cb6": {
          "model_module": "@jupyter-widgets/controls",
          "model_module_version": "1.5.0",
          "model_name": "HTMLModel",
          "state": {
            "_dom_classes": [],
            "_model_module": "@jupyter-widgets/controls",
            "_model_module_version": "1.5.0",
            "_model_name": "HTMLModel",
            "_view_count": null,
            "_view_module": "@jupyter-widgets/controls",
            "_view_module_version": "1.5.0",
            "_view_name": "HTMLView",
            "description": "",
            "description_tooltip": null,
            "layout": "IPY_MODEL_3b3c46118ae943739122d30e33b66baa",
            "placeholder": "​",
            "style": "IPY_MODEL_96aca88cbd444bad80cf97cd4a8d5d7c",
            "value": " 1.39M/1.39M [00:00&lt;00:00, 2.05MB/s]"
          }
        },
        "4ba721a2830b433eaf251d0f7b6b4513": {
          "model_module": "@jupyter-widgets/controls",
          "model_module_version": "1.5.0",
          "model_name": "DescriptionStyleModel",
          "state": {
            "_model_module": "@jupyter-widgets/controls",
            "_model_module_version": "1.5.0",
            "_model_name": "DescriptionStyleModel",
            "_view_count": null,
            "_view_module": "@jupyter-widgets/base",
            "_view_module_version": "1.2.0",
            "_view_name": "StyleView",
            "description_width": ""
          }
        },
        "4d80787098e54258bb884e2dfcee35a2": {
          "model_module": "@jupyter-widgets/controls",
          "model_module_version": "1.5.0",
          "model_name": "HBoxModel",
          "state": {
            "_dom_classes": [],
            "_model_module": "@jupyter-widgets/controls",
            "_model_module_version": "1.5.0",
            "_model_name": "HBoxModel",
            "_view_count": null,
            "_view_module": "@jupyter-widgets/controls",
            "_view_module_version": "1.5.0",
            "_view_name": "HBoxView",
            "box_style": "",
            "children": [
              "IPY_MODEL_4e4482d3f5b64a5dbe94449119a9a48d",
              "IPY_MODEL_004be5ed9fa64184bab45be45f6dd120",
              "IPY_MODEL_8b44fc67edd64c698e161fad20715169"
            ],
            "layout": "IPY_MODEL_56a34d9aeb3b4f5ab766a9a7a46a5e8a"
          }
        },
        "4e4482d3f5b64a5dbe94449119a9a48d": {
          "model_module": "@jupyter-widgets/controls",
          "model_module_version": "1.5.0",
          "model_name": "HTMLModel",
          "state": {
            "_dom_classes": [],
            "_model_module": "@jupyter-widgets/controls",
            "_model_module_version": "1.5.0",
            "_model_name": "HTMLModel",
            "_view_count": null,
            "_view_module": "@jupyter-widgets/controls",
            "_view_module_version": "1.5.0",
            "_view_name": "HTMLView",
            "description": "",
            "description_tooltip": null,
            "layout": "IPY_MODEL_34e204f6169d4ca4bfa7228b338ca190",
            "placeholder": "​",
            "style": "IPY_MODEL_4ba721a2830b433eaf251d0f7b6b4513",
            "value": "XML_releases.tgz: 100%"
          }
        },
        "548cbf0abf0541909f0178cee2905e1e": {
          "model_module": "@jupyter-widgets/base",
          "model_module_version": "1.2.0",
          "model_name": "LayoutModel",
          "state": {
            "_model_module": "@jupyter-widgets/base",
            "_model_module_version": "1.2.0",
            "_model_name": "LayoutModel",
            "_view_count": null,
            "_view_module": "@jupyter-widgets/base",
            "_view_module_version": "1.2.0",
            "_view_name": "LayoutView",
            "align_content": null,
            "align_items": null,
            "align_self": null,
            "border": null,
            "bottom": null,
            "display": null,
            "flex": null,
            "flex_flow": null,
            "grid_area": null,
            "grid_auto_columns": null,
            "grid_auto_flow": null,
            "grid_auto_rows": null,
            "grid_column": null,
            "grid_gap": null,
            "grid_row": null,
            "grid_template_areas": null,
            "grid_template_columns": null,
            "grid_template_rows": null,
            "height": null,
            "justify_content": null,
            "justify_items": null,
            "left": null,
            "margin": null,
            "max_height": null,
            "max_width": null,
            "min_height": null,
            "min_width": null,
            "object_fit": null,
            "object_position": null,
            "order": null,
            "overflow": null,
            "overflow_x": null,
            "overflow_y": null,
            "padding": null,
            "right": null,
            "top": null,
            "visibility": null,
            "width": null
          }
        },
        "55bb85f1eabf4b0ea303f1db31e6946d": {
          "model_module": "@jupyter-widgets/base",
          "model_module_version": "1.2.0",
          "model_name": "LayoutModel",
          "state": {
            "_model_module": "@jupyter-widgets/base",
            "_model_module_version": "1.2.0",
            "_model_name": "LayoutModel",
            "_view_count": null,
            "_view_module": "@jupyter-widgets/base",
            "_view_module_version": "1.2.0",
            "_view_name": "LayoutView",
            "align_content": null,
            "align_items": null,
            "align_self": null,
            "border": null,
            "bottom": null,
            "display": null,
            "flex": null,
            "flex_flow": null,
            "grid_area": null,
            "grid_auto_columns": null,
            "grid_auto_flow": null,
            "grid_auto_rows": null,
            "grid_column": null,
            "grid_gap": null,
            "grid_row": null,
            "grid_template_areas": null,
            "grid_template_columns": null,
            "grid_template_rows": null,
            "height": null,
            "justify_content": null,
            "justify_items": null,
            "left": null,
            "margin": null,
            "max_height": null,
            "max_width": null,
            "min_height": null,
            "min_width": null,
            "object_fit": null,
            "object_position": null,
            "order": null,
            "overflow": null,
            "overflow_x": null,
            "overflow_y": null,
            "padding": null,
            "right": null,
            "top": null,
            "visibility": null,
            "width": null
          }
        },
        "56a34d9aeb3b4f5ab766a9a7a46a5e8a": {
          "model_module": "@jupyter-widgets/base",
          "model_module_version": "1.2.0",
          "model_name": "LayoutModel",
          "state": {
            "_model_module": "@jupyter-widgets/base",
            "_model_module_version": "1.2.0",
            "_model_name": "LayoutModel",
            "_view_count": null,
            "_view_module": "@jupyter-widgets/base",
            "_view_module_version": "1.2.0",
            "_view_name": "LayoutView",
            "align_content": null,
            "align_items": null,
            "align_self": null,
            "border": null,
            "bottom": null,
            "display": null,
            "flex": null,
            "flex_flow": null,
            "grid_area": null,
            "grid_auto_columns": null,
            "grid_auto_flow": null,
            "grid_auto_rows": null,
            "grid_column": null,
            "grid_gap": null,
            "grid_row": null,
            "grid_template_areas": null,
            "grid_template_columns": null,
            "grid_template_rows": null,
            "height": null,
            "justify_content": null,
            "justify_items": null,
            "left": null,
            "margin": null,
            "max_height": null,
            "max_width": null,
            "min_height": null,
            "min_width": null,
            "object_fit": null,
            "object_position": null,
            "order": null,
            "overflow": null,
            "overflow_x": null,
            "overflow_y": null,
            "padding": null,
            "right": null,
            "top": null,
            "visibility": null,
            "width": null
          }
        },
        "57cb0b6c13644005b12b4943ad2d822f": {
          "model_module": "@jupyter-widgets/controls",
          "model_module_version": "1.5.0",
          "model_name": "ProgressStyleModel",
          "state": {
            "_model_module": "@jupyter-widgets/controls",
            "_model_module_version": "1.5.0",
            "_model_name": "ProgressStyleModel",
            "_view_count": null,
            "_view_module": "@jupyter-widgets/base",
            "_view_module_version": "1.2.0",
            "_view_name": "StyleView",
            "bar_color": null,
            "description_width": ""
          }
        },
        "58f31e9c2929463589298999e142d4cd": {
          "model_module": "@jupyter-widgets/controls",
          "model_module_version": "1.5.0",
          "model_name": "ProgressStyleModel",
          "state": {
            "_model_module": "@jupyter-widgets/controls",
            "_model_module_version": "1.5.0",
            "_model_name": "ProgressStyleModel",
            "_view_count": null,
            "_view_module": "@jupyter-widgets/base",
            "_view_module_version": "1.2.0",
            "_view_name": "StyleView",
            "bar_color": null,
            "description_width": ""
          }
        },
        "599174c809774c6fa57cfa89f316138d": {
          "model_module": "@jupyter-widgets/base",
          "model_module_version": "1.2.0",
          "model_name": "LayoutModel",
          "state": {
            "_model_module": "@jupyter-widgets/base",
            "_model_module_version": "1.2.0",
            "_model_name": "LayoutModel",
            "_view_count": null,
            "_view_module": "@jupyter-widgets/base",
            "_view_module_version": "1.2.0",
            "_view_name": "LayoutView",
            "align_content": null,
            "align_items": null,
            "align_self": null,
            "border": null,
            "bottom": null,
            "display": null,
            "flex": null,
            "flex_flow": null,
            "grid_area": null,
            "grid_auto_columns": null,
            "grid_auto_flow": null,
            "grid_auto_rows": null,
            "grid_column": null,
            "grid_gap": null,
            "grid_row": null,
            "grid_template_areas": null,
            "grid_template_columns": null,
            "grid_template_rows": null,
            "height": null,
            "justify_content": null,
            "justify_items": null,
            "left": null,
            "margin": null,
            "max_height": null,
            "max_width": null,
            "min_height": null,
            "min_width": null,
            "object_fit": null,
            "object_position": null,
            "order": null,
            "overflow": null,
            "overflow_x": null,
            "overflow_y": null,
            "padding": null,
            "right": null,
            "top": null,
            "visibility": null,
            "width": null
          }
        },
        "5aa18cbcb53c410e9da87acb40c004e3": {
          "model_module": "@jupyter-widgets/base",
          "model_module_version": "1.2.0",
          "model_name": "LayoutModel",
          "state": {
            "_model_module": "@jupyter-widgets/base",
            "_model_module_version": "1.2.0",
            "_model_name": "LayoutModel",
            "_view_count": null,
            "_view_module": "@jupyter-widgets/base",
            "_view_module_version": "1.2.0",
            "_view_name": "LayoutView",
            "align_content": null,
            "align_items": null,
            "align_self": null,
            "border": null,
            "bottom": null,
            "display": null,
            "flex": null,
            "flex_flow": null,
            "grid_area": null,
            "grid_auto_columns": null,
            "grid_auto_flow": null,
            "grid_auto_rows": null,
            "grid_column": null,
            "grid_gap": null,
            "grid_row": null,
            "grid_template_areas": null,
            "grid_template_columns": null,
            "grid_template_rows": null,
            "height": null,
            "justify_content": null,
            "justify_items": null,
            "left": null,
            "margin": null,
            "max_height": null,
            "max_width": null,
            "min_height": null,
            "min_width": null,
            "object_fit": null,
            "object_position": null,
            "order": null,
            "overflow": null,
            "overflow_x": null,
            "overflow_y": null,
            "padding": null,
            "right": null,
            "top": null,
            "visibility": null,
            "width": null
          }
        },
        "5ba1a151ac5149e69fc124698cd2445f": {
          "model_module": "@jupyter-widgets/controls",
          "model_module_version": "1.5.0",
          "model_name": "HBoxModel",
          "state": {
            "_dom_classes": [],
            "_model_module": "@jupyter-widgets/controls",
            "_model_module_version": "1.5.0",
            "_model_name": "HBoxModel",
            "_view_count": null,
            "_view_module": "@jupyter-widgets/controls",
            "_view_module_version": "1.5.0",
            "_view_name": "HBoxView",
            "box_style": "",
            "children": [
              "IPY_MODEL_97c199d17b2f4b3a827df5a8287d82db",
              "IPY_MODEL_25cc95acf5424f44b981cf9939674810",
              "IPY_MODEL_70204254a7fc4420ab1455cc1327f632"
            ],
            "layout": "IPY_MODEL_a33496ceed0e4a27a04ebfe4a2aff7df"
          }
        },
        "5e10937e7fc34026b24da7d7072cbeb9": {
          "model_module": "@jupyter-widgets/controls",
          "model_module_version": "1.5.0",
          "model_name": "DescriptionStyleModel",
          "state": {
            "_model_module": "@jupyter-widgets/controls",
            "_model_module_version": "1.5.0",
            "_model_name": "DescriptionStyleModel",
            "_view_count": null,
            "_view_module": "@jupyter-widgets/base",
            "_view_module_version": "1.2.0",
            "_view_name": "StyleView",
            "description_width": ""
          }
        },
        "5e5d045707234dd194dbd920247e8be5": {
          "model_module": "@jupyter-widgets/controls",
          "model_module_version": "1.5.0",
          "model_name": "ProgressStyleModel",
          "state": {
            "_model_module": "@jupyter-widgets/controls",
            "_model_module_version": "1.5.0",
            "_model_name": "ProgressStyleModel",
            "_view_count": null,
            "_view_module": "@jupyter-widgets/base",
            "_view_module_version": "1.2.0",
            "_view_name": "StyleView",
            "bar_color": null,
            "description_width": ""
          }
        },
        "6258ebece6fb4c11bd138291060e80b5": {
          "model_module": "@jupyter-widgets/controls",
          "model_module_version": "1.5.0",
          "model_name": "HBoxModel",
          "state": {
            "_dom_classes": [],
            "_model_module": "@jupyter-widgets/controls",
            "_model_module_version": "1.5.0",
            "_model_name": "HBoxModel",
            "_view_count": null,
            "_view_module": "@jupyter-widgets/controls",
            "_view_module_version": "1.5.0",
            "_view_name": "HBoxView",
            "box_style": "",
            "children": [
              "IPY_MODEL_c0a4e7dd626f4041a52323a30d90cf5f",
              "IPY_MODEL_24c45ae65b92415d9e81b16bac0662ac",
              "IPY_MODEL_eb94e3eeb1ed4834b24f38e729064c9d"
            ],
            "layout": "IPY_MODEL_0eee36d0d1a8481e8f5f751d1c444937"
          }
        },
        "6621145b468a480283e249612850dd45": {
          "model_module": "@jupyter-widgets/controls",
          "model_module_version": "1.5.0",
          "model_name": "DescriptionStyleModel",
          "state": {
            "_model_module": "@jupyter-widgets/controls",
            "_model_module_version": "1.5.0",
            "_model_name": "DescriptionStyleModel",
            "_view_count": null,
            "_view_module": "@jupyter-widgets/base",
            "_view_module_version": "1.2.0",
            "_view_name": "StyleView",
            "description_width": ""
          }
        },
        "66fc24681a1d45ee81e6b304242b05c9": {
          "model_module": "@jupyter-widgets/controls",
          "model_module_version": "1.5.0",
          "model_name": "ProgressStyleModel",
          "state": {
            "_model_module": "@jupyter-widgets/controls",
            "_model_module_version": "1.5.0",
            "_model_name": "ProgressStyleModel",
            "_view_count": null,
            "_view_module": "@jupyter-widgets/base",
            "_view_module_version": "1.2.0",
            "_view_name": "StyleView",
            "bar_color": null,
            "description_width": ""
          }
        },
        "6d9690ad692447d8b5f51d7525f519c1": {
          "model_module": "@jupyter-widgets/base",
          "model_module_version": "1.2.0",
          "model_name": "LayoutModel",
          "state": {
            "_model_module": "@jupyter-widgets/base",
            "_model_module_version": "1.2.0",
            "_model_name": "LayoutModel",
            "_view_count": null,
            "_view_module": "@jupyter-widgets/base",
            "_view_module_version": "1.2.0",
            "_view_name": "LayoutView",
            "align_content": null,
            "align_items": null,
            "align_self": null,
            "border": null,
            "bottom": null,
            "display": null,
            "flex": null,
            "flex_flow": null,
            "grid_area": null,
            "grid_auto_columns": null,
            "grid_auto_flow": null,
            "grid_auto_rows": null,
            "grid_column": null,
            "grid_gap": null,
            "grid_row": null,
            "grid_template_areas": null,
            "grid_template_columns": null,
            "grid_template_rows": null,
            "height": null,
            "justify_content": null,
            "justify_items": null,
            "left": null,
            "margin": null,
            "max_height": null,
            "max_width": null,
            "min_height": null,
            "min_width": null,
            "object_fit": null,
            "object_position": null,
            "order": null,
            "overflow": null,
            "overflow_x": null,
            "overflow_y": null,
            "padding": null,
            "right": null,
            "top": null,
            "visibility": null,
            "width": null
          }
        },
        "6f6a27de51804b6ca41f7cd5fb1d8cc3": {
          "model_module": "@jupyter-widgets/base",
          "model_module_version": "1.2.0",
          "model_name": "LayoutModel",
          "state": {
            "_model_module": "@jupyter-widgets/base",
            "_model_module_version": "1.2.0",
            "_model_name": "LayoutModel",
            "_view_count": null,
            "_view_module": "@jupyter-widgets/base",
            "_view_module_version": "1.2.0",
            "_view_name": "LayoutView",
            "align_content": null,
            "align_items": null,
            "align_self": null,
            "border": null,
            "bottom": null,
            "display": null,
            "flex": null,
            "flex_flow": null,
            "grid_area": null,
            "grid_auto_columns": null,
            "grid_auto_flow": null,
            "grid_auto_rows": null,
            "grid_column": null,
            "grid_gap": null,
            "grid_row": null,
            "grid_template_areas": null,
            "grid_template_columns": null,
            "grid_template_rows": null,
            "height": null,
            "justify_content": null,
            "justify_items": null,
            "left": null,
            "margin": null,
            "max_height": null,
            "max_width": null,
            "min_height": null,
            "min_width": null,
            "object_fit": null,
            "object_position": null,
            "order": null,
            "overflow": null,
            "overflow_x": null,
            "overflow_y": null,
            "padding": null,
            "right": null,
            "top": null,
            "visibility": null,
            "width": null
          }
        },
        "70204254a7fc4420ab1455cc1327f632": {
          "model_module": "@jupyter-widgets/controls",
          "model_module_version": "1.5.0",
          "model_name": "HTMLModel",
          "state": {
            "_dom_classes": [],
            "_model_module": "@jupyter-widgets/controls",
            "_model_module_version": "1.5.0",
            "_model_name": "HTMLModel",
            "_view_count": null,
            "_view_module": "@jupyter-widgets/controls",
            "_view_module_version": "1.5.0",
            "_view_name": "HTMLView",
            "description": "",
            "description_tooltip": null,
            "layout": "IPY_MODEL_a15d85ee7aa54bbda08dca9d6587cf67",
            "placeholder": "​",
            "style": "IPY_MODEL_d6b2722fd9854d7faa089b41d36f0ea9",
            "value": " 792k/792k [00:00&lt;00:00, 1.73MB/s]"
          }
        },
        "7026618e38044449aca5c3cbfec8a36e": {
          "model_module": "@jupyter-widgets/controls",
          "model_module_version": "1.5.0",
          "model_name": "FloatProgressModel",
          "state": {
            "_dom_classes": [],
            "_model_module": "@jupyter-widgets/controls",
            "_model_module_version": "1.5.0",
            "_model_name": "FloatProgressModel",
            "_view_count": null,
            "_view_module": "@jupyter-widgets/controls",
            "_view_module_version": "1.5.0",
            "_view_name": "ProgressView",
            "bar_style": "success",
            "description": "",
            "description_tooltip": null,
            "layout": "IPY_MODEL_19640cef1ff1403e8631d0055c524f7f",
            "max": 1206,
            "min": 0,
            "orientation": "horizontal",
            "style": "IPY_MODEL_01d1635016ff42b9b3b6bb9be58623d0",
            "value": 1206
          }
        },
        "747e9878a23346a8b5ebd918c1a5d45d": {
          "model_module": "@jupyter-widgets/controls",
          "model_module_version": "1.5.0",
          "model_name": "HTMLModel",
          "state": {
            "_dom_classes": [],
            "_model_module": "@jupyter-widgets/controls",
            "_model_module_version": "1.5.0",
            "_model_name": "HTMLModel",
            "_view_count": null,
            "_view_module": "@jupyter-widgets/controls",
            "_view_module_version": "1.5.0",
            "_view_name": "HTMLView",
            "description": "",
            "description_tooltip": null,
            "layout": "IPY_MODEL_6d9690ad692447d8b5f51d7525f519c1",
            "placeholder": "​",
            "style": "IPY_MODEL_308d226e28ac46568d11e1e39205069c",
            "value": " 4070/0 [00:16&lt;00:00, 355.75 examples/s]"
          }
        },
        "7b6512ea230642f085ad7e8a526f0f50": {
          "model_module": "@jupyter-widgets/controls",
          "model_module_version": "1.5.0",
          "model_name": "DescriptionStyleModel",
          "state": {
            "_model_module": "@jupyter-widgets/controls",
            "_model_module_version": "1.5.0",
            "_model_name": "DescriptionStyleModel",
            "_view_count": null,
            "_view_module": "@jupyter-widgets/base",
            "_view_module_version": "1.2.0",
            "_view_name": "StyleView",
            "description_width": ""
          }
        },
        "818c428e29744dbea62354d001a480d0": {
          "model_module": "@jupyter-widgets/controls",
          "model_module_version": "1.5.0",
          "model_name": "DescriptionStyleModel",
          "state": {
            "_model_module": "@jupyter-widgets/controls",
            "_model_module_version": "1.5.0",
            "_model_name": "DescriptionStyleModel",
            "_view_count": null,
            "_view_module": "@jupyter-widgets/base",
            "_view_module_version": "1.2.0",
            "_view_name": "StyleView",
            "description_width": ""
          }
        },
        "832371d413bc48729a1bbcdd8960f6e8": {
          "model_module": "@jupyter-widgets/controls",
          "model_module_version": "1.5.0",
          "model_name": "HTMLModel",
          "state": {
            "_dom_classes": [],
            "_model_module": "@jupyter-widgets/controls",
            "_model_module_version": "1.5.0",
            "_model_name": "HTMLModel",
            "_view_count": null,
            "_view_module": "@jupyter-widgets/controls",
            "_view_module_version": "1.5.0",
            "_view_name": "HTMLView",
            "description": "",
            "description_tooltip": null,
            "layout": "IPY_MODEL_c6d4ab71fb584d849e71a88b5a57ee63",
            "placeholder": "​",
            "style": "IPY_MODEL_6621145b468a480283e249612850dd45",
            "value": " 0/204 [00:00&lt;?, ? examples/s]"
          }
        },
        "887997b71ed3423088c044c818354db9": {
          "model_module": "@jupyter-widgets/controls",
          "model_module_version": "1.5.0",
          "model_name": "HBoxModel",
          "state": {
            "_dom_classes": [],
            "_model_module": "@jupyter-widgets/controls",
            "_model_module_version": "1.5.0",
            "_model_name": "HBoxModel",
            "_view_count": null,
            "_view_module": "@jupyter-widgets/controls",
            "_view_module_version": "1.5.0",
            "_view_name": "HBoxView",
            "box_style": "",
            "children": [
              "IPY_MODEL_4976e5fe83454e2ab1274a2c3920d442",
              "IPY_MODEL_dbb012bb436c4e94a5e27a71cc4d35b9",
              "IPY_MODEL_f5fd9d571de14ce4b08265e6ae298ec2"
            ],
            "layout": "IPY_MODEL_a8b54cd868cf485a91615e02d8f82f31"
          }
        },
        "8894538d762347dfa5ae390e268c22ab": {
          "model_module": "@jupyter-widgets/controls",
          "model_module_version": "1.5.0",
          "model_name": "FloatProgressModel",
          "state": {
            "_dom_classes": [],
            "_model_module": "@jupyter-widgets/controls",
            "_model_module_version": "1.5.0",
            "_model_name": "FloatProgressModel",
            "_view_count": null,
            "_view_module": "@jupyter-widgets/controls",
            "_view_module_version": "1.5.0",
            "_view_name": "ProgressView",
            "bar_style": "danger",
            "description": "",
            "description_tooltip": null,
            "layout": "IPY_MODEL_18baf46b8638434c81be92e9fe0bb664",
            "max": 204,
            "min": 0,
            "orientation": "horizontal",
            "style": "IPY_MODEL_24533f0359bd4815915642c1741834f5",
            "value": 0
          }
        },
        "8b44fc67edd64c698e161fad20715169": {
          "model_module": "@jupyter-widgets/controls",
          "model_module_version": "1.5.0",
          "model_name": "HTMLModel",
          "state": {
            "_dom_classes": [],
            "_model_module": "@jupyter-widgets/controls",
            "_model_module_version": "1.5.0",
            "_model_name": "HTMLModel",
            "_view_count": null,
            "_view_module": "@jupyter-widgets/controls",
            "_view_module_version": "1.5.0",
            "_view_name": "HTMLView",
            "description": "",
            "description_tooltip": null,
            "layout": "IPY_MODEL_d6b7f51f677948a990a20c1f813dcd23",
            "placeholder": "​",
            "style": "IPY_MODEL_c080410a371248fa966d4b2fb38040dc",
            "value": " 1.67G/1.67G [00:11&lt;00:00, 179MB/s]"
          }
        },
        "8de2a832423d423ca460c9ae4c48a4a6": {
          "model_module": "@jupyter-widgets/base",
          "model_module_version": "1.2.0",
          "model_name": "LayoutModel",
          "state": {
            "_model_module": "@jupyter-widgets/base",
            "_model_module_version": "1.2.0",
            "_model_name": "LayoutModel",
            "_view_count": null,
            "_view_module": "@jupyter-widgets/base",
            "_view_module_version": "1.2.0",
            "_view_name": "LayoutView",
            "align_content": null,
            "align_items": null,
            "align_self": null,
            "border": null,
            "bottom": null,
            "display": null,
            "flex": null,
            "flex_flow": null,
            "grid_area": null,
            "grid_auto_columns": null,
            "grid_auto_flow": null,
            "grid_auto_rows": null,
            "grid_column": null,
            "grid_gap": null,
            "grid_row": null,
            "grid_template_areas": null,
            "grid_template_columns": null,
            "grid_template_rows": null,
            "height": null,
            "justify_content": null,
            "justify_items": null,
            "left": null,
            "margin": null,
            "max_height": null,
            "max_width": null,
            "min_height": null,
            "min_width": null,
            "object_fit": null,
            "object_position": null,
            "order": null,
            "overflow": null,
            "overflow_x": null,
            "overflow_y": null,
            "padding": null,
            "right": null,
            "top": null,
            "visibility": null,
            "width": null
          }
        },
        "917cecfb01bd42d2a5b9026ebbcaae4e": {
          "model_module": "@jupyter-widgets/base",
          "model_module_version": "1.2.0",
          "model_name": "LayoutModel",
          "state": {
            "_model_module": "@jupyter-widgets/base",
            "_model_module_version": "1.2.0",
            "_model_name": "LayoutModel",
            "_view_count": null,
            "_view_module": "@jupyter-widgets/base",
            "_view_module_version": "1.2.0",
            "_view_name": "LayoutView",
            "align_content": null,
            "align_items": null,
            "align_self": null,
            "border": null,
            "bottom": null,
            "display": null,
            "flex": null,
            "flex_flow": null,
            "grid_area": null,
            "grid_auto_columns": null,
            "grid_auto_flow": null,
            "grid_auto_rows": null,
            "grid_column": null,
            "grid_gap": null,
            "grid_row": null,
            "grid_template_areas": null,
            "grid_template_columns": null,
            "grid_template_rows": null,
            "height": null,
            "justify_content": null,
            "justify_items": null,
            "left": null,
            "margin": null,
            "max_height": null,
            "max_width": null,
            "min_height": null,
            "min_width": null,
            "object_fit": null,
            "object_position": null,
            "order": null,
            "overflow": null,
            "overflow_x": null,
            "overflow_y": null,
            "padding": null,
            "right": null,
            "top": null,
            "visibility": null,
            "width": null
          }
        },
        "943d385eb68646f9b1b5577337b83b44": {
          "model_module": "@jupyter-widgets/base",
          "model_module_version": "1.2.0",
          "model_name": "LayoutModel",
          "state": {
            "_model_module": "@jupyter-widgets/base",
            "_model_module_version": "1.2.0",
            "_model_name": "LayoutModel",
            "_view_count": null,
            "_view_module": "@jupyter-widgets/base",
            "_view_module_version": "1.2.0",
            "_view_name": "LayoutView",
            "align_content": null,
            "align_items": null,
            "align_self": null,
            "border": null,
            "bottom": null,
            "display": null,
            "flex": null,
            "flex_flow": null,
            "grid_area": null,
            "grid_auto_columns": null,
            "grid_auto_flow": null,
            "grid_auto_rows": null,
            "grid_column": null,
            "grid_gap": null,
            "grid_row": null,
            "grid_template_areas": null,
            "grid_template_columns": null,
            "grid_template_rows": null,
            "height": null,
            "justify_content": null,
            "justify_items": null,
            "left": null,
            "margin": null,
            "max_height": null,
            "max_width": null,
            "min_height": null,
            "min_width": null,
            "object_fit": null,
            "object_position": null,
            "order": null,
            "overflow": null,
            "overflow_x": null,
            "overflow_y": null,
            "padding": null,
            "right": null,
            "top": null,
            "visibility": null,
            "width": null
          }
        },
        "96aca88cbd444bad80cf97cd4a8d5d7c": {
          "model_module": "@jupyter-widgets/controls",
          "model_module_version": "1.5.0",
          "model_name": "DescriptionStyleModel",
          "state": {
            "_model_module": "@jupyter-widgets/controls",
            "_model_module_version": "1.5.0",
            "_model_name": "DescriptionStyleModel",
            "_view_count": null,
            "_view_module": "@jupyter-widgets/base",
            "_view_module_version": "1.2.0",
            "_view_name": "StyleView",
            "description_width": ""
          }
        },
        "97c199d17b2f4b3a827df5a8287d82db": {
          "model_module": "@jupyter-widgets/controls",
          "model_module_version": "1.5.0",
          "model_name": "HTMLModel",
          "state": {
            "_dom_classes": [],
            "_model_module": "@jupyter-widgets/controls",
            "_model_module_version": "1.5.0",
            "_model_name": "HTMLModel",
            "_view_count": null,
            "_view_module": "@jupyter-widgets/controls",
            "_view_module_version": "1.5.0",
            "_view_name": "HTMLView",
            "description": "",
            "description_tooltip": null,
            "layout": "IPY_MODEL_599174c809774c6fa57cfa89f316138d",
            "placeholder": "​",
            "style": "IPY_MODEL_04772342a72443cf88d5260a602c86f2",
            "value": "spiece.model: 100%"
          }
        },
        "a04acdf0771247088d33ad908e6cf6c2": {
          "model_module": "@jupyter-widgets/base",
          "model_module_version": "1.2.0",
          "model_name": "LayoutModel",
          "state": {
            "_model_module": "@jupyter-widgets/base",
            "_model_module_version": "1.2.0",
            "_model_name": "LayoutModel",
            "_view_count": null,
            "_view_module": "@jupyter-widgets/base",
            "_view_module_version": "1.2.0",
            "_view_name": "LayoutView",
            "align_content": null,
            "align_items": null,
            "align_self": null,
            "border": null,
            "bottom": null,
            "display": null,
            "flex": null,
            "flex_flow": null,
            "grid_area": null,
            "grid_auto_columns": null,
            "grid_auto_flow": null,
            "grid_auto_rows": null,
            "grid_column": null,
            "grid_gap": null,
            "grid_row": null,
            "grid_template_areas": null,
            "grid_template_columns": null,
            "grid_template_rows": null,
            "height": null,
            "justify_content": null,
            "justify_items": null,
            "left": null,
            "margin": null,
            "max_height": null,
            "max_width": null,
            "min_height": null,
            "min_width": null,
            "object_fit": null,
            "object_position": null,
            "order": null,
            "overflow": null,
            "overflow_x": null,
            "overflow_y": null,
            "padding": null,
            "right": null,
            "top": null,
            "visibility": null,
            "width": null
          }
        },
        "a15d85ee7aa54bbda08dca9d6587cf67": {
          "model_module": "@jupyter-widgets/base",
          "model_module_version": "1.2.0",
          "model_name": "LayoutModel",
          "state": {
            "_model_module": "@jupyter-widgets/base",
            "_model_module_version": "1.2.0",
            "_model_name": "LayoutModel",
            "_view_count": null,
            "_view_module": "@jupyter-widgets/base",
            "_view_module_version": "1.2.0",
            "_view_name": "LayoutView",
            "align_content": null,
            "align_items": null,
            "align_self": null,
            "border": null,
            "bottom": null,
            "display": null,
            "flex": null,
            "flex_flow": null,
            "grid_area": null,
            "grid_auto_columns": null,
            "grid_auto_flow": null,
            "grid_auto_rows": null,
            "grid_column": null,
            "grid_gap": null,
            "grid_row": null,
            "grid_template_areas": null,
            "grid_template_columns": null,
            "grid_template_rows": null,
            "height": null,
            "justify_content": null,
            "justify_items": null,
            "left": null,
            "margin": null,
            "max_height": null,
            "max_width": null,
            "min_height": null,
            "min_width": null,
            "object_fit": null,
            "object_position": null,
            "order": null,
            "overflow": null,
            "overflow_x": null,
            "overflow_y": null,
            "padding": null,
            "right": null,
            "top": null,
            "visibility": null,
            "width": null
          }
        },
        "a33496ceed0e4a27a04ebfe4a2aff7df": {
          "model_module": "@jupyter-widgets/base",
          "model_module_version": "1.2.0",
          "model_name": "LayoutModel",
          "state": {
            "_model_module": "@jupyter-widgets/base",
            "_model_module_version": "1.2.0",
            "_model_name": "LayoutModel",
            "_view_count": null,
            "_view_module": "@jupyter-widgets/base",
            "_view_module_version": "1.2.0",
            "_view_name": "LayoutView",
            "align_content": null,
            "align_items": null,
            "align_self": null,
            "border": null,
            "bottom": null,
            "display": null,
            "flex": null,
            "flex_flow": null,
            "grid_area": null,
            "grid_auto_columns": null,
            "grid_auto_flow": null,
            "grid_auto_rows": null,
            "grid_column": null,
            "grid_gap": null,
            "grid_row": null,
            "grid_template_areas": null,
            "grid_template_columns": null,
            "grid_template_rows": null,
            "height": null,
            "justify_content": null,
            "justify_items": null,
            "left": null,
            "margin": null,
            "max_height": null,
            "max_width": null,
            "min_height": null,
            "min_width": null,
            "object_fit": null,
            "object_position": null,
            "order": null,
            "overflow": null,
            "overflow_x": null,
            "overflow_y": null,
            "padding": null,
            "right": null,
            "top": null,
            "visibility": null,
            "width": null
          }
        },
        "a6afed03b12d45f596362fd6e804dece": {
          "model_module": "@jupyter-widgets/base",
          "model_module_version": "1.2.0",
          "model_name": "LayoutModel",
          "state": {
            "_model_module": "@jupyter-widgets/base",
            "_model_module_version": "1.2.0",
            "_model_name": "LayoutModel",
            "_view_count": null,
            "_view_module": "@jupyter-widgets/base",
            "_view_module_version": "1.2.0",
            "_view_name": "LayoutView",
            "align_content": null,
            "align_items": null,
            "align_self": null,
            "border": null,
            "bottom": null,
            "display": null,
            "flex": null,
            "flex_flow": null,
            "grid_area": null,
            "grid_auto_columns": null,
            "grid_auto_flow": null,
            "grid_auto_rows": null,
            "grid_column": null,
            "grid_gap": null,
            "grid_row": null,
            "grid_template_areas": null,
            "grid_template_columns": null,
            "grid_template_rows": null,
            "height": null,
            "justify_content": null,
            "justify_items": null,
            "left": null,
            "margin": null,
            "max_height": null,
            "max_width": null,
            "min_height": null,
            "min_width": null,
            "object_fit": null,
            "object_position": null,
            "order": null,
            "overflow": null,
            "overflow_x": null,
            "overflow_y": null,
            "padding": null,
            "right": null,
            "top": null,
            "visibility": null,
            "width": null
          }
        },
        "a6ea15f49f1b46a7991fe2a016321891": {
          "model_module": "@jupyter-widgets/base",
          "model_module_version": "1.2.0",
          "model_name": "LayoutModel",
          "state": {
            "_model_module": "@jupyter-widgets/base",
            "_model_module_version": "1.2.0",
            "_model_name": "LayoutModel",
            "_view_count": null,
            "_view_module": "@jupyter-widgets/base",
            "_view_module_version": "1.2.0",
            "_view_name": "LayoutView",
            "align_content": null,
            "align_items": null,
            "align_self": null,
            "border": null,
            "bottom": null,
            "display": null,
            "flex": null,
            "flex_flow": null,
            "grid_area": null,
            "grid_auto_columns": null,
            "grid_auto_flow": null,
            "grid_auto_rows": null,
            "grid_column": null,
            "grid_gap": null,
            "grid_row": null,
            "grid_template_areas": null,
            "grid_template_columns": null,
            "grid_template_rows": null,
            "height": null,
            "justify_content": null,
            "justify_items": null,
            "left": null,
            "margin": null,
            "max_height": null,
            "max_width": null,
            "min_height": null,
            "min_width": null,
            "object_fit": null,
            "object_position": null,
            "order": null,
            "overflow": null,
            "overflow_x": null,
            "overflow_y": null,
            "padding": null,
            "right": null,
            "top": null,
            "visibility": null,
            "width": null
          }
        },
        "a7dd4f293cb1475594a748f6eb117fe5": {
          "model_module": "@jupyter-widgets/base",
          "model_module_version": "1.2.0",
          "model_name": "LayoutModel",
          "state": {
            "_model_module": "@jupyter-widgets/base",
            "_model_module_version": "1.2.0",
            "_model_name": "LayoutModel",
            "_view_count": null,
            "_view_module": "@jupyter-widgets/base",
            "_view_module_version": "1.2.0",
            "_view_name": "LayoutView",
            "align_content": null,
            "align_items": null,
            "align_self": null,
            "border": null,
            "bottom": null,
            "display": null,
            "flex": null,
            "flex_flow": null,
            "grid_area": null,
            "grid_auto_columns": null,
            "grid_auto_flow": null,
            "grid_auto_rows": null,
            "grid_column": null,
            "grid_gap": null,
            "grid_row": null,
            "grid_template_areas": null,
            "grid_template_columns": null,
            "grid_template_rows": null,
            "height": null,
            "justify_content": null,
            "justify_items": null,
            "left": null,
            "margin": null,
            "max_height": null,
            "max_width": null,
            "min_height": null,
            "min_width": null,
            "object_fit": null,
            "object_position": null,
            "order": null,
            "overflow": null,
            "overflow_x": null,
            "overflow_y": null,
            "padding": null,
            "right": null,
            "top": null,
            "visibility": null,
            "width": null
          }
        },
        "a8b54cd868cf485a91615e02d8f82f31": {
          "model_module": "@jupyter-widgets/base",
          "model_module_version": "1.2.0",
          "model_name": "LayoutModel",
          "state": {
            "_model_module": "@jupyter-widgets/base",
            "_model_module_version": "1.2.0",
            "_model_name": "LayoutModel",
            "_view_count": null,
            "_view_module": "@jupyter-widgets/base",
            "_view_module_version": "1.2.0",
            "_view_name": "LayoutView",
            "align_content": null,
            "align_items": null,
            "align_self": null,
            "border": null,
            "bottom": null,
            "display": null,
            "flex": null,
            "flex_flow": null,
            "grid_area": null,
            "grid_auto_columns": null,
            "grid_auto_flow": null,
            "grid_auto_rows": null,
            "grid_column": null,
            "grid_gap": null,
            "grid_row": null,
            "grid_template_areas": null,
            "grid_template_columns": null,
            "grid_template_rows": null,
            "height": null,
            "justify_content": null,
            "justify_items": null,
            "left": null,
            "margin": null,
            "max_height": null,
            "max_width": null,
            "min_height": null,
            "min_width": null,
            "object_fit": null,
            "object_position": null,
            "order": null,
            "overflow": null,
            "overflow_x": null,
            "overflow_y": null,
            "padding": null,
            "right": null,
            "top": null,
            "visibility": null,
            "width": null
          }
        },
        "a8c182f3e0904d399b65415800b4b1c9": {
          "model_module": "@jupyter-widgets/controls",
          "model_module_version": "1.5.0",
          "model_name": "ProgressStyleModel",
          "state": {
            "_model_module": "@jupyter-widgets/controls",
            "_model_module_version": "1.5.0",
            "_model_name": "ProgressStyleModel",
            "_view_count": null,
            "_view_module": "@jupyter-widgets/base",
            "_view_module_version": "1.2.0",
            "_view_name": "StyleView",
            "bar_color": null,
            "description_width": ""
          }
        },
        "b3766359183e456eb686a8bd04144eda": {
          "model_module": "@jupyter-widgets/base",
          "model_module_version": "1.2.0",
          "model_name": "LayoutModel",
          "state": {
            "_model_module": "@jupyter-widgets/base",
            "_model_module_version": "1.2.0",
            "_model_name": "LayoutModel",
            "_view_count": null,
            "_view_module": "@jupyter-widgets/base",
            "_view_module_version": "1.2.0",
            "_view_name": "LayoutView",
            "align_content": null,
            "align_items": null,
            "align_self": null,
            "border": null,
            "bottom": null,
            "display": null,
            "flex": null,
            "flex_flow": null,
            "grid_area": null,
            "grid_auto_columns": null,
            "grid_auto_flow": null,
            "grid_auto_rows": null,
            "grid_column": null,
            "grid_gap": null,
            "grid_row": null,
            "grid_template_areas": null,
            "grid_template_columns": null,
            "grid_template_rows": null,
            "height": null,
            "justify_content": null,
            "justify_items": null,
            "left": null,
            "margin": null,
            "max_height": null,
            "max_width": null,
            "min_height": null,
            "min_width": null,
            "object_fit": null,
            "object_position": null,
            "order": null,
            "overflow": null,
            "overflow_x": null,
            "overflow_y": null,
            "padding": null,
            "right": null,
            "top": null,
            "visibility": null,
            "width": null
          }
        },
        "b8704e15c57d49b0914de415fccf7a26": {
          "model_module": "@jupyter-widgets/controls",
          "model_module_version": "1.5.0",
          "model_name": "HTMLModel",
          "state": {
            "_dom_classes": [],
            "_model_module": "@jupyter-widgets/controls",
            "_model_module_version": "1.5.0",
            "_model_name": "HTMLModel",
            "_view_count": null,
            "_view_module": "@jupyter-widgets/controls",
            "_view_module_version": "1.5.0",
            "_view_name": "HTMLView",
            "description": "",
            "description_tooltip": null,
            "layout": "IPY_MODEL_007899a9aec24843989e150c74e74c04",
            "placeholder": "​",
            "style": "IPY_MODEL_eb633ec231954362a15ab48cd93e55d3",
            "value": "config.json: 100%"
          }
        },
        "bbcc58b6bcee483d84ac39bd3da47047": {
          "model_module": "@jupyter-widgets/controls",
          "model_module_version": "1.5.0",
          "model_name": "DescriptionStyleModel",
          "state": {
            "_model_module": "@jupyter-widgets/controls",
            "_model_module_version": "1.5.0",
            "_model_name": "DescriptionStyleModel",
            "_view_count": null,
            "_view_module": "@jupyter-widgets/base",
            "_view_module_version": "1.2.0",
            "_view_name": "StyleView",
            "description_width": ""
          }
        },
        "bf59f42867cb4f588884603744453b01": {
          "model_module": "@jupyter-widgets/controls",
          "model_module_version": "1.5.0",
          "model_name": "HBoxModel",
          "state": {
            "_dom_classes": [],
            "_model_module": "@jupyter-widgets/controls",
            "_model_module_version": "1.5.0",
            "_model_name": "HBoxModel",
            "_view_count": null,
            "_view_module": "@jupyter-widgets/controls",
            "_view_module_version": "1.5.0",
            "_view_name": "HBoxView",
            "box_style": "",
            "children": [
              "IPY_MODEL_38311775bd914fd48cb713217447ab2d",
              "IPY_MODEL_ebdf060999214158b66f9e286bb0f32f",
              "IPY_MODEL_4ae7866ef9cc4c8fbed95453a2964cb6"
            ],
            "layout": "IPY_MODEL_8de2a832423d423ca460c9ae4c48a4a6"
          }
        },
        "c080410a371248fa966d4b2fb38040dc": {
          "model_module": "@jupyter-widgets/controls",
          "model_module_version": "1.5.0",
          "model_name": "DescriptionStyleModel",
          "state": {
            "_model_module": "@jupyter-widgets/controls",
            "_model_module_version": "1.5.0",
            "_model_name": "DescriptionStyleModel",
            "_view_count": null,
            "_view_module": "@jupyter-widgets/base",
            "_view_module_version": "1.2.0",
            "_view_name": "StyleView",
            "description_width": ""
          }
        },
        "c0a4e7dd626f4041a52323a30d90cf5f": {
          "model_module": "@jupyter-widgets/controls",
          "model_module_version": "1.5.0",
          "model_name": "HTMLModel",
          "state": {
            "_dom_classes": [],
            "_model_module": "@jupyter-widgets/controls",
            "_model_module_version": "1.5.0",
            "_model_name": "HTMLModel",
            "_view_count": null,
            "_view_module": "@jupyter-widgets/controls",
            "_view_module_version": "1.5.0",
            "_view_name": "HTMLView",
            "description": "",
            "description_tooltip": null,
            "layout": "IPY_MODEL_fc81d299e9ef48ba850f529e4b94c12a",
            "placeholder": "​",
            "style": "IPY_MODEL_e48f55eb3cbd47b2b45e1e493989fd33",
            "value": "model.safetensors: 100%"
          }
        },
        "c6d4ab71fb584d849e71a88b5a57ee63": {
          "model_module": "@jupyter-widgets/base",
          "model_module_version": "1.2.0",
          "model_name": "LayoutModel",
          "state": {
            "_model_module": "@jupyter-widgets/base",
            "_model_module_version": "1.2.0",
            "_model_name": "LayoutModel",
            "_view_count": null,
            "_view_module": "@jupyter-widgets/base",
            "_view_module_version": "1.2.0",
            "_view_name": "LayoutView",
            "align_content": null,
            "align_items": null,
            "align_self": null,
            "border": null,
            "bottom": null,
            "display": null,
            "flex": null,
            "flex_flow": null,
            "grid_area": null,
            "grid_auto_columns": null,
            "grid_auto_flow": null,
            "grid_auto_rows": null,
            "grid_column": null,
            "grid_gap": null,
            "grid_row": null,
            "grid_template_areas": null,
            "grid_template_columns": null,
            "grid_template_rows": null,
            "height": null,
            "justify_content": null,
            "justify_items": null,
            "left": null,
            "margin": null,
            "max_height": null,
            "max_width": null,
            "min_height": null,
            "min_width": null,
            "object_fit": null,
            "object_position": null,
            "order": null,
            "overflow": null,
            "overflow_x": null,
            "overflow_y": null,
            "padding": null,
            "right": null,
            "top": null,
            "visibility": null,
            "width": null
          }
        },
        "cecbbbadac3f4ba69983a4778e7794ae": {
          "model_module": "@jupyter-widgets/controls",
          "model_module_version": "1.5.0",
          "model_name": "HTMLModel",
          "state": {
            "_dom_classes": [],
            "_model_module": "@jupyter-widgets/controls",
            "_model_module_version": "1.5.0",
            "_model_name": "HTMLModel",
            "_view_count": null,
            "_view_module": "@jupyter-widgets/controls",
            "_view_module_version": "1.5.0",
            "_view_name": "HTMLView",
            "description": "",
            "description_tooltip": null,
            "layout": "IPY_MODEL_de55cc293e2947e78f82d93ee4b060a3",
            "placeholder": "​",
            "style": "IPY_MODEL_493fce5b3be54223b441e627d72e8ddb",
            "value": "Map:   0%"
          }
        },
        "d4cb3a3218084d98be57efa13dfd9bcc": {
          "model_module": "@jupyter-widgets/controls",
          "model_module_version": "1.5.0",
          "model_name": "HBoxModel",
          "state": {
            "_dom_classes": [],
            "_model_module": "@jupyter-widgets/controls",
            "_model_module_version": "1.5.0",
            "_model_name": "HBoxModel",
            "_view_count": null,
            "_view_module": "@jupyter-widgets/controls",
            "_view_module_version": "1.5.0",
            "_view_name": "HBoxView",
            "box_style": "",
            "children": [
              "IPY_MODEL_b8704e15c57d49b0914de415fccf7a26",
              "IPY_MODEL_7026618e38044449aca5c3cbfec8a36e",
              "IPY_MODEL_df871ef75d1949b39a8d689cede1c08c"
            ],
            "layout": "IPY_MODEL_548cbf0abf0541909f0178cee2905e1e"
          }
        },
        "d6b2722fd9854d7faa089b41d36f0ea9": {
          "model_module": "@jupyter-widgets/controls",
          "model_module_version": "1.5.0",
          "model_name": "DescriptionStyleModel",
          "state": {
            "_model_module": "@jupyter-widgets/controls",
            "_model_module_version": "1.5.0",
            "_model_name": "DescriptionStyleModel",
            "_view_count": null,
            "_view_module": "@jupyter-widgets/base",
            "_view_module_version": "1.2.0",
            "_view_name": "StyleView",
            "description_width": ""
          }
        },
        "d6b7f51f677948a990a20c1f813dcd23": {
          "model_module": "@jupyter-widgets/base",
          "model_module_version": "1.2.0",
          "model_name": "LayoutModel",
          "state": {
            "_model_module": "@jupyter-widgets/base",
            "_model_module_version": "1.2.0",
            "_model_name": "LayoutModel",
            "_view_count": null,
            "_view_module": "@jupyter-widgets/base",
            "_view_module_version": "1.2.0",
            "_view_name": "LayoutView",
            "align_content": null,
            "align_items": null,
            "align_self": null,
            "border": null,
            "bottom": null,
            "display": null,
            "flex": null,
            "flex_flow": null,
            "grid_area": null,
            "grid_auto_columns": null,
            "grid_auto_flow": null,
            "grid_auto_rows": null,
            "grid_column": null,
            "grid_gap": null,
            "grid_row": null,
            "grid_template_areas": null,
            "grid_template_columns": null,
            "grid_template_rows": null,
            "height": null,
            "justify_content": null,
            "justify_items": null,
            "left": null,
            "margin": null,
            "max_height": null,
            "max_width": null,
            "min_height": null,
            "min_width": null,
            "object_fit": null,
            "object_position": null,
            "order": null,
            "overflow": null,
            "overflow_x": null,
            "overflow_y": null,
            "padding": null,
            "right": null,
            "top": null,
            "visibility": null,
            "width": null
          }
        },
        "db7a2996f0a74f428a8036cee274125e": {
          "model_module": "@jupyter-widgets/base",
          "model_module_version": "1.2.0",
          "model_name": "LayoutModel",
          "state": {
            "_model_module": "@jupyter-widgets/base",
            "_model_module_version": "1.2.0",
            "_model_name": "LayoutModel",
            "_view_count": null,
            "_view_module": "@jupyter-widgets/base",
            "_view_module_version": "1.2.0",
            "_view_name": "LayoutView",
            "align_content": null,
            "align_items": null,
            "align_self": null,
            "border": null,
            "bottom": null,
            "display": null,
            "flex": null,
            "flex_flow": null,
            "grid_area": null,
            "grid_auto_columns": null,
            "grid_auto_flow": null,
            "grid_auto_rows": null,
            "grid_column": null,
            "grid_gap": null,
            "grid_row": null,
            "grid_template_areas": null,
            "grid_template_columns": null,
            "grid_template_rows": null,
            "height": null,
            "justify_content": null,
            "justify_items": null,
            "left": null,
            "margin": null,
            "max_height": null,
            "max_width": null,
            "min_height": null,
            "min_width": null,
            "object_fit": null,
            "object_position": null,
            "order": null,
            "overflow": null,
            "overflow_x": null,
            "overflow_y": null,
            "padding": null,
            "right": null,
            "top": null,
            "visibility": null,
            "width": null
          }
        },
        "dbb012bb436c4e94a5e27a71cc4d35b9": {
          "model_module": "@jupyter-widgets/controls",
          "model_module_version": "1.5.0",
          "model_name": "FloatProgressModel",
          "state": {
            "_dom_classes": [],
            "_model_module": "@jupyter-widgets/controls",
            "_model_module_version": "1.5.0",
            "_model_name": "FloatProgressModel",
            "_view_count": null,
            "_view_module": "@jupyter-widgets/controls",
            "_view_module_version": "1.5.0",
            "_view_name": "ProgressView",
            "bar_style": "success",
            "description": "",
            "description_tooltip": null,
            "layout": "IPY_MODEL_55bb85f1eabf4b0ea303f1db31e6946d",
            "max": 2324,
            "min": 0,
            "orientation": "horizontal",
            "style": "IPY_MODEL_a8c182f3e0904d399b65415800b4b1c9",
            "value": 2324
          }
        },
        "dbe5214290334e5983b34a095ee4d2d1": {
          "model_module": "@jupyter-widgets/controls",
          "model_module_version": "1.5.0",
          "model_name": "HBoxModel",
          "state": {
            "_dom_classes": [],
            "_model_module": "@jupyter-widgets/controls",
            "_model_module_version": "1.5.0",
            "_model_name": "HBoxModel",
            "_view_count": null,
            "_view_module": "@jupyter-widgets/controls",
            "_view_module_version": "1.5.0",
            "_view_name": "HBoxView",
            "box_style": "",
            "children": [
              "IPY_MODEL_e2655ebbd7b44c1e8ad715c7083f16bf",
              "IPY_MODEL_f420d94581f4481797e28a5081a19e33",
              "IPY_MODEL_747e9878a23346a8b5ebd918c1a5d45d"
            ],
            "layout": "IPY_MODEL_a6afed03b12d45f596362fd6e804dece"
          }
        },
        "dc4662a812fb448188a1127ccd427acb": {
          "model_module": "@jupyter-widgets/base",
          "model_module_version": "1.2.0",
          "model_name": "LayoutModel",
          "state": {
            "_model_module": "@jupyter-widgets/base",
            "_model_module_version": "1.2.0",
            "_model_name": "LayoutModel",
            "_view_count": null,
            "_view_module": "@jupyter-widgets/base",
            "_view_module_version": "1.2.0",
            "_view_name": "LayoutView",
            "align_content": null,
            "align_items": null,
            "align_self": null,
            "border": null,
            "bottom": null,
            "display": null,
            "flex": null,
            "flex_flow": null,
            "grid_area": null,
            "grid_auto_columns": null,
            "grid_auto_flow": null,
            "grid_auto_rows": null,
            "grid_column": null,
            "grid_gap": null,
            "grid_row": null,
            "grid_template_areas": null,
            "grid_template_columns": null,
            "grid_template_rows": null,
            "height": null,
            "justify_content": null,
            "justify_items": null,
            "left": null,
            "margin": null,
            "max_height": null,
            "max_width": null,
            "min_height": null,
            "min_width": null,
            "object_fit": null,
            "object_position": null,
            "order": null,
            "overflow": null,
            "overflow_x": null,
            "overflow_y": null,
            "padding": null,
            "right": null,
            "top": null,
            "visibility": null,
            "width": null
          }
        },
        "de55cc293e2947e78f82d93ee4b060a3": {
          "model_module": "@jupyter-widgets/base",
          "model_module_version": "1.2.0",
          "model_name": "LayoutModel",
          "state": {
            "_model_module": "@jupyter-widgets/base",
            "_model_module_version": "1.2.0",
            "_model_name": "LayoutModel",
            "_view_count": null,
            "_view_module": "@jupyter-widgets/base",
            "_view_module_version": "1.2.0",
            "_view_name": "LayoutView",
            "align_content": null,
            "align_items": null,
            "align_self": null,
            "border": null,
            "bottom": null,
            "display": null,
            "flex": null,
            "flex_flow": null,
            "grid_area": null,
            "grid_auto_columns": null,
            "grid_auto_flow": null,
            "grid_auto_rows": null,
            "grid_column": null,
            "grid_gap": null,
            "grid_row": null,
            "grid_template_areas": null,
            "grid_template_columns": null,
            "grid_template_rows": null,
            "height": null,
            "justify_content": null,
            "justify_items": null,
            "left": null,
            "margin": null,
            "max_height": null,
            "max_width": null,
            "min_height": null,
            "min_width": null,
            "object_fit": null,
            "object_position": null,
            "order": null,
            "overflow": null,
            "overflow_x": null,
            "overflow_y": null,
            "padding": null,
            "right": null,
            "top": null,
            "visibility": null,
            "width": null
          }
        },
        "df871ef75d1949b39a8d689cede1c08c": {
          "model_module": "@jupyter-widgets/controls",
          "model_module_version": "1.5.0",
          "model_name": "HTMLModel",
          "state": {
            "_dom_classes": [],
            "_model_module": "@jupyter-widgets/controls",
            "_model_module_version": "1.5.0",
            "_model_name": "HTMLModel",
            "_view_count": null,
            "_view_module": "@jupyter-widgets/controls",
            "_view_module_version": "1.5.0",
            "_view_name": "HTMLView",
            "description": "",
            "description_tooltip": null,
            "layout": "IPY_MODEL_039076bf279e4c5aab93ec81a20e4481",
            "placeholder": "​",
            "style": "IPY_MODEL_3162d3059a594ec68ca6b8bbb24bc9e4",
            "value": " 1.21k/1.21k [00:00&lt;00:00, 86.5kB/s]"
          }
        },
        "e2655ebbd7b44c1e8ad715c7083f16bf": {
          "model_module": "@jupyter-widgets/controls",
          "model_module_version": "1.5.0",
          "model_name": "HTMLModel",
          "state": {
            "_dom_classes": [],
            "_model_module": "@jupyter-widgets/controls",
            "_model_module_version": "1.5.0",
            "_model_name": "HTMLModel",
            "_view_count": null,
            "_view_module": "@jupyter-widgets/controls",
            "_view_module_version": "1.5.0",
            "_view_name": "HTMLView",
            "description": "",
            "description_tooltip": null,
            "layout": "IPY_MODEL_6f6a27de51804b6ca41f7cd5fb1d8cc3",
            "placeholder": "​",
            "style": "IPY_MODEL_818c428e29744dbea62354d001a480d0",
            "value": "Generating train split: "
          }
        },
        "e48f55eb3cbd47b2b45e1e493989fd33": {
          "model_module": "@jupyter-widgets/controls",
          "model_module_version": "1.5.0",
          "model_name": "DescriptionStyleModel",
          "state": {
            "_model_module": "@jupyter-widgets/controls",
            "_model_module_version": "1.5.0",
            "_model_name": "DescriptionStyleModel",
            "_view_count": null,
            "_view_module": "@jupyter-widgets/base",
            "_view_module_version": "1.2.0",
            "_view_name": "StyleView",
            "description_width": ""
          }
        },
        "eab18b3c1e204978a35829d00f81af6e": {
          "model_module": "@jupyter-widgets/controls",
          "model_module_version": "1.5.0",
          "model_name": "FloatProgressModel",
          "state": {
            "_dom_classes": [],
            "_model_module": "@jupyter-widgets/controls",
            "_model_module_version": "1.5.0",
            "_model_name": "FloatProgressModel",
            "_view_count": null,
            "_view_module": "@jupyter-widgets/controls",
            "_view_module_version": "1.5.0",
            "_view_name": "ProgressView",
            "bar_style": "success",
            "description": "",
            "description_tooltip": null,
            "layout": "IPY_MODEL_a6ea15f49f1b46a7991fe2a016321891",
            "max": 147,
            "min": 0,
            "orientation": "horizontal",
            "style": "IPY_MODEL_66fc24681a1d45ee81e6b304242b05c9",
            "value": 147
          }
        },
        "eab4707a09eb4f988d42b6e3b5d131e4": {
          "model_module": "@jupyter-widgets/controls",
          "model_module_version": "1.5.0",
          "model_name": "HBoxModel",
          "state": {
            "_dom_classes": [],
            "_model_module": "@jupyter-widgets/controls",
            "_model_module_version": "1.5.0",
            "_model_name": "HBoxModel",
            "_view_count": null,
            "_view_module": "@jupyter-widgets/controls",
            "_view_module_version": "1.5.0",
            "_view_name": "HBoxView",
            "box_style": "",
            "children": [
              "IPY_MODEL_f122c739a97e4098b0d46e6f98c1aa42",
              "IPY_MODEL_eab18b3c1e204978a35829d00f81af6e",
              "IPY_MODEL_190c5a83fc8e4e72be77afa9a1cc02c2"
            ],
            "layout": "IPY_MODEL_917cecfb01bd42d2a5b9026ebbcaae4e"
          }
        },
        "eb633ec231954362a15ab48cd93e55d3": {
          "model_module": "@jupyter-widgets/controls",
          "model_module_version": "1.5.0",
          "model_name": "DescriptionStyleModel",
          "state": {
            "_model_module": "@jupyter-widgets/controls",
            "_model_module_version": "1.5.0",
            "_model_name": "DescriptionStyleModel",
            "_view_count": null,
            "_view_module": "@jupyter-widgets/base",
            "_view_module_version": "1.2.0",
            "_view_name": "StyleView",
            "description_width": ""
          }
        },
        "eb94e3eeb1ed4834b24f38e729064c9d": {
          "model_module": "@jupyter-widgets/controls",
          "model_module_version": "1.5.0",
          "model_name": "HTMLModel",
          "state": {
            "_dom_classes": [],
            "_model_module": "@jupyter-widgets/controls",
            "_model_module_version": "1.5.0",
            "_model_name": "HTMLModel",
            "_view_count": null,
            "_view_module": "@jupyter-widgets/controls",
            "_view_module_version": "1.5.0",
            "_view_name": "HTMLView",
            "description": "",
            "description_tooltip": null,
            "layout": "IPY_MODEL_b3766359183e456eb686a8bd04144eda",
            "placeholder": "​",
            "style": "IPY_MODEL_5e10937e7fc34026b24da7d7072cbeb9",
            "value": " 242M/242M [00:00&lt;00:00, 317MB/s]"
          }
        },
        "ebdf060999214158b66f9e286bb0f32f": {
          "model_module": "@jupyter-widgets/controls",
          "model_module_version": "1.5.0",
          "model_name": "FloatProgressModel",
          "state": {
            "_dom_classes": [],
            "_model_module": "@jupyter-widgets/controls",
            "_model_module_version": "1.5.0",
            "_model_name": "FloatProgressModel",
            "_view_count": null,
            "_view_module": "@jupyter-widgets/controls",
            "_view_module_version": "1.5.0",
            "_view_name": "ProgressView",
            "bar_style": "success",
            "description": "",
            "description_tooltip": null,
            "layout": "IPY_MODEL_dc4662a812fb448188a1127ccd427acb",
            "max": 1389353,
            "min": 0,
            "orientation": "horizontal",
            "style": "IPY_MODEL_5e5d045707234dd194dbd920247e8be5",
            "value": 1389353
          }
        },
        "ef5d13cff7494d3da898a38c6cba6ea5": {
          "model_module": "@jupyter-widgets/controls",
          "model_module_version": "1.5.0",
          "model_name": "ProgressStyleModel",
          "state": {
            "_model_module": "@jupyter-widgets/controls",
            "_model_module_version": "1.5.0",
            "_model_name": "ProgressStyleModel",
            "_view_count": null,
            "_view_module": "@jupyter-widgets/base",
            "_view_module_version": "1.2.0",
            "_view_name": "StyleView",
            "bar_color": null,
            "description_width": ""
          }
        },
        "f0dff508d07f47d2b4801e0e2f6cd74e": {
          "model_module": "@jupyter-widgets/base",
          "model_module_version": "1.2.0",
          "model_name": "LayoutModel",
          "state": {
            "_model_module": "@jupyter-widgets/base",
            "_model_module_version": "1.2.0",
            "_model_name": "LayoutModel",
            "_view_count": null,
            "_view_module": "@jupyter-widgets/base",
            "_view_module_version": "1.2.0",
            "_view_name": "LayoutView",
            "align_content": null,
            "align_items": null,
            "align_self": null,
            "border": null,
            "bottom": null,
            "display": null,
            "flex": null,
            "flex_flow": null,
            "grid_area": null,
            "grid_auto_columns": null,
            "grid_auto_flow": null,
            "grid_auto_rows": null,
            "grid_column": null,
            "grid_gap": null,
            "grid_row": null,
            "grid_template_areas": null,
            "grid_template_columns": null,
            "grid_template_rows": null,
            "height": null,
            "justify_content": null,
            "justify_items": null,
            "left": null,
            "margin": null,
            "max_height": null,
            "max_width": null,
            "min_height": null,
            "min_width": null,
            "object_fit": null,
            "object_position": null,
            "order": null,
            "overflow": null,
            "overflow_x": null,
            "overflow_y": null,
            "padding": null,
            "right": null,
            "top": null,
            "visibility": null,
            "width": null
          }
        },
        "f122c739a97e4098b0d46e6f98c1aa42": {
          "model_module": "@jupyter-widgets/controls",
          "model_module_version": "1.5.0",
          "model_name": "HTMLModel",
          "state": {
            "_dom_classes": [],
            "_model_module": "@jupyter-widgets/controls",
            "_model_module_version": "1.5.0",
            "_model_name": "HTMLModel",
            "_view_count": null,
            "_view_module": "@jupyter-widgets/controls",
            "_view_module_version": "1.5.0",
            "_view_name": "HTMLView",
            "description": "",
            "description_tooltip": null,
            "layout": "IPY_MODEL_027320eed74a401984513d041785c959",
            "placeholder": "​",
            "style": "IPY_MODEL_3be58927fcaa4d538306d6ccab8b686c",
            "value": "generation_config.json: 100%"
          }
        },
        "f1aab4b6ad2c4ffd9da72fb18cad7022": {
          "model_module": "@jupyter-widgets/controls",
          "model_module_version": "1.5.0",
          "model_name": "DescriptionStyleModel",
          "state": {
            "_model_module": "@jupyter-widgets/controls",
            "_model_module_version": "1.5.0",
            "_model_name": "DescriptionStyleModel",
            "_view_count": null,
            "_view_module": "@jupyter-widgets/base",
            "_view_module_version": "1.2.0",
            "_view_name": "StyleView",
            "description_width": ""
          }
        },
        "f420d94581f4481797e28a5081a19e33": {
          "model_module": "@jupyter-widgets/controls",
          "model_module_version": "1.5.0",
          "model_name": "FloatProgressModel",
          "state": {
            "_dom_classes": [],
            "_model_module": "@jupyter-widgets/controls",
            "_model_module_version": "1.5.0",
            "_model_name": "FloatProgressModel",
            "_view_count": null,
            "_view_module": "@jupyter-widgets/controls",
            "_view_module_version": "1.5.0",
            "_view_name": "ProgressView",
            "bar_style": "success",
            "description": "",
            "description_tooltip": null,
            "layout": "IPY_MODEL_1c6ff94cdb8247d4b7e728bed2442f01",
            "max": 1,
            "min": 0,
            "orientation": "horizontal",
            "style": "IPY_MODEL_ef5d13cff7494d3da898a38c6cba6ea5",
            "value": 1
          }
        },
        "f5fd9d571de14ce4b08265e6ae298ec2": {
          "model_module": "@jupyter-widgets/controls",
          "model_module_version": "1.5.0",
          "model_name": "HTMLModel",
          "state": {
            "_dom_classes": [],
            "_model_module": "@jupyter-widgets/controls",
            "_model_module_version": "1.5.0",
            "_model_name": "HTMLModel",
            "_view_count": null,
            "_view_module": "@jupyter-widgets/controls",
            "_view_module_version": "1.5.0",
            "_view_name": "HTMLView",
            "description": "",
            "description_tooltip": null,
            "layout": "IPY_MODEL_943d385eb68646f9b1b5577337b83b44",
            "placeholder": "​",
            "style": "IPY_MODEL_0532ff03362a463ab23eb1418e128a44",
            "value": " 2.32k/2.32k [00:00&lt;00:00, 181kB/s]"
          }
        },
        "fc81d299e9ef48ba850f529e4b94c12a": {
          "model_module": "@jupyter-widgets/base",
          "model_module_version": "1.2.0",
          "model_name": "LayoutModel",
          "state": {
            "_model_module": "@jupyter-widgets/base",
            "_model_module_version": "1.2.0",
            "_model_name": "LayoutModel",
            "_view_count": null,
            "_view_module": "@jupyter-widgets/base",
            "_view_module_version": "1.2.0",
            "_view_name": "LayoutView",
            "align_content": null,
            "align_items": null,
            "align_self": null,
            "border": null,
            "bottom": null,
            "display": null,
            "flex": null,
            "flex_flow": null,
            "grid_area": null,
            "grid_auto_columns": null,
            "grid_auto_flow": null,
            "grid_auto_rows": null,
            "grid_column": null,
            "grid_gap": null,
            "grid_row": null,
            "grid_template_areas": null,
            "grid_template_columns": null,
            "grid_template_rows": null,
            "height": null,
            "justify_content": null,
            "justify_items": null,
            "left": null,
            "margin": null,
            "max_height": null,
            "max_width": null,
            "min_height": null,
            "min_width": null,
            "object_fit": null,
            "object_position": null,
            "order": null,
            "overflow": null,
            "overflow_x": null,
            "overflow_y": null,
            "padding": null,
            "right": null,
            "top": null,
            "visibility": null,
            "width": null
          }
        }
      }
    }
  },
  "nbformat": 4,
  "nbformat_minor": 5
}