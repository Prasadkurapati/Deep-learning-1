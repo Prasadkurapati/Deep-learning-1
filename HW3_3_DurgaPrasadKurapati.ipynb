{
 "cells": [
  {
   "cell_type": "code",
   "execution_count": 1,
   "id": "9dcc3d65-8eb9-48d8-bbdf-6a02312fee36",
   "metadata": {},
   "outputs": [],
   "source": [
    "import torch\n",
    "import torch.nn as nn\n",
    "import torch.optim as optim\n",
    "from torchvision import transforms, datasets\n",
    "from torch.utils.data import DataLoader\n",
    "import random\n",
    "from tqdm import tqdm"
   ]
  },
  {
   "cell_type": "code",
   "execution_count": 2,
   "id": "8c86d35b-3c50-4428-ac77-c22a87275a63",
   "metadata": {},
   "outputs": [],
   "source": [
    "class ConvAutoencoder(nn.Module):\n",
    "    def __init__(self):\n",
    "        super(ConvAutoencoder, self).__init__()\n",
    "        \n",
    "        # Encoder\n",
    "        self.encoder_conv = nn.Sequential(\n",
    "            nn.Conv2d(3, 32, 3, stride=2, padding=1),  # 112x112\n",
    "            nn.BatchNorm2d(32),\n",
    "            nn.ReLU(),\n",
    "            nn.Conv2d(32, 64, 3, stride=2, padding=1),  # 56x56\n",
    "            nn.BatchNorm2d(64),\n",
    "            nn.ReLU(),\n",
    "            nn.Conv2d(64, 128, 3, stride=2, padding=1),  # 28x28\n",
    "            nn.BatchNorm2d(128),\n",
    "            nn.ReLU(),\n",
    "            nn.Conv2d(128, 256, 3, stride=2, padding=1),  # 14x14\n",
    "            nn.BatchNorm2d(256),\n",
    "            nn.ReLU(),\n",
    "            nn.Conv2d(256, 512, 3, stride=2, padding=1),  # 7x7\n",
    "            nn.BatchNorm2d(512),\n",
    "            nn.ReLU(),\n",
    "            nn.Conv2d(512, 512, 7, stride=1, padding=0),  # 1x1\n",
    "            nn.BatchNorm2d(512),\n",
    "            nn.ReLU()\n",
    "        )\n",
    "        \n",
    "        self.encoder_linear = nn.Sequential(\n",
    "            nn.Flatten(),\n",
    "            nn.Linear(512, 512),\n",
    "            nn.ReLU()\n",
    "        )\n",
    "        \n",
    "        # Decoder\n",
    "        self.decoder_linear = nn.Sequential(\n",
    "            nn.Linear(512, 512),\n",
    "            nn.ReLU(),\n",
    "            nn.Unflatten(1, (512, 1, 1))\n",
    "        )\n",
    "        \n",
    "        self.decoder_conv = nn.Sequential(\n",
    "            nn.ConvTranspose2d(512, 512, 7, stride=1, padding=0),  # 7x7\n",
    "            nn.BatchNorm2d(512),\n",
    "            nn.ReLU(),\n",
    "            nn.ConvTranspose2d(512, 256, 4, stride=2, padding=1),  # 14x14\n",
    "            nn.BatchNorm2d(256),\n",
    "            nn.ReLU(),\n",
    "            nn.ConvTranspose2d(256, 128, 4, stride=2, padding=1),  # 28x28\n",
    "            nn.BatchNorm2d(128),\n",
    "            nn.ReLU(),\n",
    "            nn.ConvTranspose2d(128, 64, 4, stride=2, padding=1),  # 56x56\n",
    "            nn.BatchNorm2d(64),\n",
    "            nn.ReLU(),\n",
    "            nn.ConvTranspose2d(64, 32, 4, stride=2, padding=1),  # 112x112\n",
    "            nn.BatchNorm2d(32),\n",
    "            nn.ReLU(),\n",
    "            nn.ConvTranspose2d(32, 3, 4, stride=2, padding=1),  # 224x224\n",
    "            nn.Tanh()\n",
    "        )\n",
    "\n",
    "    def encode(self, x):\n",
    "        x = self.encoder_conv(x)\n",
    "        return self.encoder_linear(x)\n",
    "\n",
    "    def decode(self, x):\n",
    "        x = self.decoder_linear(x)\n",
    "        return self.decoder_conv(x)\n",
    "\n",
    "    def forward(self, x):\n",
    "        encoded = self.encode(x)\n",
    "        decoded = self.decode(encoded)\n",
    "        return decoded\n"
   ]
  },
  {
   "cell_type": "code",
   "execution_count": 3,
   "id": "0353d2bb-0b70-4db0-992b-452e1c4f385f",
   "metadata": {},
   "outputs": [],
   "source": [
    "# Data loading and preprocessing\n",
    "transform = transforms.Compose([\n",
    "    transforms.Resize((224, 224)),\n",
    "    transforms.ToTensor()\n",
    "])\n",
    "\n",
    "train_dataset = datasets.ImageFolder(root='/home/dl_class/data/NEA/NEUdata_split/Train', transform=transform)\n",
    "train_loader = DataLoader(train_dataset, batch_size=32, shuffle=True)\n",
    "\n",
    "test_dataset = datasets.ImageFolder(root='/home/dl_class/data/NEA/NEUdata_split/Test', transform=transform)\n",
    "test_loader = DataLoader(test_dataset, batch_size=32, shuffle=False)\n"
   ]
  },
  {
   "cell_type": "code",
   "execution_count": 4,
   "id": "2cdaff93-51a7-4e4e-9003-f53c5ce827e6",
   "metadata": {},
   "outputs": [],
   "source": [
    "# Model, loss, and optimizer\n",
    "device = torch.device(\"cuda\" if torch.cuda.is_available() else \"cpu\")\n",
    "model = ConvAutoencoder().to(device)\n",
    "criterion = nn.MSELoss()\n",
    "optimizer = optim.Adam(model.parameters())"
   ]
  },
  {
   "cell_type": "code",
   "execution_count": 12,
   "id": "a2fc9085-b798-47fe-9053-c7b81f6d7f40",
   "metadata": {},
   "outputs": [
    {
     "name": "stderr",
     "output_type": "stream",
     "text": [
      "                                                                                                                                                                                                                   \r"
     ]
    }
   ],
   "source": [
    "# Training loop\n",
    "num_epochs = 50\n",
    "for epoch in range(num_epochs):\n",
    "    model.train()\n",
    "    train_loss = 0\n",
    "    for batch in tqdm(train_loader, desc=f'Epoch {epoch+1}', leave=False):\n",
    "        img, _ = batch\n",
    "        img = img.to(device)\n",
    "\n",
    "        optimizer.zero_grad()\n",
    "        output = model(img)\n",
    "        loss = criterion(output, img)\n",
    "        loss.backward()\n",
    "        optimizer.step()\n",
    "\n",
    "        train_loss += loss.item()"
   ]
  },
  {
   "cell_type": "code",
   "execution_count": 13,
   "id": "b1f2e572-06a6-40b9-be88-49ee7d8ff80d",
   "metadata": {},
   "outputs": [],
   "source": [
    "# Generate reconstructions\n",
    "model.eval()\n",
    "test_images = []\n",
    "reconstructed_images = []\n",
    "\n",
    "with torch.no_grad():\n",
    "    for i, (img, _) in enumerate(test_loader):\n",
    "        if i >= 50:  # We only need 50 images\n",
    "            break\n",
    "        img = img.to(device)\n",
    "        output = model(img)\n",
    "        test_images.extend(img.cpu())\n",
    "        reconstructed_images.extend(output.cpu())\n",
    "\n",
    "test_images = torch.stack(test_images[:50])\n",
    "reconstructed_images = torch.stack(reconstructed_images[:50])"
   ]
  },
  {
   "cell_type": "code",
   "execution_count": 7,
   "id": "3970e1c6-34e3-4f4f-b957-ac41d545bbf9",
   "metadata": {},
   "outputs": [
    {
     "name": "stderr",
     "output_type": "stream",
     "text": [
      "/opt/pythonenvs/class_fall2023/lib/python3.8/site-packages/torchvision/models/_utils.py:208: UserWarning: The parameter 'pretrained' is deprecated since 0.13 and may be removed in the future, please use 'weights' instead.\n",
      "  warnings.warn(\n",
      "/opt/pythonenvs/class_fall2023/lib/python3.8/site-packages/torchvision/models/_utils.py:223: UserWarning: Arguments other than a weight enum or `None` for 'weights' are deprecated since 0.13 and may be removed in the future. The current behavior is equivalent to passing `weights=ResNet18_Weights.IMAGENET1K_V1`. You can also use `weights=ResNet18_Weights.DEFAULT` to get the most up-to-date weights.\n",
      "  warnings.warn(msg)\n",
      "Downloading: \"https://download.pytorch.org/models/resnet18-f37072fd.pth\" to /home/durga/.cache/torch/hub/checkpoints/resnet18-f37072fd.pth\n",
      "100%|█████████████████████████████████████████████████████████████████████████████████████████████████████████████████████████████████████████████████████████████████████████| 44.7M/44.7M [00:04<00:00, 11.7MB/s]\n",
      "                                                                                                                                                                                                                   \r"
     ]
    }
   ],
   "source": [
    "# Load and modify the pretrained classifier\n",
    "import torchvision.models as models\n",
    "\n",
    "def set_parameter_requires_grad(model, feature_extracting):\n",
    "    if feature_extracting:\n",
    "        for param in model.parameters():\n",
    "            param.requires_grad = False\n",
    "\n",
    "model_ft = models.resnet18(pretrained=True)\n",
    "set_parameter_requires_grad(model_ft,True)\n",
    "num_ftrs = model_ft.fc.in_features\n",
    "model_ft.fc = nn.Linear(num_ftrs, len(train_dataset.classes))\n",
    "model_ft = model_ft.to(device)\n",
    "\n",
    "# Train the classifier\n",
    "criterion = nn.CrossEntropyLoss()\n",
    "optimizer_ft = optim.SGD(model_ft.parameters(), lr=0.001, momentum=0.9)\n",
    "\n",
    "# Train the classifier \n",
    "num_epochs = 10\n",
    "for epoch in range(num_epochs):\n",
    "    model_ft.train()\n",
    "    for inputs, labels in tqdm(train_loader, desc=f'Epoch {epoch+1}', leave=False):\n",
    "        inputs = inputs.to(device)\n",
    "        labels = labels.to(device)\n",
    "\n",
    "        optimizer_ft.zero_grad()\n",
    "        outputs = model_ft(inputs)\n",
    "        loss = criterion(outputs, labels)\n",
    "        loss.backward()\n",
    "        optimizer_ft.step()\n"
   ]
  },
  {
   "cell_type": "code",
   "execution_count": 14,
   "id": "138896d0-72b0-4450-b8c9-50be87eadeae",
   "metadata": {},
   "outputs": [
    {
     "name": "stdout",
     "output_type": "stream",
     "text": [
      "Accuracy on original images: 1.0000\n",
      "Accuracy on reconstructed images: 0.0000\n"
     ]
    }
   ],
   "source": [
    "# Evaluate on original and reconstructed images\n",
    "model_ft.eval()\n",
    "correct_original = 0\n",
    "correct_reconstructed = 0\n",
    "\n",
    "with torch.no_grad():\n",
    "    for i in range(50):\n",
    "        # Original images\n",
    "        outputs = model_ft(test_images[i].unsqueeze(0).to(device))\n",
    "        _, predicted = torch.max(outputs, 1)\n",
    "        correct_original += (predicted == test_dataset.targets[i]).sum().item()\n",
    "\n",
    "        # Reconstructed images\n",
    "        outputs = model_ft(reconstructed_images[i].unsqueeze(0).to(device))\n",
    "        _, predicted = torch.max(outputs, 1)\n",
    "        correct_reconstructed += (predicted == test_dataset.targets[i]).sum().item()\n",
    "\n",
    "accuracy_original = correct_original / 50\n",
    "accuracy_reconstructed = correct_reconstructed / 50\n",
    "\n",
    "print(f\"Accuracy on original images: {accuracy_original:.4f}\")\n",
    "print(f\"Accuracy on reconstructed images: {accuracy_reconstructed:.4f}\")"
   ]
  },
  {
   "cell_type": "code",
   "execution_count": null,
   "id": "a5f8538e-2e86-4d96-bd8a-d0c7751b0582",
   "metadata": {},
   "outputs": [],
   "source": []
  }
 ],
 "metadata": {
  "kernelspec": {
   "display_name": "Python 3 (ipykernel)",
   "language": "python",
   "name": "python3"
  },
  "language_info": {
   "codemirror_mode": {
    "name": "ipython",
    "version": 3
   },
   "file_extension": ".py",
   "mimetype": "text/x-python",
   "name": "python",
   "nbconvert_exporter": "python",
   "pygments_lexer": "ipython3",
   "version": "3.8.10"
  }
 },
 "nbformat": 4,
 "nbformat_minor": 5
}
