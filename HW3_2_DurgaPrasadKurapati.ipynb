{
 "cells": [
  {
   "cell_type": "code",
   "execution_count": 1,
   "metadata": {
    "colab": {
     "base_uri": "https://localhost:8080/"
    },
    "id": "gmdHVgDurviK",
    "outputId": "83743c01-20f5-426e-b5a7-7717419e0bde"
   },
   "outputs": [
    {
     "name": "stdout",
     "output_type": "stream",
     "text": [
      "2.3.1+cu121\n",
      "0.18.1+cu121\n"
     ]
    }
   ],
   "source": [
    "import torch\n",
    "import torchvision\n",
    "\n",
    "print(torch.__version__)\n",
    "\n",
    "print(torchvision.__version__)\n"
   ]
  },
  {
   "cell_type": "code",
   "execution_count": 2,
   "metadata": {
    "id": "G5sT2wsuq0pL"
   },
   "outputs": [],
   "source": [
    "from torchvision.datasets import CIFAR10"
   ]
  },
  {
   "cell_type": "code",
   "execution_count": 3,
   "metadata": {},
   "outputs": [],
   "source": [
    "targets = [1, 2, 8, 9]"
   ]
  },
  {
   "cell_type": "code",
   "execution_count": 4,
   "metadata": {
    "colab": {
     "base_uri": "https://localhost:8080/"
    },
    "id": "rgMYPb-DLP3i",
    "outputId": "47ccf187-a8a8-440c-f89f-9d91b724d6c8"
   },
   "outputs": [
    {
     "name": "stdout",
     "output_type": "stream",
     "text": [
      "Files already downloaded and verified\n"
     ]
    }
   ],
   "source": [
    "from torchvision import transforms\n",
    "\n",
    "train_transforms = transforms.Compose([\n",
    "  transforms.Resize((224, 224)),\n",
    "  transforms.RandomHorizontalFlip(),\n",
    "  transforms.ToTensor(),\n",
    "  transforms.Normalize(\n",
    "      (0.4914, 0.4822, 0.4465),\n",
    "      (0.2023, 0.1994, 0.2010))])\n",
    "\n",
    "train_data = CIFAR10(root=\"./train/\",\n",
    "                    train=True,\n",
    "                    download=True,\n",
    "                    transform=train_transforms)"
   ]
  },
  {
   "cell_type": "code",
   "execution_count": 5,
   "metadata": {},
   "outputs": [],
   "source": [
    "indices = [i for i, label in enumerate(train_data.targets) if label in targets]"
   ]
  },
  {
   "cell_type": "code",
   "execution_count": 6,
   "metadata": {},
   "outputs": [],
   "source": [
    "from torch.utils.data.dataset import Subset\n",
    "train_subset = Subset(train_data, indices)"
   ]
  },
  {
   "cell_type": "code",
   "execution_count": 7,
   "metadata": {},
   "outputs": [],
   "source": [
    "trainloader = torch.utils.data.DataLoader(\n",
    "                    train_subset,\n",
    "                    batch_size=16,\n",
    "                    shuffle=True)"
   ]
  },
  {
   "cell_type": "code",
   "execution_count": 8,
   "metadata": {
    "colab": {
     "base_uri": "https://localhost:8080/"
    },
    "id": "eIMW68MlET2J",
    "outputId": "665abba4-cfc7-489d-ff7c-6466aac5edae"
   },
   "outputs": [
    {
     "name": "stdout",
     "output_type": "stream",
     "text": [
      "Files already downloaded and verified\n"
     ]
    }
   ],
   "source": [
    "test_transforms = transforms.Compose([\n",
    "  transforms.Resize((224, 224)),\n",
    "  transforms.ToTensor(),\n",
    "  transforms.Normalize(\n",
    "      (0.4914, 0.4822, 0.4465),\n",
    "      (0.2023, 0.1994, 0.2010))])\n",
    "\n",
    "test_data = torchvision.datasets.CIFAR10(\n",
    "      root=\"./test/\",\n",
    "      train=False,\n",
    "      download=True,\n",
    "      transform=test_transforms)\n"
   ]
  },
  {
   "cell_type": "code",
   "execution_count": 9,
   "metadata": {},
   "outputs": [],
   "source": [
    "indices = [i for i, label in enumerate(test_data.targets) if label in targets]"
   ]
  },
  {
   "cell_type": "code",
   "execution_count": 10,
   "metadata": {},
   "outputs": [],
   "source": [
    "test_subset = Subset(test_data, indices)"
   ]
  },
  {
   "cell_type": "code",
   "execution_count": 11,
   "metadata": {
    "id": "FXYBiTpjHr0N"
   },
   "outputs": [],
   "source": [
    "testloader = torch.utils.data.DataLoader(\n",
    "                    test_subset,\n",
    "                    batch_size=16,\n",
    "                    shuffle=False)"
   ]
  },
  {
   "cell_type": "code",
   "execution_count": 12,
   "metadata": {
    "colab": {
     "base_uri": "https://localhost:8080/"
    },
    "id": "-PZ-qrHmg4xG",
    "outputId": "3bba9012-c257-4843-f600-e9176cbae187"
   },
   "outputs": [
    {
     "name": "stdout",
     "output_type": "stream",
     "text": [
      "torch.Size([16, 3, 224, 224])\n",
      "torch.Size([16])\n"
     ]
    }
   ],
   "source": [
    "data_batch, labels_batch = next(iter(trainloader))\n",
    "print(data_batch.size())\n",
    "\n",
    "print(labels_batch.size())"
   ]
  },
  {
   "cell_type": "code",
   "execution_count": 14,
   "metadata": {
    "colab": {
     "base_uri": "https://localhost:8080/"
    },
    "id": "4G903uGkULQH",
    "outputId": "95951186-e7b0-4a3c-f6f2-665a4a049968"
   },
   "outputs": [
    {
     "name": "stdout",
     "output_type": "stream",
     "text": [
      "Requirement already satisfied: torchinfo in /opt/pythonenvs/class_fall2023/lib/python3.8/site-packages (1.8.0)\n"
     ]
    }
   ],
   "source": [
    "!pip install torchinfo"
   ]
  },
  {
   "cell_type": "code",
   "execution_count": 15,
   "metadata": {
    "colab": {
     "base_uri": "https://localhost:8080/"
    },
    "id": "eLqiKEcf2d7R",
    "outputId": "c0e2f69b-19af-4eec-8376-33090c27d13b"
   },
   "outputs": [],
   "source": [
    "from torchvision.models.vgg import vgg16\n",
    "import torchvision.models as models\n",
    "from torchinfo import summary\n",
    "\n",
    "\n",
    "vgg16 = vgg16(weights= models.VGG16_Weights.DEFAULT)"
   ]
  },
  {
   "cell_type": "code",
   "execution_count": 16,
   "metadata": {},
   "outputs": [
    {
     "data": {
      "text/plain": [
       "3"
      ]
     },
     "execution_count": 16,
     "metadata": {},
     "output_type": "execute_result"
    }
   ],
   "source": [
    "len(list(vgg16.children()))"
   ]
  },
  {
   "cell_type": "code",
   "execution_count": 17,
   "metadata": {},
   "outputs": [
    {
     "name": "stdout",
     "output_type": "stream",
     "text": [
      "[Sequential(\n",
      "  (0): Conv2d(3, 64, kernel_size=(3, 3), stride=(1, 1), padding=(1, 1))\n",
      "  (1): ReLU(inplace=True)\n",
      "  (2): Conv2d(64, 64, kernel_size=(3, 3), stride=(1, 1), padding=(1, 1))\n",
      "  (3): ReLU(inplace=True)\n",
      "  (4): MaxPool2d(kernel_size=2, stride=2, padding=0, dilation=1, ceil_mode=False)\n",
      "  (5): Conv2d(64, 128, kernel_size=(3, 3), stride=(1, 1), padding=(1, 1))\n",
      "  (6): ReLU(inplace=True)\n",
      "  (7): Conv2d(128, 128, kernel_size=(3, 3), stride=(1, 1), padding=(1, 1))\n",
      "  (8): ReLU(inplace=True)\n",
      "  (9): MaxPool2d(kernel_size=2, stride=2, padding=0, dilation=1, ceil_mode=False)\n",
      "  (10): Conv2d(128, 256, kernel_size=(3, 3), stride=(1, 1), padding=(1, 1))\n",
      "  (11): ReLU(inplace=True)\n",
      "  (12): Conv2d(256, 256, kernel_size=(3, 3), stride=(1, 1), padding=(1, 1))\n",
      "  (13): ReLU(inplace=True)\n",
      "  (14): Conv2d(256, 256, kernel_size=(3, 3), stride=(1, 1), padding=(1, 1))\n",
      "  (15): ReLU(inplace=True)\n",
      "  (16): MaxPool2d(kernel_size=2, stride=2, padding=0, dilation=1, ceil_mode=False)\n",
      "  (17): Conv2d(256, 512, kernel_size=(3, 3), stride=(1, 1), padding=(1, 1))\n",
      "  (18): ReLU(inplace=True)\n",
      "  (19): Conv2d(512, 512, kernel_size=(3, 3), stride=(1, 1), padding=(1, 1))\n",
      "  (20): ReLU(inplace=True)\n",
      "  (21): Conv2d(512, 512, kernel_size=(3, 3), stride=(1, 1), padding=(1, 1))\n",
      "  (22): ReLU(inplace=True)\n",
      "  (23): MaxPool2d(kernel_size=2, stride=2, padding=0, dilation=1, ceil_mode=False)\n",
      "  (24): Conv2d(512, 512, kernel_size=(3, 3), stride=(1, 1), padding=(1, 1))\n",
      "  (25): ReLU(inplace=True)\n",
      "  (26): Conv2d(512, 512, kernel_size=(3, 3), stride=(1, 1), padding=(1, 1))\n",
      "  (27): ReLU(inplace=True)\n",
      "  (28): Conv2d(512, 512, kernel_size=(3, 3), stride=(1, 1), padding=(1, 1))\n",
      "  (29): ReLU(inplace=True)\n",
      "  (30): MaxPool2d(kernel_size=2, stride=2, padding=0, dilation=1, ceil_mode=False)\n",
      "), AdaptiveAvgPool2d(output_size=(7, 7)), Sequential(\n",
      "  (0): Linear(in_features=25088, out_features=4096, bias=True)\n",
      "  (1): ReLU(inplace=True)\n",
      "  (2): Dropout(p=0.5, inplace=False)\n",
      "  (3): Linear(in_features=4096, out_features=4096, bias=True)\n",
      "  (4): ReLU(inplace=True)\n",
      "  (5): Dropout(p=0.5, inplace=False)\n",
      "  (6): Linear(in_features=4096, out_features=1000, bias=True)\n",
      ")]\n"
     ]
    }
   ],
   "source": [
    "print(list(vgg16.children()))"
   ]
  },
  {
   "cell_type": "code",
   "execution_count": 18,
   "metadata": {},
   "outputs": [
    {
     "name": "stdout",
     "output_type": "stream",
     "text": [
      "Sequential(\n",
      "  (0): Conv2d(3, 64, kernel_size=(3, 3), stride=(1, 1), padding=(1, 1))\n",
      "  (1): ReLU(inplace=True)\n",
      "  (2): Conv2d(64, 64, kernel_size=(3, 3), stride=(1, 1), padding=(1, 1))\n",
      "  (3): ReLU(inplace=True)\n",
      "  (4): MaxPool2d(kernel_size=2, stride=2, padding=0, dilation=1, ceil_mode=False)\n",
      "  (5): Conv2d(64, 128, kernel_size=(3, 3), stride=(1, 1), padding=(1, 1))\n",
      "  (6): ReLU(inplace=True)\n",
      "  (7): Conv2d(128, 128, kernel_size=(3, 3), stride=(1, 1), padding=(1, 1))\n",
      "  (8): ReLU(inplace=True)\n",
      "  (9): MaxPool2d(kernel_size=2, stride=2, padding=0, dilation=1, ceil_mode=False)\n",
      "  (10): Conv2d(128, 256, kernel_size=(3, 3), stride=(1, 1), padding=(1, 1))\n",
      "  (11): ReLU(inplace=True)\n",
      "  (12): Conv2d(256, 256, kernel_size=(3, 3), stride=(1, 1), padding=(1, 1))\n",
      "  (13): ReLU(inplace=True)\n",
      "  (14): Conv2d(256, 256, kernel_size=(3, 3), stride=(1, 1), padding=(1, 1))\n",
      "  (15): ReLU(inplace=True)\n",
      "  (16): MaxPool2d(kernel_size=2, stride=2, padding=0, dilation=1, ceil_mode=False)\n",
      "  (17): Conv2d(256, 512, kernel_size=(3, 3), stride=(1, 1), padding=(1, 1))\n",
      "  (18): ReLU(inplace=True)\n",
      "  (19): Conv2d(512, 512, kernel_size=(3, 3), stride=(1, 1), padding=(1, 1))\n",
      "  (20): ReLU(inplace=True)\n",
      "  (21): Conv2d(512, 512, kernel_size=(3, 3), stride=(1, 1), padding=(1, 1))\n",
      "  (22): ReLU(inplace=True)\n",
      "  (23): MaxPool2d(kernel_size=2, stride=2, padding=0, dilation=1, ceil_mode=False)\n",
      "  (24): Conv2d(512, 512, kernel_size=(3, 3), stride=(1, 1), padding=(1, 1))\n",
      "  (25): ReLU(inplace=True)\n",
      "  (26): Conv2d(512, 512, kernel_size=(3, 3), stride=(1, 1), padding=(1, 1))\n",
      "  (27): ReLU(inplace=True)\n",
      "  (28): Conv2d(512, 512, kernel_size=(3, 3), stride=(1, 1), padding=(1, 1))\n",
      "  (29): ReLU(inplace=True)\n",
      "  (30): MaxPool2d(kernel_size=2, stride=2, padding=0, dilation=1, ceil_mode=False)\n",
      ")\n"
     ]
    }
   ],
   "source": [
    "print(vgg16.features)"
   ]
  },
  {
   "cell_type": "code",
   "execution_count": 19,
   "metadata": {},
   "outputs": [
    {
     "name": "stdout",
     "output_type": "stream",
     "text": [
      "AdaptiveAvgPool2d(output_size=(7, 7))\n"
     ]
    }
   ],
   "source": [
    "print(vgg16.avgpool)"
   ]
  },
  {
   "cell_type": "code",
   "execution_count": 20,
   "metadata": {},
   "outputs": [
    {
     "name": "stdout",
     "output_type": "stream",
     "text": [
      "Sequential(\n",
      "  (0): Linear(in_features=25088, out_features=4096, bias=True)\n",
      "  (1): ReLU(inplace=True)\n",
      "  (2): Dropout(p=0.5, inplace=False)\n",
      "  (3): Linear(in_features=4096, out_features=4096, bias=True)\n",
      "  (4): ReLU(inplace=True)\n",
      "  (5): Dropout(p=0.5, inplace=False)\n",
      "  (6): Linear(in_features=4096, out_features=1000, bias=True)\n",
      ")\n"
     ]
    }
   ],
   "source": [
    "print(vgg16.classifier)"
   ]
  },
  {
   "cell_type": "code",
   "execution_count": 21,
   "metadata": {},
   "outputs": [],
   "source": [
    "device = \"cuda\" if torch.cuda.is_available() else \"cpu\"\n",
    "model = vgg16.to(device)"
   ]
  },
  {
   "cell_type": "code",
   "execution_count": 22,
   "metadata": {},
   "outputs": [
    {
     "data": {
      "text/plain": [
       "==========================================================================================\n",
       "Layer (type:depth-idx)                   Output Shape              Param #\n",
       "==========================================================================================\n",
       "VGG                                      [16, 1000]                --\n",
       "+ Sequential: 1-1                        [16, 512, 7, 7]           --\n",
       "|    + Conv2d: 2-1                       [16, 64, 224, 224]        1,792\n",
       "|    + ReLU: 2-2                         [16, 64, 224, 224]        --\n",
       "|    + Conv2d: 2-3                       [16, 64, 224, 224]        36,928\n",
       "|    + ReLU: 2-4                         [16, 64, 224, 224]        --\n",
       "|    + MaxPool2d: 2-5                    [16, 64, 112, 112]        --\n",
       "|    + Conv2d: 2-6                       [16, 128, 112, 112]       73,856\n",
       "|    + ReLU: 2-7                         [16, 128, 112, 112]       --\n",
       "|    + Conv2d: 2-8                       [16, 128, 112, 112]       147,584\n",
       "|    + ReLU: 2-9                         [16, 128, 112, 112]       --\n",
       "|    + MaxPool2d: 2-10                   [16, 128, 56, 56]         --\n",
       "|    + Conv2d: 2-11                      [16, 256, 56, 56]         295,168\n",
       "|    + ReLU: 2-12                        [16, 256, 56, 56]         --\n",
       "|    + Conv2d: 2-13                      [16, 256, 56, 56]         590,080\n",
       "|    + ReLU: 2-14                        [16, 256, 56, 56]         --\n",
       "|    + Conv2d: 2-15                      [16, 256, 56, 56]         590,080\n",
       "|    + ReLU: 2-16                        [16, 256, 56, 56]         --\n",
       "|    + MaxPool2d: 2-17                   [16, 256, 28, 28]         --\n",
       "|    + Conv2d: 2-18                      [16, 512, 28, 28]         1,180,160\n",
       "|    + ReLU: 2-19                        [16, 512, 28, 28]         --\n",
       "|    + Conv2d: 2-20                      [16, 512, 28, 28]         2,359,808\n",
       "|    + ReLU: 2-21                        [16, 512, 28, 28]         --\n",
       "|    + Conv2d: 2-22                      [16, 512, 28, 28]         2,359,808\n",
       "|    + ReLU: 2-23                        [16, 512, 28, 28]         --\n",
       "|    + MaxPool2d: 2-24                   [16, 512, 14, 14]         --\n",
       "|    + Conv2d: 2-25                      [16, 512, 14, 14]         2,359,808\n",
       "|    + ReLU: 2-26                        [16, 512, 14, 14]         --\n",
       "|    + Conv2d: 2-27                      [16, 512, 14, 14]         2,359,808\n",
       "|    + ReLU: 2-28                        [16, 512, 14, 14]         --\n",
       "|    + Conv2d: 2-29                      [16, 512, 14, 14]         2,359,808\n",
       "|    + ReLU: 2-30                        [16, 512, 14, 14]         --\n",
       "|    + MaxPool2d: 2-31                   [16, 512, 7, 7]           --\n",
       "+ AdaptiveAvgPool2d: 1-2                 [16, 512, 7, 7]           --\n",
       "+ Sequential: 1-3                        [16, 1000]                --\n",
       "|    + Linear: 2-32                      [16, 4096]                102,764,544\n",
       "|    + ReLU: 2-33                        [16, 4096]                --\n",
       "|    + Dropout: 2-34                     [16, 4096]                --\n",
       "|    + Linear: 2-35                      [16, 4096]                16,781,312\n",
       "|    + ReLU: 2-36                        [16, 4096]                --\n",
       "|    + Dropout: 2-37                     [16, 4096]                --\n",
       "|    + Linear: 2-38                      [16, 1000]                4,097,000\n",
       "==========================================================================================\n",
       "Total params: 138,357,544\n",
       "Trainable params: 138,357,544\n",
       "Non-trainable params: 0\n",
       "Total mult-adds (G): 247.74\n",
       "==========================================================================================\n",
       "Input size (MB): 9.63\n",
       "Forward/backward pass size (MB): 1735.26\n",
       "Params size (MB): 553.43\n",
       "Estimated Total Size (MB): 2298.32\n",
       "=========================================================================================="
      ]
     },
     "execution_count": 22,
     "metadata": {},
     "output_type": "execute_result"
    }
   ],
   "source": [
    "summary(model, input_size=(16, 3, 224, 224), row_settings=(\"depth\", \"ascii_only\"))"
   ]
  },
  {
   "cell_type": "markdown",
   "metadata": {},
   "source": [
    "We donn't see flatten layer in torch info as flaten layer has not trainable parametrs and isn't trained"
   ]
  },
  {
   "cell_type": "code",
   "execution_count": 23,
   "metadata": {},
   "outputs": [
    {
     "data": {
      "text/plain": [
       "==========================================================================================\n",
       "Layer (type:depth-idx)                   Output Shape              Param #\n",
       "==========================================================================================\n",
       "VGG                                      [16, 1000]                --\n",
       "+ Sequential: 1-1                        [16, 512, 1, 1]           --\n",
       "|    + Conv2d: 2-1                       [16, 64, 32, 32]          1,792\n",
       "|    + ReLU: 2-2                         [16, 64, 32, 32]          --\n",
       "|    + Conv2d: 2-3                       [16, 64, 32, 32]          36,928\n",
       "|    + ReLU: 2-4                         [16, 64, 32, 32]          --\n",
       "|    + MaxPool2d: 2-5                    [16, 64, 16, 16]          --\n",
       "|    + Conv2d: 2-6                       [16, 128, 16, 16]         73,856\n",
       "|    + ReLU: 2-7                         [16, 128, 16, 16]         --\n",
       "|    + Conv2d: 2-8                       [16, 128, 16, 16]         147,584\n",
       "|    + ReLU: 2-9                         [16, 128, 16, 16]         --\n",
       "|    + MaxPool2d: 2-10                   [16, 128, 8, 8]           --\n",
       "|    + Conv2d: 2-11                      [16, 256, 8, 8]           295,168\n",
       "|    + ReLU: 2-12                        [16, 256, 8, 8]           --\n",
       "|    + Conv2d: 2-13                      [16, 256, 8, 8]           590,080\n",
       "|    + ReLU: 2-14                        [16, 256, 8, 8]           --\n",
       "|    + Conv2d: 2-15                      [16, 256, 8, 8]           590,080\n",
       "|    + ReLU: 2-16                        [16, 256, 8, 8]           --\n",
       "|    + MaxPool2d: 2-17                   [16, 256, 4, 4]           --\n",
       "|    + Conv2d: 2-18                      [16, 512, 4, 4]           1,180,160\n",
       "|    + ReLU: 2-19                        [16, 512, 4, 4]           --\n",
       "|    + Conv2d: 2-20                      [16, 512, 4, 4]           2,359,808\n",
       "|    + ReLU: 2-21                        [16, 512, 4, 4]           --\n",
       "|    + Conv2d: 2-22                      [16, 512, 4, 4]           2,359,808\n",
       "|    + ReLU: 2-23                        [16, 512, 4, 4]           --\n",
       "|    + MaxPool2d: 2-24                   [16, 512, 2, 2]           --\n",
       "|    + Conv2d: 2-25                      [16, 512, 2, 2]           2,359,808\n",
       "|    + ReLU: 2-26                        [16, 512, 2, 2]           --\n",
       "|    + Conv2d: 2-27                      [16, 512, 2, 2]           2,359,808\n",
       "|    + ReLU: 2-28                        [16, 512, 2, 2]           --\n",
       "|    + Conv2d: 2-29                      [16, 512, 2, 2]           2,359,808\n",
       "|    + ReLU: 2-30                        [16, 512, 2, 2]           --\n",
       "|    + MaxPool2d: 2-31                   [16, 512, 1, 1]           --\n",
       "+ AdaptiveAvgPool2d: 1-2                 [16, 512, 7, 7]           --\n",
       "+ Sequential: 1-3                        [16, 1000]                --\n",
       "|    + Linear: 2-32                      [16, 4096]                102,764,544\n",
       "|    + ReLU: 2-33                        [16, 4096]                --\n",
       "|    + Dropout: 2-34                     [16, 4096]                --\n",
       "|    + Linear: 2-35                      [16, 4096]                16,781,312\n",
       "|    + ReLU: 2-36                        [16, 4096]                --\n",
       "|    + Dropout: 2-37                     [16, 4096]                --\n",
       "|    + Linear: 2-38                      [16, 1000]                4,097,000\n",
       "==========================================================================================\n",
       "Total params: 138,357,544\n",
       "Trainable params: 138,357,544\n",
       "Non-trainable params: 0\n",
       "Total mult-adds (G): 6.99\n",
       "==========================================================================================\n",
       "Input size (MB): 0.20\n",
       "Forward/backward pass size (MB): 36.57\n",
       "Params size (MB): 553.43\n",
       "Estimated Total Size (MB): 590.19\n",
       "=========================================================================================="
      ]
     },
     "execution_count": 23,
     "metadata": {},
     "output_type": "execute_result"
    }
   ],
   "source": [
    "summary(model, input_size=(16,3,32,32), row_settings=(\"depth\", \"ascii_only\"))"
   ]
  },
  {
   "cell_type": "markdown",
   "metadata": {},
   "source": [
    "No the output dimensions of all layers are identical in both summaries \n",
    "\n",
    "After the Adaptive average pooling layer the output dimensions are same"
   ]
  },
  {
   "cell_type": "markdown",
   "metadata": {},
   "source": [
    "The reason is because of adaptive average pool layer as it produces a fixed out no matter what the input dimensions are by design\n",
    "The first layer is adaptive average pooling layer"
   ]
  },
  {
   "cell_type": "code",
   "execution_count": 24,
   "metadata": {},
   "outputs": [
    {
     "name": "stdout",
     "output_type": "stream",
     "text": [
      "<bound method Module.children of Sequential(\n",
      "  (0): Conv2d(3, 64, kernel_size=(3, 3), stride=(1, 1), padding=(1, 1))\n",
      "  (1): ReLU(inplace=True)\n",
      "  (2): Conv2d(64, 64, kernel_size=(3, 3), stride=(1, 1), padding=(1, 1))\n",
      "  (3): ReLU(inplace=True)\n",
      "  (4): MaxPool2d(kernel_size=2, stride=2, padding=0, dilation=1, ceil_mode=False)\n",
      "  (5): Conv2d(64, 128, kernel_size=(3, 3), stride=(1, 1), padding=(1, 1))\n",
      "  (6): ReLU(inplace=True)\n",
      "  (7): Conv2d(128, 128, kernel_size=(3, 3), stride=(1, 1), padding=(1, 1))\n",
      "  (8): ReLU(inplace=True)\n",
      "  (9): MaxPool2d(kernel_size=2, stride=2, padding=0, dilation=1, ceil_mode=False)\n",
      "  (10): Conv2d(128, 256, kernel_size=(3, 3), stride=(1, 1), padding=(1, 1))\n",
      "  (11): ReLU(inplace=True)\n",
      "  (12): Conv2d(256, 256, kernel_size=(3, 3), stride=(1, 1), padding=(1, 1))\n",
      "  (13): ReLU(inplace=True)\n",
      "  (14): Conv2d(256, 256, kernel_size=(3, 3), stride=(1, 1), padding=(1, 1))\n",
      "  (15): ReLU(inplace=True)\n",
      "  (16): MaxPool2d(kernel_size=2, stride=2, padding=0, dilation=1, ceil_mode=False)\n",
      "  (17): Conv2d(256, 512, kernel_size=(3, 3), stride=(1, 1), padding=(1, 1))\n",
      "  (18): ReLU(inplace=True)\n",
      "  (19): Conv2d(512, 512, kernel_size=(3, 3), stride=(1, 1), padding=(1, 1))\n",
      "  (20): ReLU(inplace=True)\n",
      "  (21): Conv2d(512, 512, kernel_size=(3, 3), stride=(1, 1), padding=(1, 1))\n",
      "  (22): ReLU(inplace=True)\n",
      "  (23): MaxPool2d(kernel_size=2, stride=2, padding=0, dilation=1, ceil_mode=False)\n",
      "  (24): Conv2d(512, 512, kernel_size=(3, 3), stride=(1, 1), padding=(1, 1))\n",
      "  (25): ReLU(inplace=True)\n",
      "  (26): Conv2d(512, 512, kernel_size=(3, 3), stride=(1, 1), padding=(1, 1))\n",
      "  (27): ReLU(inplace=True)\n",
      "  (28): Conv2d(512, 512, kernel_size=(3, 3), stride=(1, 1), padding=(1, 1))\n",
      "  (29): ReLU(inplace=True)\n",
      "  (30): MaxPool2d(kernel_size=2, stride=2, padding=0, dilation=1, ceil_mode=False)\n",
      ")>\n",
      "<bound method Module.children of AdaptiveAvgPool2d(output_size=(7, 7))>\n",
      "<bound method Module.children of Sequential(\n",
      "  (0): Linear(in_features=25088, out_features=4096, bias=True)\n",
      "  (1): ReLU(inplace=True)\n",
      "  (2): Dropout(p=0.5, inplace=False)\n",
      "  (3): Linear(in_features=4096, out_features=4096, bias=True)\n",
      "  (4): ReLU(inplace=True)\n",
      "  (5): Dropout(p=0.5, inplace=False)\n",
      "  (6): Linear(in_features=4096, out_features=1000, bias=True)\n",
      ")>\n"
     ]
    }
   ],
   "source": [
    "for submodel in vgg16.children():\n",
    "    print(submodel.children)"
   ]
  },
  {
   "cell_type": "markdown",
   "metadata": {},
   "source": [
    "Yes the submodel type is sequential "
   ]
  },
  {
   "cell_type": "code",
   "execution_count": 25,
   "metadata": {
    "id": "pSCZY864YXov"
   },
   "outputs": [],
   "source": [
    "def modify_vgg16_classifier(num_classes=4):\n",
    "    model = models.vgg16(weights=models.VGG16_Weights.DEFAULT)\n",
    "\n",
    "    for param in model.features.parameters():\n",
    "        param.requires_grad = False\n",
    "\n",
    "\n",
    "    model.classifier = torch.nn.Sequential(\n",
    "        torch.nn.Linear(512*7*7, 4096),\n",
    "        torch.nn.ReLU(True),\n",
    "        torch.nn.Dropout(),\n",
    "        torch.nn.Linear(4096, 4096),\n",
    "        torch.nn.ReLU(True),\n",
    "        torch.nn.Dropout(),\n",
    "        torch.nn.Linear(4096, num_classes)\n",
    "    )\n",
    "\n",
    "    return model\n",
    "\n",
    "modified_vgg16 = modify_vgg16_classifier(num_classes=4)\n"
   ]
  },
  {
   "cell_type": "code",
   "execution_count": 26,
   "metadata": {
    "id": "UGv1tJeWUVge"
   },
   "outputs": [],
   "source": [
    "device = \"cuda\" if torch.cuda.is_available() else \"cpu\"\n",
    "modified_model_1 = modified_vgg16.to(device)"
   ]
  },
  {
   "cell_type": "code",
   "execution_count": 27,
   "metadata": {
    "colab": {
     "base_uri": "https://localhost:8080/"
    },
    "id": "vD63sQqEVOAO",
    "outputId": "21ebec58-e65e-4dee-a3d8-bee6dbb04983"
   },
   "outputs": [
    {
     "data": {
      "text/plain": [
       "==========================================================================================\n",
       "Layer (type:depth-idx)                   Output Shape              Param #\n",
       "==========================================================================================\n",
       "VGG                                      [16, 4]                   --\n",
       "+ Sequential: 1-1                        [16, 512, 7, 7]           --\n",
       "|    + Conv2d: 2-1                       [16, 64, 224, 224]        (1,792)\n",
       "|    + ReLU: 2-2                         [16, 64, 224, 224]        --\n",
       "|    + Conv2d: 2-3                       [16, 64, 224, 224]        (36,928)\n",
       "|    + ReLU: 2-4                         [16, 64, 224, 224]        --\n",
       "|    + MaxPool2d: 2-5                    [16, 64, 112, 112]        --\n",
       "|    + Conv2d: 2-6                       [16, 128, 112, 112]       (73,856)\n",
       "|    + ReLU: 2-7                         [16, 128, 112, 112]       --\n",
       "|    + Conv2d: 2-8                       [16, 128, 112, 112]       (147,584)\n",
       "|    + ReLU: 2-9                         [16, 128, 112, 112]       --\n",
       "|    + MaxPool2d: 2-10                   [16, 128, 56, 56]         --\n",
       "|    + Conv2d: 2-11                      [16, 256, 56, 56]         (295,168)\n",
       "|    + ReLU: 2-12                        [16, 256, 56, 56]         --\n",
       "|    + Conv2d: 2-13                      [16, 256, 56, 56]         (590,080)\n",
       "|    + ReLU: 2-14                        [16, 256, 56, 56]         --\n",
       "|    + Conv2d: 2-15                      [16, 256, 56, 56]         (590,080)\n",
       "|    + ReLU: 2-16                        [16, 256, 56, 56]         --\n",
       "|    + MaxPool2d: 2-17                   [16, 256, 28, 28]         --\n",
       "|    + Conv2d: 2-18                      [16, 512, 28, 28]         (1,180,160)\n",
       "|    + ReLU: 2-19                        [16, 512, 28, 28]         --\n",
       "|    + Conv2d: 2-20                      [16, 512, 28, 28]         (2,359,808)\n",
       "|    + ReLU: 2-21                        [16, 512, 28, 28]         --\n",
       "|    + Conv2d: 2-22                      [16, 512, 28, 28]         (2,359,808)\n",
       "|    + ReLU: 2-23                        [16, 512, 28, 28]         --\n",
       "|    + MaxPool2d: 2-24                   [16, 512, 14, 14]         --\n",
       "|    + Conv2d: 2-25                      [16, 512, 14, 14]         (2,359,808)\n",
       "|    + ReLU: 2-26                        [16, 512, 14, 14]         --\n",
       "|    + Conv2d: 2-27                      [16, 512, 14, 14]         (2,359,808)\n",
       "|    + ReLU: 2-28                        [16, 512, 14, 14]         --\n",
       "|    + Conv2d: 2-29                      [16, 512, 14, 14]         (2,359,808)\n",
       "|    + ReLU: 2-30                        [16, 512, 14, 14]         --\n",
       "|    + MaxPool2d: 2-31                   [16, 512, 7, 7]           --\n",
       "+ AdaptiveAvgPool2d: 1-2                 [16, 512, 7, 7]           --\n",
       "+ Sequential: 1-3                        [16, 4]                   --\n",
       "|    + Linear: 2-32                      [16, 4096]                102,764,544\n",
       "|    + ReLU: 2-33                        [16, 4096]                --\n",
       "|    + Dropout: 2-34                     [16, 4096]                --\n",
       "|    + Linear: 2-35                      [16, 4096]                16,781,312\n",
       "|    + ReLU: 2-36                        [16, 4096]                --\n",
       "|    + Dropout: 2-37                     [16, 4096]                --\n",
       "|    + Linear: 2-38                      [16, 4]                   16,388\n",
       "==========================================================================================\n",
       "Total params: 134,276,932\n",
       "Trainable params: 119,562,244\n",
       "Non-trainable params: 14,714,688\n",
       "Total mult-adds (G): 247.68\n",
       "==========================================================================================\n",
       "Input size (MB): 9.63\n",
       "Forward/backward pass size (MB): 1735.13\n",
       "Params size (MB): 537.11\n",
       "Estimated Total Size (MB): 2281.87\n",
       "=========================================================================================="
      ]
     },
     "execution_count": 27,
     "metadata": {},
     "output_type": "execute_result"
    }
   ],
   "source": [
    "summary(modified_model_1, input_size=(16, 3, 224, 224), row_settings=(\"depth\", \"ascii_only\"))"
   ]
  },
  {
   "cell_type": "code",
   "execution_count": 28,
   "metadata": {
    "id": "GonClJDLZtU9"
   },
   "outputs": [],
   "source": [
    "import time\n",
    "from tqdm import tqdm\n",
    "\n",
    "def train_model(model, train_loader, loss_fn, optimizer, epochs=1, device='cuda',targets=[1, 2, 8, 9]):\n",
    "    labmap = {x: i for i, x in enumerate(targets)}\n",
    "    for epoch in range(epochs):\n",
    "        print(f'Epoch {epoch+1}/{epochs}')\n",
    "        print('-' * 10)\n",
    "        model.train()\n",
    "        # Wrap the dataloader with tqdm\n",
    "        for inputs, labels in tqdm(train_loader, desc=f'Epoch {epoch+1}', leave=False):\n",
    "            inputs = inputs.to(device)\n",
    "            labels = labels.to(device)\n",
    "            new_labels = torch.tensor([labmap[label.item()] for label in labels])\n",
    "            new_labels = new_labels.to(device)\n",
    "\n",
    "            optimizer.zero_grad()\n",
    "\n",
    "            with torch.set_grad_enabled(True):\n",
    "                outputs = model(inputs)\n",
    "                _, preds = torch.max(outputs, 1)\n",
    "                loss = loss_fn(outputs, new_labels)\n",
    "                loss.backward()\n",
    "                optimizer.step()\n",
    "    return model\n"
   ]
  },
  {
   "cell_type": "code",
   "execution_count": 29,
   "metadata": {
    "id": "ABAipKFGahEu"
   },
   "outputs": [],
   "source": [
    "import torch.nn as nn\n",
    "import torch.optim as optim\n",
    "loss_fn = nn.CrossEntropyLoss()\n",
    "optimizer = torch.optim.SGD(model.parameters(), lr=0.001)"
   ]
  },
  {
   "cell_type": "code",
   "execution_count": 30,
   "metadata": {
    "colab": {
     "base_uri": "https://localhost:8080/"
    },
    "id": "E4UZF8EZahBq",
    "outputId": "3112d98d-ad01-457b-8f08-265a6f67bc7c"
   },
   "outputs": [
    {
     "name": "stdout",
     "output_type": "stream",
     "text": [
      "Epoch 1/10\n",
      "----------\n"
     ]
    },
    {
     "name": "stderr",
     "output_type": "stream",
     "text": [
      "                                                                                                                                                                                                                   \r"
     ]
    },
    {
     "name": "stdout",
     "output_type": "stream",
     "text": [
      "Epoch 2/10\n",
      "----------\n"
     ]
    },
    {
     "name": "stderr",
     "output_type": "stream",
     "text": [
      "                                                                                                                                                                                                                   \r"
     ]
    },
    {
     "name": "stdout",
     "output_type": "stream",
     "text": [
      "Epoch 3/10\n",
      "----------\n"
     ]
    },
    {
     "name": "stderr",
     "output_type": "stream",
     "text": [
      "                                                                                                                                                                                                                   \r"
     ]
    },
    {
     "name": "stdout",
     "output_type": "stream",
     "text": [
      "Epoch 4/10\n",
      "----------\n"
     ]
    },
    {
     "name": "stderr",
     "output_type": "stream",
     "text": [
      "                                                                                                                                                                                                                   \r"
     ]
    },
    {
     "name": "stdout",
     "output_type": "stream",
     "text": [
      "Epoch 5/10\n",
      "----------\n"
     ]
    },
    {
     "name": "stderr",
     "output_type": "stream",
     "text": [
      "                                                                                                                                                                                                                   \r"
     ]
    },
    {
     "name": "stdout",
     "output_type": "stream",
     "text": [
      "Epoch 6/10\n",
      "----------\n"
     ]
    },
    {
     "name": "stderr",
     "output_type": "stream",
     "text": [
      "                                                                                                                                                                                                                   \r"
     ]
    },
    {
     "name": "stdout",
     "output_type": "stream",
     "text": [
      "Epoch 7/10\n",
      "----------\n"
     ]
    },
    {
     "name": "stderr",
     "output_type": "stream",
     "text": [
      "                                                                                                                                                                                                                   \r"
     ]
    },
    {
     "name": "stdout",
     "output_type": "stream",
     "text": [
      "Epoch 8/10\n",
      "----------\n"
     ]
    },
    {
     "name": "stderr",
     "output_type": "stream",
     "text": [
      "                                                                                                                                                                                                                   \r"
     ]
    },
    {
     "name": "stdout",
     "output_type": "stream",
     "text": [
      "Epoch 9/10\n",
      "----------\n"
     ]
    },
    {
     "name": "stderr",
     "output_type": "stream",
     "text": [
      "                                                                                                                                                                                                                   \r"
     ]
    },
    {
     "name": "stdout",
     "output_type": "stream",
     "text": [
      "Epoch 10/10\n",
      "----------\n"
     ]
    },
    {
     "name": "stderr",
     "output_type": "stream",
     "text": [
      "                                                                                                                                                                                                                   \r"
     ]
    }
   ],
   "source": [
    "modified_model_1 = train_model(modified_model_1,trainloader,loss_fn, optimizer, epochs=10, device=device)"
   ]
  },
  {
   "cell_type": "code",
   "execution_count": 31,
   "metadata": {
    "colab": {
     "base_uri": "https://localhost:8080/"
    },
    "id": "vEOKywMcag7Y",
    "outputId": "06f56025-57bf-4053-cb54-f357d88c2373"
   },
   "outputs": [
    {
     "name": "stdout",
     "output_type": "stream",
     "text": [
      "250 16\n",
      "Test Accuracy Modified Vgg 1 : 0.08575000613927841\n"
     ]
    }
   ],
   "source": [
    "num_correct = 0\n",
    "for x_test_batch, y_test_batch in testloader:\n",
    "  modified_model_1.eval()\n",
    "  y_test_batch = y_test_batch.to(device)\n",
    "  x_test_batch = x_test_batch.to(device)\n",
    "  y_pred_batch = modified_model_1(x_test_batch)\n",
    "  _, predicted = torch.max(y_pred_batch, 1)\n",
    "  num_correct += (predicted == y_test_batch).float().sum()\n",
    "accuracy = num_correct/(len(testloader)*testloader.batch_size)\n",
    "print(len(testloader), testloader.batch_size)\n",
    "print(\"Test Accuracy Modified Vgg 1 : {}\".format(accuracy))"
   ]
  },
  {
   "cell_type": "code",
   "execution_count": 32,
   "metadata": {},
   "outputs": [],
   "source": [
    "vgg16 = models.vgg16()"
   ]
  },
  {
   "cell_type": "code",
   "execution_count": 33,
   "metadata": {
    "colab": {
     "base_uri": "https://localhost:8080/"
    },
    "id": "kim9rFL-eScC",
    "outputId": "1e341367-153b-423d-e300-317f7ca05ba2"
   },
   "outputs": [
    {
     "name": "stdout",
     "output_type": "stream",
     "text": [
      "250 16\n",
      "Test AccuracyVgg : 0.0\n"
     ]
    }
   ],
   "source": [
    "num_correct = 0\n",
    "for x_test_batch, y_test_batch in testloader:\n",
    "  vgg16.eval()\n",
    "  y_test_batch = y_test_batch.to(device)\n",
    "  x_test_batch = x_test_batch.to(device)\n",
    "  y_pred_batch = model(x_test_batch)\n",
    "  _, predicted = torch.max(y_pred_batch, 1)\n",
    "  num_correct += (predicted == y_test_batch).float().sum()\n",
    "  accuracy = num_correct/(len(testloader)*testloader.batch_size)\n",
    "print(len(testloader), testloader.batch_size)\n",
    "print(\"Test AccuracyVgg : {}\".format(accuracy))"
   ]
  },
  {
   "cell_type": "code",
   "execution_count": 34,
   "metadata": {
    "id": "hmlh294-elK4"
   },
   "outputs": [],
   "source": [
    "def modify_vgg16_classifier1(num_classes=4):\n",
    "    model = models.vgg16(weights=models.efficientnet_b0)\n",
    "\n",
    "    for param in model.features.parameters():\n",
    "        param.requires_grad = False\n",
    "\n",
    "\n",
    "    model.classifier = torch.nn.Sequential(\n",
    "        torch.nn.Linear(512*7*7, 4096),\n",
    "        torch.nn.ReLU(True),\n",
    "        torch.nn.Dropout(),\n",
    "        torch.nn.Linear(4096, 4096),\n",
    "        torch.nn.ReLU(True),\n",
    "        torch.nn.Dropout(),\n",
    "        torch.nn.Linear(4096, num_classes)\n",
    "    )\n",
    "\n",
    "    return model"
   ]
  },
  {
   "cell_type": "code",
   "execution_count": 38,
   "metadata": {},
   "outputs": [],
   "source": [
    "modified_model_2 = modify_vgg16_classifier1(4)\n",
    "modified_model_2 = modified_model_2.to(device)"
   ]
  },
  {
   "cell_type": "code",
   "execution_count": 39,
   "metadata": {},
   "outputs": [
    {
     "name": "stdout",
     "output_type": "stream",
     "text": [
      "Epoch 1/10\n",
      "----------\n"
     ]
    },
    {
     "name": "stderr",
     "output_type": "stream",
     "text": [
      "                                                                                                                                                                                                                   \r"
     ]
    },
    {
     "name": "stdout",
     "output_type": "stream",
     "text": [
      "Epoch 2/10\n",
      "----------\n"
     ]
    },
    {
     "name": "stderr",
     "output_type": "stream",
     "text": [
      "                                                                                                                                                                                                                   \r"
     ]
    },
    {
     "name": "stdout",
     "output_type": "stream",
     "text": [
      "Epoch 3/10\n",
      "----------\n"
     ]
    },
    {
     "name": "stderr",
     "output_type": "stream",
     "text": [
      "                                                                                                                                                                                                                   \r"
     ]
    },
    {
     "name": "stdout",
     "output_type": "stream",
     "text": [
      "Epoch 4/10\n",
      "----------\n"
     ]
    },
    {
     "name": "stderr",
     "output_type": "stream",
     "text": [
      "                                                                                                                                                                                                                   \r"
     ]
    },
    {
     "name": "stdout",
     "output_type": "stream",
     "text": [
      "Epoch 5/10\n",
      "----------\n"
     ]
    },
    {
     "name": "stderr",
     "output_type": "stream",
     "text": [
      "                                                                                                                                                                                                                   \r"
     ]
    },
    {
     "name": "stdout",
     "output_type": "stream",
     "text": [
      "Epoch 6/10\n",
      "----------\n"
     ]
    },
    {
     "name": "stderr",
     "output_type": "stream",
     "text": [
      "                                                                                                                                                                                                                   \r"
     ]
    },
    {
     "name": "stdout",
     "output_type": "stream",
     "text": [
      "Epoch 7/10\n",
      "----------\n"
     ]
    },
    {
     "name": "stderr",
     "output_type": "stream",
     "text": [
      "                                                                                                                                                                                                                   \r"
     ]
    },
    {
     "name": "stdout",
     "output_type": "stream",
     "text": [
      "Epoch 8/10\n",
      "----------\n"
     ]
    },
    {
     "name": "stderr",
     "output_type": "stream",
     "text": [
      "                                                                                                                                                                                                                   \r"
     ]
    },
    {
     "name": "stdout",
     "output_type": "stream",
     "text": [
      "Epoch 9/10\n",
      "----------\n"
     ]
    },
    {
     "name": "stderr",
     "output_type": "stream",
     "text": [
      "                                                                                                                                                                                                                   \r"
     ]
    },
    {
     "name": "stdout",
     "output_type": "stream",
     "text": [
      "Epoch 10/10\n",
      "----------\n"
     ]
    },
    {
     "name": "stderr",
     "output_type": "stream",
     "text": [
      "                                                                                                                                                                                                                   \r"
     ]
    }
   ],
   "source": [
    "modified_model_2 = train_model(modified_model_2,trainloader,loss_fn, optimizer, epochs=10, device=device)"
   ]
  },
  {
   "cell_type": "code",
   "execution_count": 40,
   "metadata": {},
   "outputs": [
    {
     "name": "stdout",
     "output_type": "stream",
     "text": [
      "250 16\n",
      "Test Accuracy Modified Vgg 2 : 0.01850000023841858\n"
     ]
    }
   ],
   "source": [
    "num_correct = 0\n",
    "for x_test_batch, y_test_batch in testloader:\n",
    "  modified_model_2.eval()\n",
    "  y_test_batch = y_test_batch.to(device)\n",
    "  x_test_batch = x_test_batch.to(device)\n",
    "  y_pred_batch = modified_model_2(x_test_batch)\n",
    "  _, predicted = torch.max(y_pred_batch, 1)\n",
    "  num_correct += (predicted == y_test_batch).float().sum()\n",
    "accuracy = num_correct/(len(testloader)*testloader.batch_size)\n",
    "print(len(testloader), testloader.batch_size)\n",
    "print(\"Test Accuracy Modified Vgg 2 : {}\".format(accuracy))"
   ]
  },
  {
   "cell_type": "code",
   "execution_count": null,
   "metadata": {},
   "outputs": [],
   "source": []
  }
 ],
 "metadata": {
  "accelerator": "GPU",
  "colab": {
   "provenance": []
  },
  "kernelspec": {
   "display_name": "Python 3 (ipykernel)",
   "language": "python",
   "name": "python3"
  },
  "language_info": {
   "codemirror_mode": {
    "name": "ipython",
    "version": 3
   },
   "file_extension": ".py",
   "mimetype": "text/x-python",
   "name": "python",
   "nbconvert_exporter": "python",
   "pygments_lexer": "ipython3",
   "version": "3.8.10"
  }
 },
 "nbformat": 4,
 "nbformat_minor": 4
}
